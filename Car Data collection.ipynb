{
 "cells": [
  {
   "cell_type": "code",
   "execution_count": 1,
   "metadata": {},
   "outputs": [],
   "source": [
    "import selenium\n",
    "import pandas as pd\n",
    "from selenium import webdriver"
   ]
  },
  {
   "cell_type": "code",
   "execution_count": 2,
   "metadata": {},
   "outputs": [],
   "source": [
    "from bs4 import BeautifulSoup\n",
    "import requests"
   ]
  },
  {
   "cell_type": "code",
   "execution_count": 3,
   "metadata": {},
   "outputs": [],
   "source": [
    "driver=webdriver.Chrome(r'C:\\\\Users\\\\Harshit Reddy\\\\Downloads\\\\chromedriver_win32 (1)\\\\chromedriver.exe')"
   ]
  },
  {
   "cell_type": "code",
   "execution_count": 4,
   "metadata": {},
   "outputs": [],
   "source": [
    "url='https://www.olx.in/item/renault-fluence-15-e4-2011-diesel-iid-1657349984'\n",
    "driver.get(url)"
   ]
  },
  {
   "cell_type": "code",
   "execution_count": 5,
   "metadata": {},
   "outputs": [
    {
     "data": {
      "text/plain": [
       "['Renault Fluence (2011)']"
      ]
     },
     "execution_count": 5,
     "metadata": {},
     "output_type": "execute_result"
    }
   ],
   "source": [
    "Brand=driver.find_elements_by_xpath('//div[@class=\"_35xN1\"]')\n",
    "brand=[]\n",
    "for i in Brand:\n",
    "    brand.append(i.text)\n",
    "brand   "
   ]
  },
  {
   "cell_type": "code",
   "execution_count": 11,
   "metadata": {},
   "outputs": [
    {
     "data": {
      "text/plain": [
       "['DIESEL', '112000.0 KM', 'MANUAL']"
      ]
     },
     "execution_count": 11,
     "metadata": {},
     "output_type": "execute_result"
    }
   ],
   "source": [
    "Number_of_owners=driver.find_elements_by_xpath('//div[@class=\"_3qDp0\"]')\n",
    "owner=[]\n",
    "for i in Number_of_owners:\n",
    "    owner.append(i.text)\n",
    "owner   "
   ]
  },
  {
   "cell_type": "code",
   "execution_count": 5,
   "metadata": {},
   "outputs": [],
   "source": [
    "url='https://www.olx.in/item/hyundai-eon-d-lite-lpg-2013-lpg-iid-1657855195'\n",
    "driver.get(url)"
   ]
  },
  {
   "cell_type": "markdown",
   "metadata": {},
   "source": [
    "2"
   ]
  },
  {
   "cell_type": "code",
   "execution_count": 6,
   "metadata": {},
   "outputs": [
    {
     "data": {
      "text/plain": [
       "['Hyundai Eon (2013)']"
      ]
     },
     "execution_count": 6,
     "metadata": {},
     "output_type": "execute_result"
    }
   ],
   "source": [
    "Brand=driver.find_elements_by_xpath('//div[@class=\"_35xN1\"]')\n",
    "brand=[]\n",
    "for i in Brand:\n",
    "    brand.append(i.text)\n",
    "brand   "
   ]
  },
  {
   "cell_type": "code",
   "execution_count": 8,
   "metadata": {},
   "outputs": [
    {
     "data": {
      "text/plain": [
       "['LPG', '57284.0 KM', 'MANUAL']"
      ]
     },
     "execution_count": 8,
     "metadata": {},
     "output_type": "execute_result"
    }
   ],
   "source": [
    "Petrol_kilometers_transmission=driver.find_elements_by_xpath('//div[@class=\"_3qDp0\"]')\n",
    "petrol=[]\n",
    "for i in Petrol_kilometers_transmission:\n",
    "    petrol.append(i.text)\n",
    "petrol  "
   ]
  },
  {
   "cell_type": "code",
   "execution_count": 14,
   "metadata": {},
   "outputs": [
    {
     "data": {
      "text/plain": [
       "['₹ 2,75,000']"
      ]
     },
     "execution_count": 14,
     "metadata": {},
     "output_type": "execute_result"
    }
   ],
   "source": [
    "Price=driver.find_elements_by_xpath('//div[@class=\"_3FkyT\"]')\n",
    "price=[]\n",
    "for i in Price:\n",
    "    price.append(i.text)\n",
    "price"
   ]
  },
  {
   "cell_type": "markdown",
   "metadata": {},
   "source": [
    "3"
   ]
  },
  {
   "cell_type": "code",
   "execution_count": 15,
   "metadata": {},
   "outputs": [],
   "source": [
    "url='https://www.olx.in/item/hyundai-verna-2013-diesel-iid-1658626468'\n",
    "driver.get(url)"
   ]
  },
  {
   "cell_type": "code",
   "execution_count": 16,
   "metadata": {},
   "outputs": [
    {
     "data": {
      "text/plain": [
       "['Hyundai Verna (2013)']"
      ]
     },
     "execution_count": 16,
     "metadata": {},
     "output_type": "execute_result"
    }
   ],
   "source": [
    "Brand=driver.find_elements_by_xpath('//div[@class=\"_35xN1\"]')\n",
    "brand=[]\n",
    "for i in Brand:\n",
    "    brand.append(i.text)\n",
    "brand   "
   ]
  },
  {
   "cell_type": "code",
   "execution_count": 17,
   "metadata": {},
   "outputs": [
    {
     "data": {
      "text/plain": [
       "['DIESEL', '90000 KM', 'MANUAL']"
      ]
     },
     "execution_count": 17,
     "metadata": {},
     "output_type": "execute_result"
    }
   ],
   "source": [
    "Petrol_kilometers_transmission=driver.find_elements_by_xpath('//div[@class=\"_3qDp0\"]')\n",
    "petrol=[]\n",
    "for i in Petrol_kilometers_transmission:\n",
    "    petrol.append(i.text)\n",
    "petrol  "
   ]
  },
  {
   "cell_type": "code",
   "execution_count": 18,
   "metadata": {},
   "outputs": [
    {
     "data": {
      "text/plain": [
       "['₹ 5,25,000']"
      ]
     },
     "execution_count": 18,
     "metadata": {},
     "output_type": "execute_result"
    }
   ],
   "source": [
    "Price=driver.find_elements_by_xpath('//div[@class=\"_3FkyT\"]')\n",
    "price=[]\n",
    "for i in Price:\n",
    "    price.append(i.text)\n",
    "price"
   ]
  },
  {
   "cell_type": "markdown",
   "metadata": {},
   "source": [
    "4"
   ]
  },
  {
   "cell_type": "code",
   "execution_count": 19,
   "metadata": {},
   "outputs": [],
   "source": [
    "url='https://www.olx.in/item/active-i20-2017-iid-1658626998'\n",
    "driver.get(url)"
   ]
  },
  {
   "cell_type": "code",
   "execution_count": 20,
   "metadata": {},
   "outputs": [
    {
     "data": {
      "text/plain": [
       "['Hyundai Elite I20 (2017)']"
      ]
     },
     "execution_count": 20,
     "metadata": {},
     "output_type": "execute_result"
    }
   ],
   "source": [
    "Brand=driver.find_elements_by_xpath('//div[@class=\"_35xN1\"]')\n",
    "brand=[]\n",
    "for i in Brand:\n",
    "    brand.append(i.text)\n",
    "brand   "
   ]
  },
  {
   "cell_type": "code",
   "execution_count": 21,
   "metadata": {},
   "outputs": [
    {
     "data": {
      "text/plain": [
       "['PETROL', '33,700 KM', 'MANUAL']"
      ]
     },
     "execution_count": 21,
     "metadata": {},
     "output_type": "execute_result"
    }
   ],
   "source": [
    "Petrol_kilometers_transmission=driver.find_elements_by_xpath('//div[@class=\"_3qDp0\"]')\n",
    "petrol=[]\n",
    "for i in Petrol_kilometers_transmission:\n",
    "    petrol.append(i.text)\n",
    "petrol  "
   ]
  },
  {
   "cell_type": "code",
   "execution_count": 22,
   "metadata": {},
   "outputs": [
    {
     "data": {
      "text/plain": [
       "['₹ 4,90,000']"
      ]
     },
     "execution_count": 22,
     "metadata": {},
     "output_type": "execute_result"
    }
   ],
   "source": [
    "Price=driver.find_elements_by_xpath('//div[@class=\"_3FkyT\"]')\n",
    "price=[]\n",
    "for i in Price:\n",
    "    price.append(i.text)\n",
    "price"
   ]
  },
  {
   "cell_type": "markdown",
   "metadata": {},
   "source": [
    "5"
   ]
  },
  {
   "cell_type": "code",
   "execution_count": 23,
   "metadata": {},
   "outputs": [],
   "source": [
    "url='https://www.olx.in/item/hyundai-creta-14-s-diesel-2020-diesel-iid-1658467134'\n",
    "driver.get(url)"
   ]
  },
  {
   "cell_type": "code",
   "execution_count": 24,
   "metadata": {},
   "outputs": [
    {
     "data": {
      "text/plain": [
       "['Hyundai Creta (2020)']"
      ]
     },
     "execution_count": 24,
     "metadata": {},
     "output_type": "execute_result"
    }
   ],
   "source": [
    "Brand=driver.find_elements_by_xpath('//div[@class=\"_35xN1\"]')\n",
    "brand=[]\n",
    "for i in Brand:\n",
    "    brand.append(i.text)\n",
    "brand   "
   ]
  },
  {
   "cell_type": "code",
   "execution_count": 25,
   "metadata": {},
   "outputs": [
    {
     "data": {
      "text/plain": [
       "['DIESEL', '48501.0 KM', 'MANUAL']"
      ]
     },
     "execution_count": 25,
     "metadata": {},
     "output_type": "execute_result"
    }
   ],
   "source": [
    "Petrol_kilometers_transmission=driver.find_elements_by_xpath('//div[@class=\"_3qDp0\"]')\n",
    "petrol=[]\n",
    "for i in Petrol_kilometers_transmission:\n",
    "    petrol.append(i.text)\n",
    "petrol "
   ]
  },
  {
   "cell_type": "code",
   "execution_count": 26,
   "metadata": {},
   "outputs": [
    {
     "data": {
      "text/plain": [
       "['₹ 11,50,000']"
      ]
     },
     "execution_count": 26,
     "metadata": {},
     "output_type": "execute_result"
    }
   ],
   "source": [
    "Price=driver.find_elements_by_xpath('//div[@class=\"_3FkyT\"]')\n",
    "price=[]\n",
    "for i in Price:\n",
    "    price.append(i.text)\n",
    "price"
   ]
  },
  {
   "cell_type": "markdown",
   "metadata": {},
   "source": [
    "6"
   ]
  },
  {
   "cell_type": "code",
   "execution_count": 5,
   "metadata": {},
   "outputs": [],
   "source": [
    "url='https://www.olx.in/item/maruti-suzuki-alto-800-2012-2016-lxi-2014-petrol-iid-1658312041'\n",
    "driver.get(url)"
   ]
  },
  {
   "cell_type": "code",
   "execution_count": 6,
   "metadata": {},
   "outputs": [
    {
     "data": {
      "text/plain": [
       "['Maruti Suzuki Alto 800 (2014)']"
      ]
     },
     "execution_count": 6,
     "metadata": {},
     "output_type": "execute_result"
    }
   ],
   "source": [
    "Brand=driver.find_elements_by_xpath('//div[@class=\"_35xN1\"]')\n",
    "brand=[]\n",
    "for i in Brand:\n",
    "    brand.append(i.text)\n",
    "brand   "
   ]
  },
  {
   "cell_type": "code",
   "execution_count": 7,
   "metadata": {},
   "outputs": [
    {
     "data": {
      "text/plain": [
       "['PETROL', '316.0 KM', 'MANUAL']"
      ]
     },
     "execution_count": 7,
     "metadata": {},
     "output_type": "execute_result"
    }
   ],
   "source": [
    "Petrol_kilometers_transmission=driver.find_elements_by_xpath('//div[@class=\"_3qDp0\"]')\n",
    "petrol=[]\n",
    "for i in Petrol_kilometers_transmission:\n",
    "    petrol.append(i.text)\n",
    "petrol "
   ]
  },
  {
   "cell_type": "code",
   "execution_count": 8,
   "metadata": {},
   "outputs": [
    {
     "data": {
      "text/plain": [
       "['₹ 2,65,000']"
      ]
     },
     "execution_count": 8,
     "metadata": {},
     "output_type": "execute_result"
    }
   ],
   "source": [
    "Price=driver.find_elements_by_xpath('//div[@class=\"_3FkyT\"]')\n",
    "price=[]\n",
    "for i in Price:\n",
    "    price.append(i.text)\n",
    "price"
   ]
  },
  {
   "cell_type": "markdown",
   "metadata": {},
   "source": [
    "7"
   ]
  },
  {
   "cell_type": "code",
   "execution_count": 9,
   "metadata": {},
   "outputs": [],
   "source": [
    "url='https://www.olx.in/item/hyundai-creta-16-sx-automatic-2019-petrol-iid-1657332316'\n",
    "driver.get(url)"
   ]
  },
  {
   "cell_type": "code",
   "execution_count": 10,
   "metadata": {},
   "outputs": [
    {
     "data": {
      "text/plain": [
       "['Hyundai Creta (2019)']"
      ]
     },
     "execution_count": 10,
     "metadata": {},
     "output_type": "execute_result"
    }
   ],
   "source": [
    "Brand=driver.find_elements_by_xpath('//div[@class=\"_35xN1\"]')\n",
    "brand=[]\n",
    "for i in Brand:\n",
    "    brand.append(i.text)\n",
    "brand   "
   ]
  },
  {
   "cell_type": "code",
   "execution_count": 11,
   "metadata": {},
   "outputs": [
    {
     "data": {
      "text/plain": [
       "['PETROL', '30000.0 KM', 'AUTOMATIC']"
      ]
     },
     "execution_count": 11,
     "metadata": {},
     "output_type": "execute_result"
    }
   ],
   "source": [
    "Petrol_kilometers_transmission=driver.find_elements_by_xpath('//div[@class=\"_3qDp0\"]')\n",
    "petrol=[]\n",
    "for i in Petrol_kilometers_transmission:\n",
    "    petrol.append(i.text)\n",
    "petrol "
   ]
  },
  {
   "cell_type": "code",
   "execution_count": 12,
   "metadata": {},
   "outputs": [
    {
     "data": {
      "text/plain": [
       "['₹ 14,00,000']"
      ]
     },
     "execution_count": 12,
     "metadata": {},
     "output_type": "execute_result"
    }
   ],
   "source": [
    "Price=driver.find_elements_by_xpath('//div[@class=\"_3FkyT\"]')\n",
    "price=[]\n",
    "for i in Price:\n",
    "    price.append(i.text)\n",
    "price"
   ]
  },
  {
   "cell_type": "markdown",
   "metadata": {},
   "source": [
    "8"
   ]
  },
  {
   "cell_type": "code",
   "execution_count": 13,
   "metadata": {},
   "outputs": [],
   "source": [
    "url='https://www.olx.in/item/bmw-5-series-520d-2018-diesel-iid-1657331704'\n",
    "driver.get(url)"
   ]
  },
  {
   "cell_type": "code",
   "execution_count": 14,
   "metadata": {},
   "outputs": [
    {
     "data": {
      "text/plain": [
       "['Bmw 5 Series (2018)']"
      ]
     },
     "execution_count": 14,
     "metadata": {},
     "output_type": "execute_result"
    }
   ],
   "source": [
    "Brand=driver.find_elements_by_xpath('//div[@class=\"_35xN1\"]')\n",
    "brand=[]\n",
    "for i in Brand:\n",
    "    brand.append(i.text)\n",
    "brand   "
   ]
  },
  {
   "cell_type": "code",
   "execution_count": 15,
   "metadata": {},
   "outputs": [
    {
     "data": {
      "text/plain": [
       "['DIESEL', '90000.0 KM', 'AUTOMATIC']"
      ]
     },
     "execution_count": 15,
     "metadata": {},
     "output_type": "execute_result"
    }
   ],
   "source": [
    "Petrol_kilometers_transmission=driver.find_elements_by_xpath('//div[@class=\"_3qDp0\"]')\n",
    "petrol=[]\n",
    "for i in Petrol_kilometers_transmission:\n",
    "    petrol.append(i.text)\n",
    "petrol"
   ]
  },
  {
   "cell_type": "code",
   "execution_count": 16,
   "metadata": {},
   "outputs": [
    {
     "data": {
      "text/plain": [
       "['₹ 37,50,000']"
      ]
     },
     "execution_count": 16,
     "metadata": {},
     "output_type": "execute_result"
    }
   ],
   "source": [
    "Price=driver.find_elements_by_xpath('//div[@class=\"_3FkyT\"]')\n",
    "price=[]\n",
    "for i in Price:\n",
    "    price.append(i.text)\n",
    "price"
   ]
  },
  {
   "cell_type": "markdown",
   "metadata": {},
   "source": [
    "9"
   ]
  },
  {
   "cell_type": "code",
   "execution_count": 17,
   "metadata": {},
   "outputs": [],
   "source": [
    "url='https://www.olx.in/item/hyundai-i10-sportz-12-kappa2-2013-petrol-iid-1657009829'\n",
    "driver.get(url)"
   ]
  },
  {
   "cell_type": "code",
   "execution_count": 18,
   "metadata": {},
   "outputs": [
    {
     "data": {
      "text/plain": [
       "['Hyundai I10 (2013)']"
      ]
     },
     "execution_count": 18,
     "metadata": {},
     "output_type": "execute_result"
    }
   ],
   "source": [
    "Brand=driver.find_elements_by_xpath('//div[@class=\"_35xN1\"]')\n",
    "brand=[]\n",
    "for i in Brand:\n",
    "    brand.append(i.text)\n",
    "brand   "
   ]
  },
  {
   "cell_type": "code",
   "execution_count": 19,
   "metadata": {},
   "outputs": [
    {
     "data": {
      "text/plain": [
       "['PETROL', '73775.0 KM', 'MANUAL']"
      ]
     },
     "execution_count": 19,
     "metadata": {},
     "output_type": "execute_result"
    }
   ],
   "source": [
    "Petrol_kilometers_transmission=driver.find_elements_by_xpath('//div[@class=\"_3qDp0\"]')\n",
    "petrol=[]\n",
    "for i in Petrol_kilometers_transmission:\n",
    "    petrol.append(i.text)\n",
    "petrol"
   ]
  },
  {
   "cell_type": "code",
   "execution_count": 20,
   "metadata": {},
   "outputs": [
    {
     "data": {
      "text/plain": [
       "['₹ 3,40,000']"
      ]
     },
     "execution_count": 20,
     "metadata": {},
     "output_type": "execute_result"
    }
   ],
   "source": [
    "Price=driver.find_elements_by_xpath('//div[@class=\"_3FkyT\"]')\n",
    "price=[]\n",
    "for i in Price:\n",
    "    price.append(i.text)\n",
    "price"
   ]
  },
  {
   "cell_type": "markdown",
   "metadata": {},
   "source": [
    "10"
   ]
  },
  {
   "cell_type": "code",
   "execution_count": 21,
   "metadata": {},
   "outputs": [],
   "source": [
    "url='https://www.olx.in/item/mahindra-e2o-t2-2014-electric-iid-1633129715'\n",
    "driver.get(url)"
   ]
  },
  {
   "cell_type": "code",
   "execution_count": 22,
   "metadata": {},
   "outputs": [
    {
     "data": {
      "text/plain": [
       "['Mahindra E2o (2014)']"
      ]
     },
     "execution_count": 22,
     "metadata": {},
     "output_type": "execute_result"
    }
   ],
   "source": [
    "Brand=driver.find_elements_by_xpath('//div[@class=\"_35xN1\"]')\n",
    "brand=[]\n",
    "for i in Brand:\n",
    "    brand.append(i.text)\n",
    "brand   "
   ]
  },
  {
   "cell_type": "code",
   "execution_count": 23,
   "metadata": {},
   "outputs": [
    {
     "data": {
      "text/plain": [
       "['ELECTRIC', '64000.0 KM', 'AUTOMATIC']"
      ]
     },
     "execution_count": 23,
     "metadata": {},
     "output_type": "execute_result"
    }
   ],
   "source": [
    "Petrol_kilometers_transmission=driver.find_elements_by_xpath('//div[@class=\"_3qDp0\"]')\n",
    "petrol=[]\n",
    "for i in Petrol_kilometers_transmission:\n",
    "    petrol.append(i.text)\n",
    "petrol"
   ]
  },
  {
   "cell_type": "code",
   "execution_count": 24,
   "metadata": {},
   "outputs": [
    {
     "data": {
      "text/plain": [
       "['₹ 3,45,000']"
      ]
     },
     "execution_count": 24,
     "metadata": {},
     "output_type": "execute_result"
    }
   ],
   "source": [
    "Price=driver.find_elements_by_xpath('//div[@class=\"_3FkyT\"]')\n",
    "price=[]\n",
    "for i in Price:\n",
    "    price.append(i.text)\n",
    "price"
   ]
  },
  {
   "cell_type": "code",
   "execution_count": null,
   "metadata": {},
   "outputs": [],
   "source": []
  }
 ],
 "metadata": {
  "kernelspec": {
   "display_name": "Python 3",
   "language": "python",
   "name": "python3"
  },
  "language_info": {
   "codemirror_mode": {
    "name": "ipython",
    "version": 3
   },
   "file_extension": ".py",
   "mimetype": "text/x-python",
   "name": "python",
   "nbconvert_exporter": "python",
   "pygments_lexer": "ipython3",
   "version": "3.8.5"
  }
 },
 "nbformat": 4,
 "nbformat_minor": 4
}
