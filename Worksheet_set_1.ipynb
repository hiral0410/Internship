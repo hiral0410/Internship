{
 "cells": [
  {
   "cell_type": "code",
   "execution_count": null,
   "id": "70f137d4",
   "metadata": {},
   "outputs": [],
   "source": [
    "Q1= C)%"
   ]
  },
  {
   "cell_type": "code",
   "execution_count": 2,
   "id": "dbd95136",
   "metadata": {},
   "outputs": [
    {
     "data": {
      "text/plain": [
       "0"
      ]
     },
     "execution_count": 2,
     "metadata": {},
     "output_type": "execute_result"
    }
   ],
   "source": [
    "2//3  Q2= B)0"
   ]
  },
  {
   "cell_type": "code",
   "execution_count": 3,
   "id": "19b039b4",
   "metadata": {},
   "outputs": [
    {
     "data": {
      "text/plain": [
       "24"
      ]
     },
     "execution_count": 3,
     "metadata": {},
     "output_type": "execute_result"
    }
   ],
   "source": [
    "6<<2 Q3= C)24"
   ]
  },
  {
   "cell_type": "code",
   "execution_count": 4,
   "id": "96c9b905",
   "metadata": {},
   "outputs": [
    {
     "data": {
      "text/plain": [
       "2"
      ]
     },
     "execution_count": 4,
     "metadata": {},
     "output_type": "execute_result"
    }
   ],
   "source": [
    "6&2 Q4= A)2"
   ]
  },
  {
   "cell_type": "code",
   "execution_count": 5,
   "id": "18ceaf4e",
   "metadata": {},
   "outputs": [
    {
     "data": {
      "text/plain": [
       "6"
      ]
     },
     "execution_count": 5,
     "metadata": {},
     "output_type": "execute_result"
    }
   ],
   "source": [
    "6|2 Q5= D)6"
   ]
  },
  {
   "cell_type": "code",
   "execution_count": null,
   "id": "60794329",
   "metadata": {},
   "outputs": [],
   "source": [
    "Q6= C)the finally block will be executed no matter if the try block raises an error or not"
   ]
  },
  {
   "cell_type": "code",
   "execution_count": null,
   "id": "894b19a5",
   "metadata": {},
   "outputs": [],
   "source": [
    "Q7= A)It is used to raise an exception"
   ]
  },
  {
   "cell_type": "code",
   "execution_count": null,
   "id": "c86a2e6c",
   "metadata": {},
   "outputs": [],
   "source": [
    "Q8= C)in defining a generator"
   ]
  },
  {
   "cell_type": "code",
   "execution_count": null,
   "id": "05f25a63",
   "metadata": {},
   "outputs": [],
   "source": [
    "Q9= A)_abc C)abc2"
   ]
  },
  {
   "cell_type": "code",
   "execution_count": null,
   "id": "6b1fe2d6",
   "metadata": {},
   "outputs": [],
   "source": [
    "Q10= A)yield B)raise"
   ]
  },
  {
   "cell_type": "code",
   "execution_count": 24,
   "id": "f664c431",
   "metadata": {},
   "outputs": [
    {
     "name": "stdout",
     "output_type": "stream",
     "text": [
      "Factorial of 6 is 720\n"
     ]
    }
   ],
   "source": [
    "Q11\n",
    "import math\n",
    "def factorial(n):\n",
    "    return(math.factorial(n))\n",
    "\n",
    "num = 6\n",
    "print(\"Factorial of\", num, \"is\", factorial(num))"
   ]
  },
  {
   "cell_type": "code",
   "execution_count": 17,
   "id": "7468dcef",
   "metadata": {},
   "outputs": [
    {
     "name": "stdout",
     "output_type": "stream",
     "text": [
      "4 equals to 2 * 2\n",
      "6 equals to 2 * 3\n",
      "8 equals to 2 * 4\n",
      "9 equals to 3 * 3\n",
      "9 is a prime number\n"
     ]
    }
   ],
   "source": [
    "Q12\n",
    "for n in range(2,10):\n",
    "    for x in range(2,n):\n",
    "        if n % x == 0:\n",
    "            print(n, 'equals to', x, '*', n//x)\n",
    "            break\n",
    "else:\n",
    "    print(n,'is a prime number')\n",
    "    "
   ]
  },
  {
   "cell_type": "code",
   "execution_count": 23,
   "id": "6cf0ddf8",
   "metadata": {},
   "outputs": [
    {
     "name": "stdout",
     "output_type": "stream",
     "text": [
      "Given string is palindrome\n"
     ]
    }
   ],
   "source": [
    "Q13\n",
    "string = \"madam\",\n",
    "flag = True\n",
    "\n",
    "\n",
    "for i in range(0,len(string)//2):\n",
    "    if(string[i]!=string[len(string)-i-1]):\n",
    "        flag = False;\n",
    "        break;\n",
    "        \n",
    "if(flag):\n",
    "    print(\"Given string is palindrome\");\n",
    "else:\n",
    "    print(\"Given string is not a palindrome\");"
   ]
  },
  {
   "cell_type": "code",
   "execution_count": 49,
   "id": "4bffc3f7",
   "metadata": {},
   "outputs": [
    {
     "name": "stdout",
     "output_type": "stream",
     "text": [
      "Hypotenuse = 50.0\n",
      "You know the answer!\n",
      "opposite = 30.0\n",
      "You know the answer!\n"
     ]
    }
   ],
   "source": [
    "Q14\n",
    "def pythagoras(opposite_side,adjacent_side,hypotenuse):\n",
    "    if opposite_side == str(\"x\"):\n",
    "        return (\"opposite = \" + str(((hypotenuse**2) - (adjacent_side**2))**0.5))\n",
    "    elif hypotenuse == str(\"x\"):\n",
    "        return (\"Hypotenuse = \" +str(((opposite_side**2) + (adjacent_side**2))**0.5))\n",
    "    else:\n",
    "        return \"You know the answer!\"\n",
    "print(pythagoras(30,40,'x'))\n",
    "print(pythagoras(30,'x',50))\n",
    "print(pythagoras('x',40,50))\n",
    "print(pythagoras(30,40,50))"
   ]
  },
  {
   "cell_type": "code",
   "execution_count": 48,
   "id": "9411bb9c",
   "metadata": {},
   "outputs": [
    {
     "name": "stdout",
     "output_type": "stream",
     "text": [
      "Count of all characters in GeeksforGeeks is :\n",
      " {'G': 2, 'e': 4, 'k': 2, 's': 2, 'f': 1, 'o': 1, 'r': 1}\n"
     ]
    }
   ],
   "source": [
    "Q15\n",
    "test_str = \"GeeksforGeeks\"\n",
    "\n",
    "all_freq = {}\n",
    "\n",
    "for i in test_str:\n",
    "    if i in all_freq:\n",
    "        all_freq[i] += 1\n",
    "    else:\n",
    "        all_freq[i] = 1\n",
    "\n",
    "print (\"Count of all characters in GeeksforGeeks is :\\n \" + str(all_freq))"
   ]
  },
  {
   "cell_type": "code",
   "execution_count": null,
   "id": "202adaf3",
   "metadata": {},
   "outputs": [],
   "source": []
  }
 ],
 "metadata": {
  "kernelspec": {
   "display_name": "Python 3",
   "language": "python",
   "name": "python3"
  },
  "language_info": {
   "codemirror_mode": {
    "name": "ipython",
    "version": 3
   },
   "file_extension": ".py",
   "mimetype": "text/x-python",
   "name": "python",
   "nbconvert_exporter": "python",
   "pygments_lexer": "ipython3",
   "version": "3.8.8"
  }
 },
 "nbformat": 4,
 "nbformat_minor": 5
}
