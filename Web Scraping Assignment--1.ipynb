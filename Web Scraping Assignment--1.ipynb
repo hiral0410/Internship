{
 "cells": [
  {
   "cell_type": "markdown",
   "id": "bea7868e",
   "metadata": {},
   "source": [
    "# Web Scraping Assignment-1"
   ]
  },
  {
   "cell_type": "code",
   "execution_count": 2,
   "id": "a27d5cec",
   "metadata": {},
   "outputs": [
    {
     "name": "stdout",
     "output_type": "stream",
     "text": [
      "Requirement already satisfied: bs4 in c:\\programdata\\anaconda3\\lib\\site-packages (0.0.1)\n",
      "Requirement already satisfied: beautifulsoup4 in c:\\programdata\\anaconda3\\lib\\site-packages (from bs4) (4.9.3)\n",
      "Requirement already satisfied: soupsieve>1.2 in c:\\programdata\\anaconda3\\lib\\site-packages (from beautifulsoup4->bs4) (2.2.1)\n",
      "Requirement already satisfied: requests in c:\\programdata\\anaconda3\\lib\\site-packages (2.25.1)\n",
      "Requirement already satisfied: certifi>=2017.4.17 in c:\\programdata\\anaconda3\\lib\\site-packages (from requests) (2020.12.5)\n",
      "Requirement already satisfied: chardet<5,>=3.0.2 in c:\\programdata\\anaconda3\\lib\\site-packages (from requests) (4.0.0)\n",
      "Requirement already satisfied: urllib3<1.27,>=1.21.1 in c:\\programdata\\anaconda3\\lib\\site-packages (from requests) (1.26.4)\n",
      "Requirement already satisfied: idna<3,>=2.5 in c:\\programdata\\anaconda3\\lib\\site-packages (from requests) (2.10)\n"
     ]
    }
   ],
   "source": [
    "!pip install bs4\n",
    "!pip install requests"
   ]
  },
  {
   "cell_type": "markdown",
   "id": "824ffeff",
   "metadata": {},
   "source": [
    "### Answer 1."
   ]
  },
  {
   "cell_type": "code",
   "execution_count": 3,
   "id": "b1274185",
   "metadata": {},
   "outputs": [],
   "source": [
    "# importing the required libraries\n",
    "from bs4 import BeautifulSoup\n",
    "import requests"
   ]
  },
  {
   "cell_type": "code",
   "execution_count": 5,
   "id": "0ed1f2a9",
   "metadata": {},
   "outputs": [],
   "source": [
    "page = requests.get('https://en.wikipedia.org/wiki/Main_Page')"
   ]
  },
  {
   "cell_type": "code",
   "execution_count": 6,
   "id": "5e235302",
   "metadata": {},
   "outputs": [
    {
     "data": {
      "text/plain": [
       "<Response [200]>"
      ]
     },
     "execution_count": 6,
     "metadata": {},
     "output_type": "execute_result"
    }
   ],
   "source": [
    "page"
   ]
  },
  {
   "cell_type": "code",
   "execution_count": 7,
   "id": "ef63a573",
   "metadata": {},
   "outputs": [
    {
     "data": {
      "text/plain": [
       "<!DOCTYPE html>\n",
       "<html class=\"client-nojs\" dir=\"ltr\" lang=\"en\">\n",
       "<head>\n",
       "<meta charset=\"utf-8\"/>\n",
       "<title>Wikipedia, the free encyclopedia</title>\n",
       "<script>document.documentElement.className=\"client-js\";RLCONF={\"wgBreakFrames\":false,\"wgSeparatorTransformTable\":[\"\",\"\"],\"wgDigitTransformTable\":[\"\",\"\"],\"wgDefaultDateFormat\":\"dmy\",\"wgMonthNames\":[\"\",\"January\",\"February\",\"March\",\"April\",\"May\",\"June\",\"July\",\"August\",\"September\",\"October\",\"November\",\"December\"],\"wgRequestId\":\"653bf7b8-006c-4bc9-808c-ab6148d1034c\",\"wgCSPNonce\":false,\"wgCanonicalNamespace\":\"\",\"wgCanonicalSpecialPageName\":false,\"wgNamespaceNumber\":0,\"wgPageName\":\"Main_Page\",\"wgTitle\":\"Main Page\",\"wgCurRevisionId\":1004593520,\"wgRevisionId\":1004593520,\"wgArticleId\":15580374,\"wgIsArticle\":true,\"wgIsRedirect\":false,\"wgAction\":\"view\",\"wgUserName\":null,\"wgUserGroups\":[\"*\"],\"wgCategories\":[],\"wgPageContentLanguage\":\"en\",\"wgPageContentModel\":\"wikitext\",\"wgRelevantPageName\":\"Main_Page\",\"wgRelevantArticleId\":15580374,\"wgIsProbablyEditable\":false,\"wgRelevantPageIsProbablyEditable\":false,\"wgRestrictionEdit\":[\"sysop\"],\"wgRestrictionMove\":[\"sysop\"],\"wgIsMainPage\":true,\"skin\":\"vector\",\n",
       "\"wgFlaggedRevsParams\":{\"tags\":{\"status\":{\"levels\":-1}}},\"wgVisualEditor\":{\"pageLanguageCode\":\"en\",\"pageLanguageDir\":\"ltr\",\"pageVariantFallbacks\":\"en\"},\"wgMFDisplayWikibaseDescriptions\":{\"search\":true,\"nearby\":true,\"watchlist\":true,\"tagline\":false},\"wgWMESchemaEditAttemptStepOversample\":false,\"wgWMEPageLength\":4000,\"wgNoticeProject\":\"wikipedia\",\"wgMediaViewerOnClick\":true,\"wgMediaViewerEnabledByDefault\":true,\"wgPopupsFlags\":10,\"wgULSCurrentAutonym\":\"English\",\"wgEditSubmitButtonLabelPublish\":true,\"wgCentralAuthMobileDomain\":false,\"wgULSPosition\":\"interlanguage\",\"wgULSisCompactLinksEnabled\":true,\"wgWikibaseItemId\":\"Q5296\",\"wgGENewcomerTasksGuidanceEnabled\":true,\"wgGEAskQuestionEnabled\":false,\"wgGELinkRecommendationsFrontendEnabled\":false};RLSTATE={\"ext.globalCssJs.user.styles\":\"ready\",\"site.styles\":\"ready\",\"user.styles\":\"ready\",\"ext.globalCssJs.user\":\"ready\",\"user\":\"ready\",\"user.options\":\"loading\",\"skins.vector.styles.legacy\":\"ready\",\"ext.visualEditor.desktopArticleTarget.noscript\":\n",
       "\"ready\",\"ext.wikimediaBadges\":\"ready\",\"ext.uls.interlanguage\":\"ready\"};RLPAGEMODULES=[\"site\",\"mediawiki.page.ready\",\"skins.vector.legacy.js\",\"ext.gadget.ReferenceTooltips\",\"ext.gadget.charinsert\",\"ext.gadget.extra-toolbar-buttons\",\"ext.gadget.refToolbar\",\"ext.gadget.switcher\",\"mmv.head\",\"mmv.bootstrap.autostart\",\"ext.visualEditor.desktopArticleTarget.init\",\"ext.visualEditor.targetLoader\",\"ext.eventLogging\",\"ext.wikimediaEvents\",\"ext.navigationTiming\",\"ext.cx.eventlogging.campaigns\",\"ext.centralNotice.geoIP\",\"ext.centralNotice.startUp\",\"ext.centralauth.centralautologin\",\"ext.popups\",\"ext.uls.interface\",\"ext.growthExperiments.SuggestedEditSession\"];</script>\n",
       "<script>(RLQ=window.RLQ||[]).push(function(){mw.loader.implement(\"user.options@1i9g4\",function($,jQuery,require,module){mw.user.tokens.set({\"patrolToken\":\"+\\\\\",\"watchToken\":\"+\\\\\",\"csrfToken\":\"+\\\\\"});});});</script>\n",
       "<link href=\"/w/load.php?lang=en&amp;modules=ext.uls.interlanguage%7Cext.visualEditor.desktopArticleTarget.noscript%7Cext.wikimediaBadges%7Cskins.vector.styles.legacy&amp;only=styles&amp;skin=vector\" rel=\"stylesheet\"/>\n",
       "<script async=\"\" src=\"/w/load.php?lang=en&amp;modules=startup&amp;only=scripts&amp;raw=1&amp;skin=vector\"></script>\n",
       "<meta content=\"\" name=\"ResourceLoaderDynamicStyles\"/>\n",
       "<link href=\"/w/load.php?lang=en&amp;modules=site.styles&amp;only=styles&amp;skin=vector\" rel=\"stylesheet\"/>\n",
       "<meta content=\"MediaWiki 1.38.0-wmf.18\" name=\"generator\"/>\n",
       "<meta content=\"origin\" name=\"referrer\"/>\n",
       "<meta content=\"origin-when-crossorigin\" name=\"referrer\"/>\n",
       "<meta content=\"origin-when-cross-origin\" name=\"referrer\"/>\n",
       "<meta content=\"telephone=no\" name=\"format-detection\"/>\n",
       "<meta content=\"Wikipedia, the free encyclopedia\" property=\"og:title\"/>\n",
       "<meta content=\"website\" property=\"og:type\"/>\n",
       "<link href=\"//upload.wikimedia.org\" rel=\"preconnect\"/>\n",
       "<link href=\"//en.m.wikipedia.org/wiki/Main_Page\" media=\"only screen and (max-width: 720px)\" rel=\"alternate\"/>\n",
       "<link href=\"/w/api.php?action=featuredfeed&amp;feed=potd&amp;feedformat=atom\" rel=\"alternate\" title=\"Wikipedia picture of the day feed\" type=\"application/atom+xml\"/>\n",
       "<link href=\"/w/api.php?action=featuredfeed&amp;feed=featured&amp;feedformat=atom\" rel=\"alternate\" title=\"Wikipedia featured articles feed\" type=\"application/atom+xml\"/>\n",
       "<link href=\"/w/api.php?action=featuredfeed&amp;feed=onthisday&amp;feedformat=atom\" rel=\"alternate\" title='Wikipedia \"On this day...\" feed' type=\"application/atom+xml\"/>\n",
       "<link href=\"/static/apple-touch/wikipedia.png\" rel=\"apple-touch-icon\"/>\n",
       "<link href=\"/static/favicon/wikipedia.ico\" rel=\"shortcut icon\"/>\n",
       "<link href=\"/w/opensearch_desc.php\" rel=\"search\" title=\"Wikipedia (en)\" type=\"application/opensearchdescription+xml\"/>\n",
       "<link href=\"//en.wikipedia.org/w/api.php?action=rsd\" rel=\"EditURI\" type=\"application/rsd+xml\"/>\n",
       "<link href=\"https://creativecommons.org/licenses/by-sa/3.0/\" rel=\"license\"/>\n",
       "<link href=\"https://en.wikipedia.org/wiki/Main_Page\" rel=\"canonical\"/>\n",
       "<link href=\"//meta.wikimedia.org\" rel=\"dns-prefetch\"/>\n",
       "<link href=\"//login.wikimedia.org\" rel=\"dns-prefetch\"/>\n",
       "</head>\n",
       "<body class=\"mediawiki ltr sitedir-ltr mw-hide-empty-elt ns-0 ns-subject page-Main_Page rootpage-Main_Page skin-vector action-view skin-vector-legacy\"><div class=\"noprint\" id=\"mw-page-base\"></div>\n",
       "<div class=\"noprint\" id=\"mw-head-base\"></div>\n",
       "<div class=\"mw-body\" id=\"content\" role=\"main\">\n",
       "<a id=\"top\"></a>\n",
       "<div id=\"siteNotice\"><!-- CentralNotice --></div>\n",
       "<div class=\"mw-indicators\">\n",
       "</div>\n",
       "<h1 class=\"firstHeading mw-first-heading\" id=\"firstHeading\" style=\"display: none\">Main Page</h1>\n",
       "<div class=\"vector-body\" id=\"bodyContent\">\n",
       "<div class=\"noprint\" id=\"siteSub\">From Wikipedia, the free encyclopedia</div>\n",
       "<div id=\"contentSub\"></div>\n",
       "<div id=\"contentSub2\"></div>\n",
       "<div id=\"jump-to-nav\"></div>\n",
       "<a class=\"mw-jump-link\" href=\"#mw-head\">Jump to navigation</a>\n",
       "<a class=\"mw-jump-link\" href=\"#searchInput\">Jump to search</a>\n",
       "<div class=\"mw-body-content mw-content-ltr\" dir=\"ltr\" id=\"mw-content-text\" lang=\"en\"><div class=\"mw-parser-output\"><style data-mw-deduplicate=\"TemplateStyles:r1049785579\">.mw-parser-output #mp-topbanner{position:relative;box-sizing:border-box;min-width:47em;border-color:#ddd;background-color:#f9f9f9;white-space:nowrap}.mw-parser-output .mp-bordered,.mw-parser-output .mp-h2,body.skin-timeless .mw-parser-output .mp-h2{border-width:1px;border-style:solid}.mw-parser-output #mp-topbanner,.mw-parser-output .mp-h2,.mw-parser-output #mp-left{color:#000}.mw-parser-output #mp-welcomecount{margin:0.4em;width:22em;text-align:center}.mw-parser-output #mp-welcome{font-size:162%;padding:0.1em}.mw-parser-output #mp-free{font-size:95%}.mw-parser-output #articlecount{font-size:85%}.mw-parser-output #mp-portals{position:absolute;right:-1em;top:50%;margin-top:-2.4em;width:38%;min-width:25em;font-size:95%}.mw-parser-output #mp-portals li{position:absolute;left:0;top:0}.mw-parser-output #mp-portals .portal-hmid{left:33%}.mw-parser-output #mp-portals .portal-hright{left:66%}.mw-parser-output #mp-portals .portal-vmid{top:1.6em}.mw-parser-output #mp-portals .portal-vbot{top:3.2em}.mw-parser-output #mp-portals li:last-child{font-weight:bold}.mw-parser-output #mp-banner{margin-top:4px;padding:0.5em;background-color:#fffaf5;border-color:#f2e0ce}.mw-parser-output .mp-h2,body.skin-timeless .mw-parser-output .mp-h2{margin:0.5em;padding:0.2em 0.4em;font-size:120%;font-weight:bold;font-family:inherit}.mw-parser-output h2.mp-h2::after{border:none}.mw-parser-output .mp-later{font-size:85%;font-weight:normal}.mw-parser-output #mp-upper{width:100%;margin-top:4px;margin-bottom:0;border-spacing:0;border-collapse:separate}.mw-parser-output #mp-upper .mid-table{border-color:transparent}.mw-parser-output #mp-left{width:55%;border-color:#cef2e0;background:#f5fffa}.mw-parser-output #mp-right{width:45%;border-color:#cedff2;background:#f5faff}.mw-parser-output #mp-left,.mw-parser-output #mp-right{padding:0;vertical-align:top}.mw-parser-output #mp-left .mp-h2{background:#cef2e0;border-color:#a3bfb1}.mw-parser-output #mp-right .mp-h2{background:#cedff2;border-color:#a3b0bf}.mw-parser-output #mp-tfa,.mw-parser-output #mp-dyk,.mw-parser-output #mp-itn,.mw-parser-output #mp-otd,.mw-parser-output #mp-other-lower>div{padding:0.1em 0.6em}.mw-parser-output #mp-dyk-h2,.mw-parser-output #mp-otd-h2{clear:both}.mw-parser-output #mp-middle{margin-top:4px;border-color:#f2cedd;background:#fff5fa}.mw-parser-output #mp-middle,.mw-parser-output #mp-lower,.mw-parser-output #mp-other-lower{overflow:auto}.mw-parser-output #mp-tfl-h2{background:#f2cedd;border-color:#bfa3af}.mw-parser-output #mp-tfl{padding:0.3em 0.7em}.mw-parser-output #mp-lower{margin-top:4px;border-color:#ddcef2;background:#faf5ff}.mw-parser-output #mp-tfp-h2{background:#ddcef2;border-color:#afa3bf}.mw-parser-output #mp-tfp{margin:0.1em 0.4em 0.6em}.mw-parser-output #mp-other-lower{padding:0;border-color:#e2e2e2;margin-top:4px}.mw-parser-output #mp-dyk,.mw-parser-output #mp-otd,.mw-parser-output #mp-other-lower{padding-bottom:0.5em}.mw-parser-output #mp-other-lower .mp-h2{background:#eee;border-color:#ddd;color:#222}@media(max-width:875px){body.skin--responsive .mw-parser-output #mp-welcomecount{width:auto}body.skin--responsive .mw-parser-output #mp-topbanner{min-width:0;white-space:normal}body.skin--responsive .mw-parser-output #mp-portals{position:static;width:auto;min-width:0;text-align:center;border-top:1px solid #ddd;padding:0.4em 0;margin:0 0.4em}body.skin--responsive .mw-parser-output #mp-portals li{position:static;display:inline;padding:0 5px;white-space:nowrap}body.skin--responsive .mw-parser-output table,body.skin--responsive .mw-parser-output tr,body.skin--responsive .mw-parser-output td,body.skin--responsive .mw-parser-output tbody{display:block!important;width:100%!important;box-sizing:border-box}body.skin--responsive .mw-parser-output #mp-tfp tr:first-child td:first-child a{text-align:center;display:table;margin:0 auto}}.mw-parser-output div.hlist.inline ul,.mw-parser-output div.hlist.inline li,.mw-parser-output div.hlist.inline{display:inline}</style>\n",
       "<div class=\"mp-bordered\" id=\"mp-topbanner\">\n",
       "<div id=\"mp-welcomecount\">\n",
       "<div id=\"mp-welcome\">Welcome to <a href=\"/wiki/Wikipedia\" title=\"Wikipedia\">Wikipedia</a>,</div>\n",
       "<div id=\"mp-free\">the <a href=\"/wiki/Free_content\" title=\"Free content\">free</a> <a href=\"/wiki/Encyclopedia\" title=\"Encyclopedia\">encyclopedia</a> that <a href=\"/wiki/Help:Introduction_to_Wikipedia\" title=\"Help:Introduction to Wikipedia\">anyone can edit</a>.</div>\n",
       "<div id=\"articlecount\"><a href=\"/wiki/Special:Statistics\" title=\"Special:Statistics\">6,442,925</a> articles in <a href=\"/wiki/English_language\" title=\"English language\">English</a></div>\n",
       "</div>\n",
       "<ul id=\"mp-portals\">\n",
       "<li><a href=\"/wiki/Portal:The_arts\" title=\"Portal:The arts\">The arts</a></li>\n",
       "<li class=\"portal-vmid\"><a href=\"/wiki/Portal:Biography\" title=\"Portal:Biography\">Biography</a></li>\n",
       "<li class=\"portal-vbot\"><a href=\"/wiki/Portal:Geography\" title=\"Portal:Geography\">Geography</a></li>\n",
       "<li class=\"portal-hmid\"><a href=\"/wiki/Portal:History\" title=\"Portal:History\">History</a></li>\n",
       "<li class=\"portal-hmid portal-vmid\"><a href=\"/wiki/Portal:Mathematics\" title=\"Portal:Mathematics\">Mathematics</a></li>\n",
       "<li class=\"portal-hmid portal-vbot\"><a href=\"/wiki/Portal:Science\" title=\"Portal:Science\">Science</a></li>\n",
       "<li class=\"portal-hright\"><a href=\"/wiki/Portal:Society\" title=\"Portal:Society\">Society</a></li>\n",
       "<li class=\"portal-hright portal-vmid\"><a href=\"/wiki/Portal:Technology\" title=\"Portal:Technology\">Technology</a></li>\n",
       "<li class=\"portal-hright portal-vbot\"><a href=\"/wiki/Wikipedia:Contents/Portals\" title=\"Wikipedia:Contents/Portals\">All portals</a></li>\n",
       "</ul>\n",
       "</div>\n",
       "<table id=\"mp-upper\" role=\"presentation\">\n",
       "<tbody><tr>\n",
       "<td class=\"MainPageBG mp-bordered\" id=\"mp-left\">\n",
       "<h2 class=\"mp-h2\" id=\"mp-tfa-h2\"><span id=\"From_today.27s_featured_article\"></span><span class=\"mw-headline\" id=\"From_today's_featured_article\">From today's featured article</span></h2>\n",
       "<div id=\"mp-tfa\"><div id=\"mp-tfa-img\" style=\"float: left; margin: 0.5em 0.9em 0.4em 0em;\">\n",
       "<div class=\"thumbinner mp-thumb\" style=\"background: transparent; border: none; padding: 0; max-width: 171px;\">\n",
       "<a class=\"image\" href=\"/wiki/File:NYC_-_New_York_Stock_Exchange.JPG\" title=\"Facade of the New York Stock Exchange Building\"><img alt=\"Facade of the New York Stock Exchange Building\" data-file-height=\"4000\" data-file-width=\"6000\" decoding=\"async\" height=\"114\" src=\"//upload.wikimedia.org/wikipedia/commons/thumb/4/43/NYC_-_New_York_Stock_Exchange.JPG/171px-NYC_-_New_York_Stock_Exchange.JPG\" srcset=\"//upload.wikimedia.org/wikipedia/commons/thumb/4/43/NYC_-_New_York_Stock_Exchange.JPG/257px-NYC_-_New_York_Stock_Exchange.JPG 1.5x, //upload.wikimedia.org/wikipedia/commons/thumb/4/43/NYC_-_New_York_Stock_Exchange.JPG/342px-NYC_-_New_York_Stock_Exchange.JPG 2x\" width=\"171\"/></a><div class=\"thumbcaption\" style=\"padding: 0.25em 0; word-wrap: break-word;\">Facade of the New York Stock Exchange Building</div></div>\n",
       "</div>\n",
       "<p>The <b><a href=\"/wiki/New_York_Stock_Exchange_Building\" title=\"New York Stock Exchange Building\">New York Stock Exchange Building</a></b> is the headquarters of the <a href=\"/wiki/New_York_Stock_Exchange\" title=\"New York Stock Exchange\">New York Stock Exchange</a> (NYSE). It is composed of two connected structures in <a href=\"/wiki/Lower_Manhattan\" title=\"Lower Manhattan\">Lower Manhattan</a>, <a href=\"/wiki/New_York_City\" title=\"New York City\">New York City</a>. One part, the original structure at 18 <a href=\"/wiki/Broad_Street_(Manhattan)\" title=\"Broad Street (Manhattan)\">Broad Street</a>, was designed in the <a href=\"/wiki/Neoclassical_architecture\" title=\"Neoclassical architecture\">Classical Revival</a> style by <a href=\"/wiki/George_B._Post\" title=\"George B. Post\">George B. Post</a>; the other is a 23-story office annex at 11 <a href=\"/wiki/Wall_Street\" title=\"Wall Street\">Wall Street</a>, designed by <a href=\"/wiki/Trowbridge_%26_Livingston\" title=\"Trowbridge &amp; Livingston\">Trowbridge &amp; Livingston</a> in a similar style. The NYSE had occupied the site on Broad Street since 1865 but had to expand its previous building several times, and so the structure at 18 Broad Street was erected between 1901 and 1903. Within two decades, the new building had become overcrowded, and the annex at 11 Wall Street was added between 1920 and 1922. The original structure's colonnade is an icon of the NYSE; behind it is the main trading floor, a 72-foot-tall (22 m) rectangular space. The building was designated a <a href=\"/wiki/National_Historic_Landmark\" title=\"National Historic Landmark\">National Historic Landmark</a> in 1978 and  a city landmark by the <a href=\"/wiki/New_York_City_Landmarks_Preservation_Commission\" title=\"New York City Landmarks Preservation Commission\">New York City Landmarks Preservation Commission</a> in 1985. (<b><a href=\"/wiki/New_York_Stock_Exchange_Building\" title=\"New York Stock Exchange Building\">Full article...</a></b>)\n",
       "</p>\n",
       "<div class=\"tfa-recent\" style=\"text-align: right;\">\n",
       "Recently featured: <div class=\"hlist hlist-separated inline\">\n",
       "<ul><li><i><a href=\"/wiki/Archaeoindris\" title=\"Archaeoindris\">Archaeoindris</a></i></li>\n",
       "<li><a href=\"/wiki/Legend_Entertainment\" title=\"Legend Entertainment\">Legend Entertainment</a></li>\n",
       "<li><a href=\"/wiki/Schichau-class_torpedo_boat\" title=\"Schichau-class torpedo boat\">Schichau-class torpedo boat</a></li></ul>\n",
       "</div></div>\n",
       "<div class=\"tfa-footer hlist hlist-separated noprint\" style=\"text-align: right;\">\n",
       "<ul><li><b><a href=\"/wiki/Wikipedia:Today%27s_featured_article/January_2022\" title=\"Wikipedia:Today's featured article/January 2022\">Archive</a></b></li>\n",
       "<li><b><a class=\"extiw\" href=\"https://lists.wikimedia.org/postorius/lists/daily-article-l.lists.wikimedia.org/\" title=\"mail:daily-article-l\">By email</a></b></li>\n",
       "<li><b><a href=\"/wiki/Wikipedia:Featured_articles\" title=\"Wikipedia:Featured articles\">More featured articles</a></b></li></ul>\n",
       "</div></div>\n",
       "<h2 class=\"mp-h2\" id=\"mp-dyk-h2\"><span class=\"mw-headline\" id=\"Did_you_know_...\">Did you know ...</span></h2>\n",
       "<div id=\"mp-dyk\">\n",
       "<div class=\"dyk-img\" style=\"float: right; margin-left: 0.5em;\">\n",
       "<div class=\"thumbinner mp-thumb\" style=\"background: transparent; border: none; padding: 0; max-width: 140px;\">\n",
       "<a class=\"image\" href=\"/wiki/File:Preet_Chandi_(cropped).jpg\" title=\"Preet Chandi\"><img alt=\"Preet Chandi\" data-file-height=\"279\" data-file-width=\"279\" decoding=\"async\" height=\"140\" src=\"//upload.wikimedia.org/wikipedia/commons/thumb/2/2e/Preet_Chandi_%28cropped%29.jpg/140px-Preet_Chandi_%28cropped%29.jpg\" srcset=\"//upload.wikimedia.org/wikipedia/commons/thumb/2/2e/Preet_Chandi_%28cropped%29.jpg/210px-Preet_Chandi_%28cropped%29.jpg 1.5x, //upload.wikimedia.org/wikipedia/commons/2/2e/Preet_Chandi_%28cropped%29.jpg 2x\" width=\"140\"/></a><div class=\"thumbcaption\" style=\"padding: 0.25em 0; word-wrap: break-word;\">Preet Chandi</div></div>\n",
       "</div>\n",
       "<ul><li>... that <b><a href=\"/wiki/Preet_Chandi\" title=\"Preet Chandi\">Preet Chandi</a></b>, the first known woman of colour to walk solo to the South Pole, contacted friends to be bridesmaids during her expedition?</li>\n",
       "<li>... that in the 12th century, when wearing pure silk was forbidden for Muslim men, a silk-and-cotton <b><a href=\"/wiki/Blend_(textile)\" title=\"Blend (textile)\">blend</a></b> known as <a href=\"/wiki/Mashru\" title=\"Mashru\">mashru</a> solved the problem?</li>\n",
       "<li>... that <b><a class=\"mw-redirect\" href=\"/wiki/Nathan_G._Agostinelli\" title=\"Nathan G. Agostinelli\">Nathan G. Agostinelli</a></b> stomped on a <a href=\"/wiki/Viet_Cong\" title=\"Viet Cong\">Viet Cong</a> flag during his campaign for <a href=\"/wiki/Connecticut_State_Comptroller\" title=\"Connecticut State Comptroller\">Connecticut State Comptroller</a>?</li>\n",
       "<li>... that <b><a href=\"/wiki/Lille_langebro\" title=\"Lille langebro\">Lille langebro</a></b> looks like a twisted ribbon when it is lit up after dark?</li>\n",
       "<li>... that American business executive <b><a href=\"/wiki/William_M._Ellinghaus\" title=\"William M. Ellinghaus\">William M. Ellinghaus</a></b> helped rescue New York City from <a href=\"/wiki/History_of_New_York_City_(1946%E2%80%931977)#Fiscal_crisis\" title=\"History of New York City (1946–1977)\">bankruptcy in the late 1970s</a>?</li>\n",
       "<li>... that <b><a href=\"/wiki/Lifetime_Medical_Television\" title=\"Lifetime Medical Television\">Lifetime Medical Television</a></b>, \"the network for physicians only\", charged the highest advertising rates on cable?</li>\n",
       "<li>... that after <b><a href=\"/wiki/Goo_Hara\" title=\"Goo Hara\">Goo Hara</a></b><span class=\"nowrap\" style=\"padding-left:0.1em;\">'s</span> mother abandoned her and Goo died young, South Korean law was changed to prevent such parents from claiming inheritance?</li>\n",
       "<li>... that you could be arrested for trying to arrange a <a href=\"/wiki/Contract_killing\" title=\"Contract killing\">contract killing</a> through <b><a href=\"/wiki/RentAHitman.com\" title=\"RentAHitman.com\">RentAHitman.com</a></b>?</li></ul>\n",
       "<div class=\"dyk-footer hlist noprint\" style=\"margin-top: 0.5em; text-align: right;\">\n",
       "<ul><li><b><a href=\"/wiki/Wikipedia:Recent_additions\" title=\"Wikipedia:Recent additions\">Archive</a></b></li>\n",
       "<li><b><a href=\"/wiki/Help:Your_first_article\" title=\"Help:Your first article\">Start a new article</a></b></li>\n",
       "<li><b><a href=\"/wiki/Template_talk:Did_you_know\" title=\"Template talk:Did you know\">Nominate an article</a></b></li></ul>\n",
       "</div>\n",
       "</div>\n",
       "</td>\n",
       "<td class=\"mp-bordered mid-table\">\n",
       "</td>\n",
       "<td class=\"MainPageBG mp-bordered\" id=\"mp-right\">\n",
       "<h2 class=\"mp-h2\" id=\"mp-itn-h2\"><span class=\"mw-headline\" id=\"In_the_news\">In the news</span></h2>\n",
       "<div id=\"mp-itn\"><style data-mw-deduplicate=\"TemplateStyles:r1053378754\">.mw-parser-output .itn-img{float:right;margin-left:0.5em;margin-top:0.2em}</style><div class=\"itn-img\" role=\"figure\">\n",
       "<div class=\"thumbinner mp-thumb\" style=\"background: transparent; border: none; padding: 0; max-width: 140px;\">\n",
       "<a class=\"image\" href=\"/wiki/File:Tonga_Volcano_Eruption_2022-01-15_0410Z_to_0550Z.gif\" title=\"Satellite composite animation of the Hunga Tonga eruption\"><img alt=\"Satellite composite animation of the Hunga Tonga eruption\" data-file-height=\"2319\" data-file-width=\"2319\" decoding=\"async\" height=\"140\" src=\"//upload.wikimedia.org/wikipedia/commons/thumb/2/28/Tonga_Volcano_Eruption_2022-01-15_0410Z_to_0550Z.gif/140px-Tonga_Volcano_Eruption_2022-01-15_0410Z_to_0550Z.gif\" srcset=\"//upload.wikimedia.org/wikipedia/commons/thumb/2/28/Tonga_Volcano_Eruption_2022-01-15_0410Z_to_0550Z.gif/210px-Tonga_Volcano_Eruption_2022-01-15_0410Z_to_0550Z.gif 1.5x, //upload.wikimedia.org/wikipedia/commons/thumb/2/28/Tonga_Volcano_Eruption_2022-01-15_0410Z_to_0550Z.gif/280px-Tonga_Volcano_Eruption_2022-01-15_0410Z_to_0550Z.gif 2x\" width=\"140\"/></a><div class=\"thumbcaption\" style=\"padding: 0.25em 0; word-wrap: break-word; text-align: left;\">Hunga Tonga eruption</div></div>\n",
       "</div>\n",
       "<ul><li>Belgian-British pilot <b><a href=\"/wiki/Zara_Rutherford\" title=\"Zara Rutherford\">Zara Rutherford</a></b> becomes the youngest woman to fly solo around the world.</li>\n",
       "<li><a href=\"/wiki/Microsoft\" title=\"Microsoft\">Microsoft</a> announces its forthcoming acquisition, pending regulatory approvals, of <a href=\"/wiki/Video_game\" title=\"Video game\">video game</a> company <b><a href=\"/wiki/Activision_Blizzard\" title=\"Activision Blizzard\">Activision Blizzard</a></b>.</li>\n",
       "<li><b><a href=\"/wiki/2022_Afghanistan_earthquake\" title=\"2022 Afghanistan earthquake\">A 5.3 magnitude earthquake</a></b> in <a href=\"/wiki/Badghis_Province\" title=\"Badghis Province\">Badghis Province</a>, Afghanistan, kills at least 28 people.</li>\n",
       "<li>The <b><a href=\"/wiki/2022_Hunga_Tonga_eruption_and_tsunami\" title=\"2022 Hunga Tonga eruption and tsunami\">Hunga Tonga volcano erupts</a></b> <i>(satellite animation shown)</i>, causing damage in Tonga and <a href=\"/wiki/Tsunami\" title=\"Tsunami\">tsunamis</a> across the <a href=\"/wiki/Pacific_Ocean\" title=\"Pacific Ocean\">Pacific Ocean</a>.</li></ul>\n",
       "<div class=\"itn-footer\" style=\"margin-top: 0.5em;\">\n",
       "<div><b><a href=\"/wiki/Portal:Current_events\" title=\"Portal:Current events\">Ongoing</a></b>: <div class=\"hlist hlist-separated inline\">\n",
       "<ul><li><a href=\"/wiki/COVID-19_pandemic\" title=\"COVID-19 pandemic\">COVID-19 pandemic</a></li></ul></div></div>\n",
       "<div><b><a href=\"/wiki/Deaths_in_2022\" title=\"Deaths in 2022\">Recent deaths</a></b>: <div class=\"hlist hlist-separated inline\">\n",
       "<ul><li><a href=\"/wiki/Emil_Mangelsdorff\" title=\"Emil Mangelsdorff\">Emil Mangelsdorff</a></li>\n",
       "<li><a href=\"/wiki/Th%C3%ADch_Nh%E1%BA%A5t_H%E1%BA%A1nh\" title=\"Thích Nhất Hạnh\">Thích Nhất Hạnh</a></li>\n",
       "<li><span class=\"nowrap\"><a href=\"/wiki/M._K._Prasad\" title=\"M. K. Prasad\">M. K. Prasad</a></span></li>\n",
       "<li><a href=\"/wiki/Clark_Gillies\" title=\"Clark Gillies\">Clark Gillies</a></li>\n",
       "<li><a href=\"/wiki/Bob_Goalby\" title=\"Bob Goalby\">Bob Goalby</a></li>\n",
       "<li><a href=\"/wiki/David_Cox_(statistician)\" title=\"David Cox (statistician)\">David Cox</a></li></ul></div></div></div>\n",
       "<div class=\"itn-footer hlist hlist-separated noprint\" style=\"text-align: right;\">\n",
       "<ul><li><b><a href=\"/wiki/Wikipedia:In_the_news/Candidates\" title=\"Wikipedia:In the news/Candidates\">Nominate an article</a></b></li></ul></div></div>\n",
       "<h2 class=\"mp-h2\" id=\"mp-otd-h2\"><span class=\"mw-headline\" id=\"On_this_day\">On this day</span></h2>\n",
       "<div id=\"mp-otd\">\n",
       "<p><b><a href=\"/wiki/January_24\" title=\"January 24\">January 24</a></b>: <b><a href=\"/wiki/Fatimah\" title=\"Fatimah\">Mother's Day</a></b> in Iran (2022): <b><a href=\"/wiki/Day_of_the_Unification_of_the_Romanian_Principalities\" title=\"Day of the Unification of the Romanian Principalities\">Day of the Unification of the Romanian Principalities</a></b> in Romania\n",
       "</p>\n",
       "<div id=\"mp-otd-img\" style=\"float:right;margin-left:0.5em;\">\n",
       "<div class=\"thumbinner mp-thumb\" style=\"background: transparent; border: none; padding: 0; max-width: 158px;\">\n",
       "<a class=\"image\" href=\"/wiki/File:The_Calcutta_University_by_Francis_Frith.jpg\" title=\"University of Calcutta shortly after its founding\"><img alt=\"University of Calcutta shortly after its founding\" data-file-height=\"600\" data-file-width=\"767\" decoding=\"async\" height=\"124\" src=\"//upload.wikimedia.org/wikipedia/commons/thumb/4/4a/The_Calcutta_University_by_Francis_Frith.jpg/158px-The_Calcutta_University_by_Francis_Frith.jpg\" srcset=\"//upload.wikimedia.org/wikipedia/commons/thumb/4/4a/The_Calcutta_University_by_Francis_Frith.jpg/237px-The_Calcutta_University_by_Francis_Frith.jpg 1.5x, //upload.wikimedia.org/wikipedia/commons/thumb/4/4a/The_Calcutta_University_by_Francis_Frith.jpg/316px-The_Calcutta_University_by_Francis_Frith.jpg 2x\" width=\"158\"/></a><div class=\"thumbcaption\" style=\"padding: 0.25em 0; word-wrap: break-word;\">University of Calcutta shortly after its founding</div></div>\n",
       "</div>\n",
       "<ul><li><a href=\"/wiki/AD_41\" title=\"AD 41\">AD 41</a> – <a href=\"/wiki/Cassius_Chaerea\" title=\"Cassius Chaerea\">Cassius Chaerea</a> and disgruntled <a href=\"/wiki/Praetorian_Guard\" title=\"Praetorian Guard\">Praetorian Guards</a> murdered the <a href=\"/wiki/Roman_emperor\" title=\"Roman emperor\">Roman emperor</a> <b><a href=\"/wiki/Caligula\" title=\"Caligula\">Caligula</a></b>, replacing him with his uncle <a href=\"/wiki/Claudius\" title=\"Claudius\">Claudius</a>.</li>\n",
       "<li><a href=\"/wiki/1857\" title=\"1857\">1857</a> – The <b><a href=\"/wiki/University_of_Calcutta\" title=\"University of Calcutta\">University of Calcutta</a></b> <i>(pictured)</i>, the first modern university in the <a href=\"/wiki/Indian_subcontinent\" title=\"Indian subcontinent\">Indian subcontinent</a>, was established.</li>\n",
       "<li><a href=\"/wiki/1915\" title=\"1915\">1915</a> – <a href=\"/wiki/World_War_I\" title=\"World War I\">First World War</a>: British ships of the <a href=\"/wiki/Grand_Fleet\" title=\"Grand Fleet\">Grand Fleet</a> <b><a href=\"/wiki/Battle_of_Dogger_Bank_(1915)\" title=\"Battle of Dogger Bank (1915)\">intercepted and surprised</a></b> a German <a href=\"/wiki/High_Seas_Fleet\" title=\"High Seas Fleet\">High Seas Fleet</a> squadron in the <a href=\"/wiki/North_Sea\" title=\"North Sea\">North Sea</a>, sinking a <a href=\"/wiki/Cruiser\" title=\"Cruiser\">cruiser</a> and damaging several other vessels.</li>\n",
       "<li><a href=\"/wiki/1966\" title=\"1966\">1966</a> – <b><a href=\"/wiki/Air_India_Flight_101\" title=\"Air India Flight 101\">Air India Flight 101</a></b>, en route to London from Bombay, crashed into <a href=\"/wiki/Mont_Blanc\" title=\"Mont Blanc\">Mont Blanc</a> in Switzerland, killing all 117 people on board.</li>\n",
       "<li><a href=\"/wiki/1989\" title=\"1989\">1989</a> –  American serial killer <b><a href=\"/wiki/Ted_Bundy\" title=\"Ted Bundy\">Ted Bundy</a></b> was executed by <a href=\"/wiki/Electric_chair\" title=\"Electric chair\">electric chair</a> in <a href=\"/wiki/Florida\" title=\"Florida\">Florida</a> for the murders of 30 young women.</li></ul>\n",
       "<div class=\"hlist hlist-separated\" style=\"margin-top: 0.5em;\"><ul><li><b><a href=\"/wiki/George_Rooke\" title=\"George Rooke\">George Rooke</a></b>  (<abbr title=\"died\">d.</abbr> 1709)</li><li><b><a href=\"/wiki/Signe_Rink\" title=\"Signe Rink\">Signe Rink</a></b>  (<abbr title=\"born\">b.</abbr> 1836)</li><li><b><a href=\"/wiki/Mary_Lou_Retton\" title=\"Mary Lou Retton\">Mary Lou Retton</a></b>  (<abbr title=\"born\">b.</abbr> 1968)</li></ul></div>\n",
       "<div style=\"margin-top: 0.5em;\">\n",
       "More anniversaries: <div class=\"hlist hlist-separated inline nowraplinks\">\n",
       "<ul><li><a href=\"/wiki/January_23\" title=\"January 23\">January 23</a></li>\n",
       "<li><b><a href=\"/wiki/January_24\" title=\"January 24\">January 24</a></b></li>\n",
       "<li><a href=\"/wiki/January_25\" title=\"January 25\">January 25</a></li></ul>\n",
       "</div></div>\n",
       "<div class=\"otd-footer hlist hlist-separated noprint\" style=\"text-align: right;\">\n",
       "<ul><li><b><a href=\"/wiki/Wikipedia:Selected_anniversaries/January\" title=\"Wikipedia:Selected anniversaries/January\">Archive</a></b></li>\n",
       "<li><b><a class=\"extiw\" href=\"https://lists.wikimedia.org/postorius/lists/daily-article-l.lists.wikimedia.org/\" title=\"mail:daily-article-l\">By email</a></b></li>\n",
       "<li><b><a href=\"/wiki/List_of_days_of_the_year\" title=\"List of days of the year\">List of days of the year</a></b></li></ul>\n",
       "</div></div>\n",
       "</td></tr></tbody></table>\n",
       "<div class=\"MainPageBG mp-bordered\" id=\"mp-middle\">\n",
       "<div id=\"mp-center\">\n",
       "<h2 class=\"mp-h2\" id=\"mp-tfl-h2\"><span id=\"From_today.27s_featured_list\"></span><span class=\"mw-headline\" id=\"From_today's_featured_list\">From today's featured list</span></h2>\n",
       "<div id=\"mp-tfl\"><div id=\"mp-tfl-img\" style=\"float:right;margin:0.5em 0 0.4em 0.9em;\"><div class=\"thumbinner mp-thumb\" style=\"background: transparent; border: none; padding: 0; max-width: 171px;\">\n",
       "<a class=\"image\" href=\"/wiki/File:Bisham_Woods_(26559670834).jpg\" title=\"Park Wood and Goulding's Wood LNR\"><img alt=\"Park Wood and Goulding's Wood LNR\" data-file-height=\"2520\" data-file-width=\"3776\" decoding=\"async\" height=\"114\" src=\"//upload.wikimedia.org/wikipedia/commons/thumb/6/6d/Bisham_Woods_%2826559670834%29.jpg/171px-Bisham_Woods_%2826559670834%29.jpg\" srcset=\"//upload.wikimedia.org/wikipedia/commons/thumb/6/6d/Bisham_Woods_%2826559670834%29.jpg/257px-Bisham_Woods_%2826559670834%29.jpg 1.5x, //upload.wikimedia.org/wikipedia/commons/thumb/6/6d/Bisham_Woods_%2826559670834%29.jpg/342px-Bisham_Woods_%2826559670834%29.jpg 2x\" width=\"171\"/></a><div class=\"thumbcaption\" style=\"padding: 0.25em 0; word-wrap: break-word;\"><a href=\"/wiki/Park_Wood_and_Goulding%27s_Wood\" title=\"Park Wood and Goulding's Wood\">Park Wood and Goulding's Wood</a> LNR</div></div>\n",
       "</div>\n",
       "<p>There are <b><a href=\"/wiki/List_of_local_nature_reserves_in_Berkshire\" title=\"List of local nature reserves in Berkshire\">forty-one local nature reserves</a></b> in <a href=\"/wiki/Berkshire\" title=\"Berkshire\">Berkshire</a>, a county in <a href=\"/wiki/South_East_England\" title=\"South East England\">South East England</a>. <a href=\"/wiki/Local_nature_reserve\" title=\"Local nature reserve\">Local nature reserves</a> (LNRs) in England are designated by <a href=\"/wiki/Local_government_in_England\" title=\"Local government in England\">local authorities</a> under Section 21 of the <a href=\"/wiki/National_Parks_and_Access_to_the_Countryside_Act_1949\" title=\"National Parks and Access to the Countryside Act 1949\">National Parks and Access to the Countryside Act 1949</a>. LNRs are sites which have a special local interest either biologically or geologically. Local authorities have a duty to care for them, and must control the sites by owning or leasing them, or by having an agreement with the owners. The local authorities can apply local <a href=\"/wiki/Byelaws_in_the_United_Kingdom\" title=\"Byelaws in the United Kingdom\">byelaws</a> to manage and protect LNRs. Five LNRs in Berkshire are also <a href=\"/wiki/Site_of_Special_Scientific_Interest\" title=\"Site of Special Scientific Interest\">Sites of Special Scientific Interest</a>, two are <a href=\"/wiki/Special_Area_of_Conservation\" title=\"Special Area of Conservation\">Special Areas of Conservation</a> and four are managed by the <a href=\"/wiki/Berkshire,_Buckinghamshire_and_Oxfordshire_Wildlife_Trust\" title=\"Berkshire, Buckinghamshire and Oxfordshire Wildlife Trust\">Berkshire, Buckinghamshire and Oxfordshire Wildlife Trust</a>. (<b><a href=\"/wiki/List_of_local_nature_reserves_in_Berkshire\" title=\"List of local nature reserves in Berkshire\">Full list...</a></b>)\n",
       "</p>\n",
       "<div class=\"tfl-recent\" style=\"text-align: right;\">\n",
       "Recently featured: <div class=\"hlist hlist-separated inline\">\n",
       "<ul><li><a href=\"/wiki/List_of_awards_and_nominations_received_by_Breaking_Bad\" title=\"List of awards and nominations received by Breaking Bad\">Awards and nominations received by <i>Breaking Bad</i></a></li>\n",
       "<li><a href=\"/wiki/2002_NFL_expansion_draft\" title=\"2002 NFL expansion draft\">2002 NFL expansion draft</a></li>\n",
       "<li><a href=\"/wiki/List_of_cervids\" title=\"List of cervids\">Cervids</a></li></ul>\n",
       "</div></div>\n",
       "<div class=\"tfl-footer hlist hlist-separated noprint\" style=\"text-align: right;\">\n",
       "<ul><li><b><a href=\"/wiki/Wikipedia:Today%27s_featured_list/January_2022\" title=\"Wikipedia:Today's featured list/January 2022\">Archive</a></b></li>\n",
       "<li><b><a href=\"/wiki/Wikipedia:Featured_lists\" title=\"Wikipedia:Featured lists\">More featured lists</a></b></li></ul>\n",
       "</div></div>\n",
       "</div>\n",
       "</div>\n",
       "<div class=\"MainPageBG mp-bordered\" id=\"mp-lower\">\n",
       "<div id=\"mp-bottom\">\n",
       "<h2 class=\"mp-h2\" id=\"mp-tfp-h2\"><span id=\"Today.27s_featured_picture\"></span><span class=\"mw-headline\" id=\"Today's_featured_picture\">Today's featured picture</span></h2>\n",
       "<div id=\"mp-tfp\">\n",
       "<table role=\"presentation\" style=\"margin:0 3px 3px; width:100%; box-sizing:border-box; text-align:center; background-color:transparent; border-collapse:collapse; padding:0.9em\">\n",
       "<tbody><tr>\n",
       "<td><a class=\"image\" href=\"/wiki/File:RUS-2016-Aerial-SPB-Winter_Palace_(crop).jpg\" title=\"Winter Palace\"><img alt=\"Winter Palace\" data-file-height=\"2623\" data-file-width=\"4420\" decoding=\"async\" height=\"297\" src=\"//upload.wikimedia.org/wikipedia/commons/thumb/7/74/RUS-2016-Aerial-SPB-Winter_Palace_%28crop%29.jpg/500px-RUS-2016-Aerial-SPB-Winter_Palace_%28crop%29.jpg\" srcset=\"//upload.wikimedia.org/wikipedia/commons/thumb/7/74/RUS-2016-Aerial-SPB-Winter_Palace_%28crop%29.jpg/750px-RUS-2016-Aerial-SPB-Winter_Palace_%28crop%29.jpg 1.5x, //upload.wikimedia.org/wikipedia/commons/thumb/7/74/RUS-2016-Aerial-SPB-Winter_Palace_%28crop%29.jpg/1000px-RUS-2016-Aerial-SPB-Winter_Palace_%28crop%29.jpg 2x\" width=\"500\"/></a>\n",
       "</td></tr>\n",
       "<tr>\n",
       "<td style=\"padding:0 0.9em; text-align:left;\">\n",
       "<p>The <b><a href=\"/wiki/Winter_Palace\" title=\"Winter Palace\">Winter Palace</a></b> is a palace in <a href=\"/wiki/Saint_Petersburg\" title=\"Saint Petersburg\">Saint Petersburg</a> that served as the <a href=\"/wiki/Official_residence\" title=\"Official residence\">official residence</a> of the <a href=\"/wiki/Emperor_of_all_the_Russias\" title=\"Emperor of all the Russias\">Russian emperors</a> from 1732 to 1917. The palace and its precincts now house the <a href=\"/wiki/Hermitage_Museum\" title=\"Hermitage Museum\">Hermitage Museum</a>. The green-and-white palace has the overall shape of an elongated rectangle, with a 215-metre-long (705 ft) and 30-metre-high (98 ft) principal facade. The Winter Palace has been calculated to contain 1,886 doors, 1,945 windows, 1,500 rooms and 117 staircases. This aerial view of the palace was taken in 2016.\n",
       "</p>\n",
       "<p style=\"text-align:center;\"><small>Photograph credit: <a href=\"/wiki/User:Godot13\" title=\"User:Godot13\">Andrew Shiva</a></small></p>\n",
       "<div class=\"potd-recent\" style=\"text-align:right;\">\n",
       "Recently featured: <div class=\"hlist hlist-separated inline\">\n",
       "<ul><li><a href=\"/wiki/Template:POTD/2022-01-23\" title=\"Template:POTD/2022-01-23\">Édouard Manet</a></li>\n",
       "<li><a href=\"/wiki/Template:POTD/2022-01-22\" title=\"Template:POTD/2022-01-22\"><i>Charaxes jasius</i></a></li>\n",
       "<li><a href=\"/wiki/Template:POTD/2022-01-21\" title=\"Template:POTD/2022-01-21\"><i>I puritani</i></a></li></ul>\n",
       "</div></div>\n",
       "<div class=\"potd-footer hlist hlist-separated noprint\" style=\"text-align:right;\">\n",
       "<ul><li><b><a href=\"/wiki/Wikipedia:Picture_of_the_day/Archive\" title=\"Wikipedia:Picture of the day/Archive\">Archive</a></b></li>\n",
       "<li><b><a href=\"/wiki/Wikipedia:Featured_pictures\" title=\"Wikipedia:Featured pictures\">More featured pictures</a></b></li></ul>\n",
       "</div>\n",
       "</td></tr></tbody></table></div>\n",
       "</div>\n",
       "</div>\n",
       "<div class=\"mp-bordered\" id=\"mp-other-lower\">\n",
       "<h2 class=\"mp-h2\" id=\"mp-other\"><span class=\"mw-headline\" id=\"Other_areas_of_Wikipedia\">Other areas of Wikipedia</span></h2>\n",
       "<div id=\"mp-other-content\">\n",
       "<ul><li><b><a href=\"/wiki/Wikipedia:Community_portal\" title=\"Wikipedia:Community portal\">Community portal</a></b> – Bulletin board, projects, resources and activities covering a wide range of Wikipedia areas.</li>\n",
       "<li><b><a href=\"/wiki/Wikipedia:Help_desk\" title=\"Wikipedia:Help desk\">Help desk</a></b> – Ask questions about using Wikipedia.</li>\n",
       "<li><b><a href=\"/wiki/Wikipedia:Reference_desk\" title=\"Wikipedia:Reference desk\">Reference desk</a></b> – Serving as virtual librarians, Wikipedia volunteers tackle your questions on a wide range of subjects.</li>\n",
       "<li><b><a href=\"/wiki/Wikipedia:News\" title=\"Wikipedia:News\">Site news</a></b> – Announcements, updates, articles and press releases on Wikipedia and the Wikimedia Foundation.</li>\n",
       "<li><b><a href=\"/wiki/Wikipedia:Teahouse\" title=\"Wikipedia:Teahouse\">Teahouse</a></b> – To ask your first basic questions about contributing to Wikipedia.</li>\n",
       "<li><b><a href=\"/wiki/Wikipedia:Village_pump\" title=\"Wikipedia:Village pump\">Village pump</a></b> – For discussions about Wikipedia itself, including areas for technical issues and policies.</li></ul>\n",
       "</div>\n",
       "<h2 class=\"mp-h2\" id=\"mp-sister\"><span id=\"Wikipedia.27s_sister_projects\"></span><span class=\"mw-headline\" id=\"Wikipedia's_sister_projects\">Wikipedia's sister projects</span></h2>\n",
       "<div id=\"mp-sister-content\"><style data-mw-deduplicate=\"TemplateStyles:r1007624485\">.mw-parser-output #sister-projects-list{display:flex;flex-wrap:wrap}.mw-parser-output #sister-projects-list li{display:inline-block}.mw-parser-output #sister-projects-list li span{font-weight:bold}.mw-parser-output #sister-projects-list li>div{display:inline-block;vertical-align:middle;padding:6px 4px}.mw-parser-output #sister-projects-list li>div:first-child{text-align:center}@media(min-width:360px){.mw-parser-output #sister-projects-list li{width:33%;min-width:20em;white-space:nowrap;flex:1 0 25%}.mw-parser-output #sister-projects-list li>div:first-child{min-width:50px}}</style>\n",
       "<p>Wikipedia is written by volunteer editors and hosted by the <a href=\"/wiki/Wikimedia_Foundation\" title=\"Wikimedia Foundation\">Wikimedia Foundation</a>, a non-profit organization that also hosts a range of other volunteer <a class=\"extiw\" href=\"https://wikimediafoundation.org/our-work/wikimedia-projects/\" title=\"foundationsite:our-work/wikimedia-projects/\">projects</a>:\n",
       "</p>\n",
       "<div class=\"plainlist\">\n",
       "<ul id=\"sister-projects-list\">\n",
       "<li>\n",
       "<div><a href=\"https://commons.wikimedia.org/wiki/\" title=\"Commons\"><img alt=\"Commons logo\" data-file-height=\"1376\" data-file-width=\"1024\" decoding=\"async\" height=\"42\" src=\"//upload.wikimedia.org/wikipedia/en/thumb/4/4a/Commons-logo.svg/31px-Commons-logo.svg.png\" srcset=\"//upload.wikimedia.org/wikipedia/en/thumb/4/4a/Commons-logo.svg/47px-Commons-logo.svg.png 1.5x, //upload.wikimedia.org/wikipedia/en/thumb/4/4a/Commons-logo.svg/62px-Commons-logo.svg.png 2x\" width=\"31\"/></a></div>\n",
       "<div><span><a class=\"extiw\" href=\"https://commons.wikimedia.org/wiki/\" title=\"c:\">Commons</a></span><br/>Free media repository</div>\n",
       "</li>\n",
       "<li>\n",
       "<div><a href=\"https://www.mediawiki.org/wiki/\" title=\"MediaWiki\"><img alt=\"MediaWiki logo\" data-file-height=\"100\" data-file-width=\"100\" decoding=\"async\" height=\"35\" src=\"//upload.wikimedia.org/wikipedia/commons/thumb/a/a6/MediaWiki-2020-icon.svg/35px-MediaWiki-2020-icon.svg.png\" srcset=\"//upload.wikimedia.org/wikipedia/commons/thumb/a/a6/MediaWiki-2020-icon.svg/53px-MediaWiki-2020-icon.svg.png 1.5x, //upload.wikimedia.org/wikipedia/commons/thumb/a/a6/MediaWiki-2020-icon.svg/70px-MediaWiki-2020-icon.svg.png 2x\" width=\"35\"/></a></div>\n",
       "<div><span><a class=\"extiw\" href=\"https://www.mediawiki.org/wiki/\" title=\"mw:\">MediaWiki</a></span><br/>Wiki software development</div>\n",
       "</li>\n",
       "<li>\n",
       "<div><a href=\"https://meta.wikimedia.org/wiki/\" title=\"Meta-Wiki\"><img alt=\"Meta-Wiki logo\" data-file-height=\"900\" data-file-width=\"900\" decoding=\"async\" height=\"35\" src=\"//upload.wikimedia.org/wikipedia/commons/thumb/7/75/Wikimedia_Community_Logo.svg/35px-Wikimedia_Community_Logo.svg.png\" srcset=\"//upload.wikimedia.org/wikipedia/commons/thumb/7/75/Wikimedia_Community_Logo.svg/53px-Wikimedia_Community_Logo.svg.png 1.5x, //upload.wikimedia.org/wikipedia/commons/thumb/7/75/Wikimedia_Community_Logo.svg/70px-Wikimedia_Community_Logo.svg.png 2x\" width=\"35\"/></a></div>\n",
       "<div><span><a class=\"extiw\" href=\"https://meta.wikimedia.org/wiki/\" title=\"m:\">Meta-Wiki</a></span><br/>Wikimedia project coordination</div>\n",
       "</li>\n",
       "<li>\n",
       "<div><a href=\"https://en.wikibooks.org/wiki/\" title=\"Wikibooks\"><img alt=\"Wikibooks logo\" data-file-height=\"300\" data-file-width=\"300\" decoding=\"async\" height=\"35\" src=\"//upload.wikimedia.org/wikipedia/commons/thumb/f/fa/Wikibooks-logo.svg/35px-Wikibooks-logo.svg.png\" srcset=\"//upload.wikimedia.org/wikipedia/commons/thumb/f/fa/Wikibooks-logo.svg/53px-Wikibooks-logo.svg.png 1.5x, //upload.wikimedia.org/wikipedia/commons/thumb/f/fa/Wikibooks-logo.svg/70px-Wikibooks-logo.svg.png 2x\" width=\"35\"/></a></div>\n",
       "<div><span><a class=\"extiw\" href=\"https://en.wikibooks.org/wiki/\" title=\"b:\">Wikibooks</a></span><br/>Free textbooks and manuals</div>\n",
       "</li>\n",
       "<li>\n",
       "<div><a href=\"https://www.wikidata.org/wiki/\" title=\"Wikidata\"><img alt=\"Wikidata logo\" data-file-height=\"590\" data-file-width=\"1050\" decoding=\"async\" height=\"26\" src=\"//upload.wikimedia.org/wikipedia/commons/thumb/f/ff/Wikidata-logo.svg/47px-Wikidata-logo.svg.png\" srcset=\"//upload.wikimedia.org/wikipedia/commons/thumb/f/ff/Wikidata-logo.svg/71px-Wikidata-logo.svg.png 1.5x, //upload.wikimedia.org/wikipedia/commons/thumb/f/ff/Wikidata-logo.svg/94px-Wikidata-logo.svg.png 2x\" width=\"47\"/></a></div>\n",
       "<div><span><a class=\"extiw\" href=\"https://www.wikidata.org/wiki/\" title=\"d:\">Wikidata</a></span><br/>Free knowledge base</div>\n",
       "</li>\n",
       "<li>\n",
       "<div><a href=\"https://en.wikinews.org/wiki/\" title=\"Wikinews\"><img alt=\"Wikinews logo\" data-file-height=\"415\" data-file-width=\"759\" decoding=\"async\" height=\"28\" src=\"//upload.wikimedia.org/wikipedia/commons/thumb/2/24/Wikinews-logo.svg/51px-Wikinews-logo.svg.png\" srcset=\"//upload.wikimedia.org/wikipedia/commons/thumb/2/24/Wikinews-logo.svg/77px-Wikinews-logo.svg.png 1.5x, //upload.wikimedia.org/wikipedia/commons/thumb/2/24/Wikinews-logo.svg/102px-Wikinews-logo.svg.png 2x\" width=\"51\"/></a></div>\n",
       "<div><span><a class=\"extiw\" href=\"https://en.wikinews.org/wiki/\" title=\"n:\">Wikinews</a></span><br/>Free-content news</div>\n",
       "</li>\n",
       "<li>\n",
       "<div><a href=\"https://en.wikiquote.org/wiki/\" title=\"Wikiquote\"><img alt=\"Wikiquote logo\" data-file-height=\"355\" data-file-width=\"300\" decoding=\"async\" height=\"41\" src=\"//upload.wikimedia.org/wikipedia/commons/thumb/f/fa/Wikiquote-logo.svg/35px-Wikiquote-logo.svg.png\" srcset=\"//upload.wikimedia.org/wikipedia/commons/thumb/f/fa/Wikiquote-logo.svg/53px-Wikiquote-logo.svg.png 1.5x, //upload.wikimedia.org/wikipedia/commons/thumb/f/fa/Wikiquote-logo.svg/70px-Wikiquote-logo.svg.png 2x\" width=\"35\"/></a></div>\n",
       "<div><span><a class=\"extiw\" href=\"https://en.wikiquote.org/wiki/\" title=\"q:\">Wikiquote</a></span><br/>Collection of quotations</div>\n",
       "</li>\n",
       "<li>\n",
       "<div><a href=\"https://en.wikisource.org/wiki/\" title=\"Wikisource\"><img alt=\"Wikisource logo\" data-file-height=\"430\" data-file-width=\"410\" decoding=\"async\" height=\"37\" src=\"//upload.wikimedia.org/wikipedia/commons/thumb/4/4c/Wikisource-logo.svg/35px-Wikisource-logo.svg.png\" srcset=\"//upload.wikimedia.org/wikipedia/commons/thumb/4/4c/Wikisource-logo.svg/53px-Wikisource-logo.svg.png 1.5x, //upload.wikimedia.org/wikipedia/commons/thumb/4/4c/Wikisource-logo.svg/70px-Wikisource-logo.svg.png 2x\" width=\"35\"/></a></div>\n",
       "<div><span><a class=\"extiw\" href=\"https://en.wikisource.org/wiki/\" title=\"s:\">Wikisource</a></span><br/>Free-content library</div>\n",
       "</li>\n",
       "<li>\n",
       "<div><a href=\"https://species.wikimedia.org/wiki/\" title=\"Wikispecies\"><img alt=\"Wikispecies logo\" data-file-height=\"1103\" data-file-width=\"941\" decoding=\"async\" height=\"41\" src=\"//upload.wikimedia.org/wikipedia/commons/thumb/d/df/Wikispecies-logo.svg/35px-Wikispecies-logo.svg.png\" srcset=\"//upload.wikimedia.org/wikipedia/commons/thumb/d/df/Wikispecies-logo.svg/53px-Wikispecies-logo.svg.png 1.5x, //upload.wikimedia.org/wikipedia/commons/thumb/d/df/Wikispecies-logo.svg/70px-Wikispecies-logo.svg.png 2x\" width=\"35\"/></a></div>\n",
       "<div><span><a class=\"extiw\" href=\"https://species.wikimedia.org/wiki/\" title=\"species:\">Wikispecies</a></span><br/>Directory of species</div>\n",
       "</li>\n",
       "<li>\n",
       "<div><a href=\"https://en.wikiversity.org/wiki/\" title=\"Wikiversity\"><img alt=\"Wikiversity logo\" data-file-height=\"512\" data-file-width=\"626\" decoding=\"async\" height=\"34\" src=\"//upload.wikimedia.org/wikipedia/commons/thumb/0/0b/Wikiversity_logo_2017.svg/41px-Wikiversity_logo_2017.svg.png\" srcset=\"//upload.wikimedia.org/wikipedia/commons/thumb/0/0b/Wikiversity_logo_2017.svg/62px-Wikiversity_logo_2017.svg.png 1.5x, //upload.wikimedia.org/wikipedia/commons/thumb/0/0b/Wikiversity_logo_2017.svg/82px-Wikiversity_logo_2017.svg.png 2x\" width=\"41\"/></a></div>\n",
       "<div><span><a class=\"extiw\" href=\"https://en.wikiversity.org/wiki/\" title=\"v:\">Wikiversity</a></span><br/>Free learning tools</div>\n",
       "</li>\n",
       "<li>\n",
       "<div><a href=\"https://en.wikivoyage.org/wiki/\" title=\"Wikivoyage\"><img alt=\"Wikivoyage logo\" data-file-height=\"193\" data-file-width=\"193\" decoding=\"async\" height=\"35\" src=\"//upload.wikimedia.org/wikipedia/commons/thumb/d/dd/Wikivoyage-Logo-v3-icon.svg/35px-Wikivoyage-Logo-v3-icon.svg.png\" srcset=\"//upload.wikimedia.org/wikipedia/commons/thumb/d/dd/Wikivoyage-Logo-v3-icon.svg/53px-Wikivoyage-Logo-v3-icon.svg.png 1.5x, //upload.wikimedia.org/wikipedia/commons/thumb/d/dd/Wikivoyage-Logo-v3-icon.svg/70px-Wikivoyage-Logo-v3-icon.svg.png 2x\" width=\"35\"/></a></div>\n",
       "<div><span><a class=\"extiw\" href=\"https://en.wikivoyage.org/wiki/\" title=\"voy:\">Wikivoyage</a></span><br/>Free travel guide</div>\n",
       "</li>\n",
       "<li>\n",
       "<div><a href=\"https://en.wiktionary.org/wiki/\" title=\"Wiktionary\"><img alt=\"Wiktionary logo\" data-file-height=\"391\" data-file-width=\"391\" decoding=\"async\" height=\"35\" src=\"//upload.wikimedia.org/wikipedia/en/thumb/0/06/Wiktionary-logo-v2.svg/35px-Wiktionary-logo-v2.svg.png\" srcset=\"//upload.wikimedia.org/wikipedia/en/thumb/0/06/Wiktionary-logo-v2.svg/53px-Wiktionary-logo-v2.svg.png 1.5x, //upload.wikimedia.org/wikipedia/en/thumb/0/06/Wiktionary-logo-v2.svg/70px-Wiktionary-logo-v2.svg.png 2x\" width=\"35\"/></a></div>\n",
       "<div><span><a class=\"extiw\" href=\"https://en.wiktionary.org/wiki/\" title=\"wikt:\">Wiktionary</a></span><br/>Dictionary and thesaurus</div>\n",
       "</li>\n",
       "</ul>\n",
       "</div></div>\n",
       "<h2 class=\"mp-h2\" id=\"mp-lang\"><span class=\"mw-headline\" id=\"Wikipedia_languages\">Wikipedia languages</span></h2>\n",
       "<div><style data-mw-deduplicate=\"TemplateStyles:r997272951\">.mw-parser-output .wikipedia-languages-complete{font-weight:bold}.mw-parser-output .wikipedia-languages ul{margin-left:0}.mw-parser-output .wikipedia-languages ul a{white-space:nowrap}.mw-parser-output .wikipedia-languages>ul{list-style:none;text-align:center;clear:both}.mw-parser-output .wikipedia-languages-count-container{width:90%;display:flex;justify-content:center;padding-top:1em;margin:0 auto}.mw-parser-output .wikipedia-languages-prettybars{width:100%;height:1px;margin:0.5em 0;background-color:#c8ccd1;flex-shrink:1;align-self:center}.mw-parser-output .wikipedia-languages-count{padding:0 1em;white-space:nowrap}</style>\n",
       "<div class=\"wikipedia-languages nourlexpansion\">\n",
       "<p>This Wikipedia is written in <a href=\"/wiki/English_language\" title=\"English language\">English</a>. Many <a class=\"extiw\" href=\"https://meta.wikimedia.org/wiki/List_of_Wikipedias\" title=\"meta:List of Wikipedias\">other Wikipedias are available</a>; some of the largest are listed below.\n",
       "</p>\n",
       "<ul class=\"plainlinks\">\n",
       "<li>\n",
       "<div class=\"wikipedia-languages-count-container\">\n",
       "<div class=\"wikipedia-languages-prettybars\"></div>\n",
       "<div class=\"wikipedia-languages-count\" role=\"heading\">1,000,000+ articles</div>\n",
       "<div class=\"wikipedia-languages-prettybars\"></div>\n",
       "</div>\n",
       "<ul class=\"wikipedia-languages-langs hlist hlist-separated inline\">\n",
       "<li><a class=\"external text\" href=\"https://ar.wikipedia.org/wiki/\"><span class=\"autonym\" lang=\"ar\" title=\"Arabic (ar:)\">العربية</span></a></li>\n",
       "<li><a class=\"external text\" href=\"https://de.wikipedia.org/wiki/\"><span class=\"autonym\" lang=\"de\" title=\"German (de:)\">Deutsch</span></a></li>\n",
       "<li><a class=\"external text\" href=\"https://es.wikipedia.org/wiki/\"><span class=\"autonym\" lang=\"es\" title=\"Spanish (es:)\">Español</span></a></li>\n",
       "<li><a class=\"external text\" href=\"https://fr.wikipedia.org/wiki/\"><span class=\"autonym\" lang=\"fr\" title=\"French (fr:)\">Français</span></a></li>\n",
       "<li><a class=\"external text\" href=\"https://it.wikipedia.org/wiki/\"><span class=\"autonym\" lang=\"it\" title=\"Italian (it:)\">Italiano</span></a></li>\n",
       "<li><a class=\"external text\" href=\"https://nl.wikipedia.org/wiki/\"><span class=\"autonym\" lang=\"nl\" title=\"Dutch (nl:)\">Nederlands</span></a></li>\n",
       "<li><a class=\"external text\" href=\"https://ja.wikipedia.org/wiki/\"><span class=\"autonym\" lang=\"ja\" title=\"Japanese (ja:)\">日本語</span></a></li>\n",
       "<li><a class=\"external text\" href=\"https://pl.wikipedia.org/wiki/\"><span class=\"autonym\" lang=\"pl\" title=\"Polish (pl:)\">Polski</span></a></li>\n",
       "<li><a class=\"external text\" href=\"https://pt.wikipedia.org/wiki/\"><span class=\"autonym\" lang=\"pt\" title=\"Portuguese (pt:)\">Português</span></a></li>\n",
       "<li><a class=\"external text\" href=\"https://ru.wikipedia.org/wiki/\"><span class=\"autonym\" lang=\"ru\" title=\"Russian (ru:)\">Русский</span></a></li>\n",
       "<li><a class=\"external text\" href=\"https://sv.wikipedia.org/wiki/\"><span class=\"autonym\" lang=\"sv\" title=\"Swedish (sv:)\">Svenska</span></a></li>\n",
       "<li><a class=\"external text\" href=\"https://uk.wikipedia.org/wiki/\"><span class=\"autonym\" lang=\"uk\" title=\"Ukrainian (uk:)\">Українська</span></a></li>\n",
       "<li><a class=\"external text\" href=\"https://vi.wikipedia.org/wiki/\"><span class=\"autonym\" lang=\"vi\" title=\"Vietnamese (vi:)\">Tiếng Việt</span></a></li>\n",
       "<li><a class=\"external text\" href=\"https://zh.wikipedia.org/wiki/\"><span class=\"autonym\" lang=\"zh\" title=\"Chinese (zh:)\">中文</span></a></li>\n",
       "</ul>\n",
       "</li>\n",
       "<li>\n",
       "<div class=\"wikipedia-languages-count-container\">\n",
       "<div class=\"wikipedia-languages-prettybars\"></div>\n",
       "<div class=\"wikipedia-languages-count\" role=\"heading\">250,000+ articles</div>\n",
       "<div class=\"wikipedia-languages-prettybars\"></div>\n",
       "</div>\n",
       "<ul class=\"wikipedia-languages-langs hlist hlist-separated inline\">\n",
       "<li><a class=\"external text\" href=\"https://id.wikipedia.org/wiki/\"><span class=\"autonym\" lang=\"id\" title=\"Indonesian (id:)\">Bahasa Indonesia</span></a></li>\n",
       "<li><a class=\"external text\" href=\"https://ms.wikipedia.org/wiki/\"><span class=\"autonym\" lang=\"ms\" title=\"Malay (ms:)\">Bahasa Melayu</span></a></li>\n",
       "<li><a class=\"external text\" href=\"https://zh-min-nan.wikipedia.org/wiki/\"><span class=\"autonym\" lang=\"nan\" title=\"Min Nan Chinese (nan:)\">Bân-lâm-gú</span></a></li>\n",
       "<li><a class=\"external text\" href=\"https://bg.wikipedia.org/wiki/\"><span class=\"autonym\" lang=\"bg\" title=\"Bulgarian (bg:)\">Български</span></a></li>\n",
       "<li><a class=\"external text\" href=\"https://ca.wikipedia.org/wiki/\"><span class=\"autonym\" lang=\"ca\" title=\"Catalan (ca:)\">Català</span></a></li>\n",
       "<li><a class=\"external text\" href=\"https://cs.wikipedia.org/wiki/\"><span class=\"autonym\" lang=\"cs\" title=\"Czech (cs:)\">Čeština</span></a></li>\n",
       "<li><a class=\"external text\" href=\"https://da.wikipedia.org/wiki/\"><span class=\"autonym\" lang=\"da\" title=\"Danish (da:)\">Dansk</span></a></li>\n",
       "<li><a class=\"external text\" href=\"https://eo.wikipedia.org/wiki/\"><span class=\"autonym\" lang=\"eo\" title=\"Esperanto (eo:)\">Esperanto</span></a></li>\n",
       "<li><a class=\"external text\" href=\"https://eu.wikipedia.org/wiki/\"><span class=\"autonym\" lang=\"eu\" title=\"Basque (eu:)\">Euskara</span></a></li>\n",
       "<li><a class=\"external text\" href=\"https://fa.wikipedia.org/wiki/\"><span class=\"autonym\" lang=\"fa\" title=\"Persian (fa:)\">فارسی</span></a>‎</li>\n",
       "<li><a class=\"external text\" href=\"https://he.wikipedia.org/wiki/\"><span class=\"autonym\" lang=\"he\" title=\"Hebrew (he:)\">עברית</span></a></li>\n",
       "<li><a class=\"external text\" href=\"https://ko.wikipedia.org/wiki/\"><span class=\"autonym\" lang=\"ko\" title=\"Korean (ko:)\">한국어</span></a></li>\n",
       "<li><a class=\"external text\" href=\"https://hu.wikipedia.org/wiki/\"><span class=\"autonym\" lang=\"hu\" title=\"Hungarian (hu:)\">Magyar</span></a></li>\n",
       "<li><a class=\"external text\" href=\"https://no.wikipedia.org/wiki/\"><span class=\"autonym\" lang=\"no\" title=\"Norwegian (no:)\">Norsk Bokmål</span></a></li>\n",
       "<li><a class=\"external text\" href=\"https://ro.wikipedia.org/wiki/\"><span class=\"autonym\" lang=\"ro\" title=\"Romanian (ro:)\">Română</span></a></li>\n",
       "<li><a class=\"external text\" href=\"https://sr.wikipedia.org/wiki/\"><span class=\"autonym\" lang=\"sr\" title=\"Serbian (sr:)\">Srpski</span></a></li>\n",
       "<li><a class=\"external text\" href=\"https://sh.wikipedia.org/wiki/\"><span class=\"autonym\" lang=\"sh\" title=\"Serbo-Croatian (sh:)\">Srpskohrvatski</span></a></li>\n",
       "<li><a class=\"external text\" href=\"https://fi.wikipedia.org/wiki/\"><span class=\"autonym\" lang=\"fi\" title=\"Finnish (fi:)\">Suomi</span></a></li>\n",
       "<li><a class=\"external text\" href=\"https://tr.wikipedia.org/wiki/\"><span class=\"autonym\" lang=\"tr\" title=\"Turkish (tr:)\">Türkçe</span></a></li>\n",
       "</ul>\n",
       "</li>\n",
       "<li>\n",
       "<div class=\"wikipedia-languages-count-container\">\n",
       "<div class=\"wikipedia-languages-prettybars\"></div>\n",
       "<div class=\"wikipedia-languages-count\" role=\"heading\">50,000+ articles</div>\n",
       "<div class=\"wikipedia-languages-prettybars\"></div>\n",
       "</div>\n",
       "<ul class=\"wikipedia-languages-langs hlist hlist-separated inline\">\n",
       "<li><a class=\"external text\" href=\"https://ast.wikipedia.org/wiki/\"><span class=\"autonym\" lang=\"ast\" title=\"Asturian (ast:)\">Asturianu</span></a></li>\n",
       "<li><a class=\"external text\" href=\"https://bs.wikipedia.org/wiki/\"><span class=\"autonym\" lang=\"bs\" title=\"Bosnian (bs:)\">Bosanski</span></a></li>\n",
       "<li><a class=\"external text\" href=\"https://et.wikipedia.org/wiki/\"><span class=\"autonym\" lang=\"et\" title=\"Estonian (et:)\">Eesti</span></a></li>\n",
       "<li><a class=\"external text\" href=\"https://el.wikipedia.org/wiki/\"><span class=\"autonym\" lang=\"el\" title=\"Greek (el:)\">Ελληνικά</span></a></li>\n",
       "<li><a class=\"external text\" href=\"https://simple.wikipedia.org/wiki/\"><span class=\"autonym\" lang=\"simple\" title=\"Simple English (simple:)\">Simple English</span></a></li>\n",
       "<li><a class=\"external text\" href=\"https://gl.wikipedia.org/wiki/\"><span class=\"autonym\" lang=\"gl\" title=\"Galician (gl:)\">Galego</span></a></li>\n",
       "<li><a class=\"external text\" href=\"https://hr.wikipedia.org/wiki/\"><span class=\"autonym\" lang=\"hr\" title=\"Croatian (hr:)\">Hrvatski</span></a></li>\n",
       "<li><a class=\"external text\" href=\"https://lv.wikipedia.org/wiki/\"><span class=\"autonym\" lang=\"lv\" title=\"Latvian (lv:)\">Latviešu</span></a></li>\n",
       "<li><a class=\"external text\" href=\"https://lt.wikipedia.org/wiki/\"><span class=\"autonym\" lang=\"lt\" title=\"Lithuanian (lt:)\">Lietuvių</span></a></li>\n",
       "<li><a class=\"external text\" href=\"https://ml.wikipedia.org/wiki/\"><span class=\"autonym\" lang=\"ml\" title=\"Malayalam (ml:)\">മലയാളം</span></a></li>\n",
       "<li><a class=\"external text\" href=\"https://mk.wikipedia.org/wiki/\"><span class=\"autonym\" lang=\"mk\" title=\"Macedonian (mk:)\">Македонски</span></a></li>\n",
       "<li><a class=\"external text\" href=\"https://nn.wikipedia.org/wiki/\"><span class=\"autonym\" lang=\"nn\" title=\"Norwegian Nynorsk (nn:)\">Norsk nynorsk</span></a></li>\n",
       "<li><a class=\"external text\" href=\"https://sq.wikipedia.org/wiki/\"><span class=\"autonym\" lang=\"sq\" title=\"Albanian (sq:)\">Shqip</span></a></li>\n",
       "<li><a class=\"external text\" href=\"https://sk.wikipedia.org/wiki/\"><span class=\"autonym\" lang=\"sk\" title=\"Slovak (sk:)\">Slovenčina</span></a></li>\n",
       "<li><a class=\"external text\" href=\"https://sl.wikipedia.org/wiki/\"><span class=\"autonym\" lang=\"sl\" title=\"Slovenian (sl:)\">Slovenščina</span></a></li>\n",
       "<li><a class=\"external text\" href=\"https://th.wikipedia.org/wiki/\"><span class=\"autonym\" lang=\"th\" title=\"Thai (th:)\">ไทย</span></a></li>\n",
       "</ul>\n",
       "</li>\n",
       "</ul>\n",
       "</div></div>\n",
       "</div>\n",
       "<!-- \n",
       "NewPP limit report\n",
       "Parsed by mw1351\n",
       "Cached time: 20220124080924\n",
       "Cache expiry: 3600\n",
       "Reduced expiry: true\n",
       "Complications: []\n",
       "CPU time usage: 0.479 seconds\n",
       "Real time usage: 0.584 seconds\n",
       "Preprocessor visited node count: 4101/1000000\n",
       "Post‐expand include size: 123225/2097152 bytes\n",
       "Template argument size: 8624/2097152 bytes\n",
       "Highest expansion depth: 21/40\n",
       "Expensive parser function count: 15/500\n",
       "Unstrip recursion depth: 0/20\n",
       "Unstrip post‐expand size: 5676/5000000 bytes\n",
       "Lua time usage: 0.080/10.000 seconds\n",
       "Lua memory usage: 1823854/52428800 bytes\n",
       "Number of Wikibase entities loaded: 0/400\n",
       "-->\n",
       "<!--\n",
       "Transclusion expansion time report (%,ms,calls,template)\n",
       "100.00%  363.155      1 -total\n",
       " 40.24%  146.140      1 Wikipedia:Main_Page/Tomorrow\n",
       " 35.86%  130.230      9 Template:Main_page_image\n",
       " 25.10%   91.154      9 Template:Str_number/trim\n",
       " 16.91%   61.417      9 Template:If_empty\n",
       " 16.12%   58.546      2 Template:Main_page_image/TFA\n",
       " 15.70%   57.021      1 Wikipedia:Today's_featured_article/January_24,_2022\n",
       " 15.38%   55.860      2 Template:Wikipedia_languages\n",
       " 12.25%   44.501      1 Wikipedia:Selected_anniversaries/January_25\n",
       " 10.98%   39.884     18 Template:Remove_file_prefix\n",
       "-->\n",
       "<!-- Saved in parser cache with key enwiki:pcache:idhash:15580374-0!canonical and timestamp 20220124080923 and revision id 1004593520. Serialized with JSON.\n",
       " -->\n",
       "</div><noscript><img alt=\"\" height=\"1\" src=\"//en.wikipedia.org/wiki/Special:CentralAutoLogin/start?type=1x1\" style=\"border: none; position: absolute;\" title=\"\" width=\"1\"/></noscript>\n",
       "<div class=\"printfooter\">Retrieved from \"<a dir=\"ltr\" href=\"https://en.wikipedia.org/w/index.php?title=Main_Page&amp;oldid=1004593520\">https://en.wikipedia.org/w/index.php?title=Main_Page&amp;oldid=1004593520</a>\"</div></div>\n",
       "<div class=\"catlinks catlinks-allhidden\" data-mw=\"interface\" id=\"catlinks\"></div>\n",
       "</div>\n",
       "</div>\n",
       "<div id=\"mw-data-after-content\">\n",
       "<div class=\"read-more-container\"></div>\n",
       "</div>\n",
       "<div id=\"mw-navigation\">\n",
       "<h2>Navigation menu</h2>\n",
       "<div id=\"mw-head\">\n",
       "<nav aria-labelledby=\"p-personal-label\" class=\"mw-portlet mw-portlet-personal vector-user-menu-legacy vector-menu\" id=\"p-personal\" role=\"navigation\">\n",
       "<h3 aria-label=\"\" class=\"vector-menu-heading\" id=\"p-personal-label\">\n",
       "<span class=\"vector-menu-heading-label\">Personal tools</span>\n",
       "</h3>\n",
       "<div class=\"vector-menu-content\">\n",
       "<ul class=\"vector-menu-content-list\"><li class=\"mw-list-item\" id=\"pt-anonuserpage\"><span>Not logged in</span></li><li class=\"mw-list-item\" id=\"pt-anontalk\"><a accesskey=\"n\" href=\"/wiki/Special:MyTalk\" title=\"Discussion about edits from this IP address [n]\"><span>Talk</span></a></li><li class=\"mw-list-item\" id=\"pt-anoncontribs\"><a accesskey=\"y\" href=\"/wiki/Special:MyContributions\" title=\"A list of edits made from this IP address [y]\"><span>Contributions</span></a></li><li class=\"mw-list-item\" id=\"pt-createaccount\"><a href=\"/w/index.php?title=Special:CreateAccount&amp;returnto=Main+Page\" title=\"You are encouraged to create an account and log in; however, it is not mandatory\"><span>Create account</span></a></li><li class=\"mw-list-item\" id=\"pt-login\"><a accesskey=\"o\" href=\"/w/index.php?title=Special:UserLogin&amp;returnto=Main+Page\" title=\"You're encouraged to log in; however, it's not mandatory. [o]\"><span>Log in</span></a></li></ul>\n",
       "</div>\n",
       "</nav>\n",
       "<div id=\"left-navigation\">\n",
       "<nav aria-labelledby=\"p-namespaces-label\" class=\"mw-portlet mw-portlet-namespaces vector-menu vector-menu-tabs\" id=\"p-namespaces\" role=\"navigation\">\n",
       "<h3 aria-label=\"\" class=\"vector-menu-heading\" id=\"p-namespaces-label\">\n",
       "<span class=\"vector-menu-heading-label\">Namespaces</span>\n",
       "</h3>\n",
       "<div class=\"vector-menu-content\">\n",
       "<ul class=\"vector-menu-content-list\"><li class=\"selected mw-list-item\" id=\"ca-nstab-main\"><a accesskey=\"c\" href=\"/wiki/Main_Page\" title=\"View the content page [c]\"><span>Main Page</span></a></li><li class=\"mw-list-item\" id=\"ca-talk\"><a accesskey=\"t\" href=\"/wiki/Talk:Main_Page\" rel=\"discussion\" title=\"Discuss improvements to the content page [t]\"><span>Talk</span></a></li></ul>\n",
       "</div>\n",
       "</nav>\n",
       "<nav aria-labelledby=\"p-variants-label\" class=\"mw-portlet mw-portlet-variants emptyPortlet vector-menu-dropdown-noicon vector-menu vector-menu-dropdown\" id=\"p-variants\" role=\"navigation\">\n",
       "<input aria-haspopup=\"true\" aria-labelledby=\"p-variants-label\" class=\"vector-menu-checkbox\" data-event-name=\"ui.dropdown-p-variants\" id=\"p-variants-checkbox\" role=\"button\" type=\"checkbox\"/>\n",
       "<h3 aria-label=\"Change language variant\" class=\"vector-menu-heading\" id=\"p-variants-label\">\n",
       "<span class=\"vector-menu-heading-label\">Variants</span>\n",
       "<span class=\"vector-menu-checkbox-expanded\">expanded</span>\n",
       "<span class=\"vector-menu-checkbox-collapsed\">collapsed</span>\n",
       "</h3>\n",
       "<div class=\"vector-menu-content\">\n",
       "<ul class=\"vector-menu-content-list\"></ul>\n",
       "</div>\n",
       "</nav>\n",
       "</div>\n",
       "<div id=\"right-navigation\">\n",
       "<nav aria-labelledby=\"p-views-label\" class=\"mw-portlet mw-portlet-views vector-menu vector-menu-tabs\" id=\"p-views\" role=\"navigation\">\n",
       "<h3 aria-label=\"\" class=\"vector-menu-heading\" id=\"p-views-label\">\n",
       "<span class=\"vector-menu-heading-label\">Views</span>\n",
       "</h3>\n",
       "<div class=\"vector-menu-content\">\n",
       "<ul class=\"vector-menu-content-list\"><li class=\"selected mw-list-item\" id=\"ca-view\"><a href=\"/wiki/Main_Page\"><span>Read</span></a></li><li class=\"mw-list-item\" id=\"ca-viewsource\"><a accesskey=\"e\" href=\"/w/index.php?title=Main_Page&amp;action=edit\" title=\"This page is protected.\n",
       "You can view its source [e]\"><span>View source</span></a></li><li class=\"mw-list-item\" id=\"ca-history\"><a accesskey=\"h\" href=\"/w/index.php?title=Main_Page&amp;action=history\" title=\"Past revisions of this page [h]\"><span>View history</span></a></li></ul>\n",
       "</div>\n",
       "</nav>\n",
       "<nav aria-labelledby=\"p-cactions-label\" class=\"mw-portlet mw-portlet-cactions emptyPortlet vector-menu-dropdown-noicon vector-menu vector-menu-dropdown\" id=\"p-cactions\" role=\"navigation\" title=\"More options\">\n",
       "<input aria-haspopup=\"true\" aria-labelledby=\"p-cactions-label\" class=\"vector-menu-checkbox\" data-event-name=\"ui.dropdown-p-cactions\" id=\"p-cactions-checkbox\" role=\"button\" type=\"checkbox\"/>\n",
       "<h3 aria-label=\"\" class=\"vector-menu-heading\" id=\"p-cactions-label\">\n",
       "<span class=\"vector-menu-heading-label\">More</span>\n",
       "<span class=\"vector-menu-checkbox-expanded\">expanded</span>\n",
       "<span class=\"vector-menu-checkbox-collapsed\">collapsed</span>\n",
       "</h3>\n",
       "<div class=\"vector-menu-content\">\n",
       "<ul class=\"vector-menu-content-list\"></ul>\n",
       "</div>\n",
       "</nav>\n",
       "<div class=\"vector-search-box\" id=\"p-search\" role=\"search\">\n",
       "<div>\n",
       "<h3>\n",
       "<label for=\"searchInput\">Search</label>\n",
       "</h3>\n",
       "<form action=\"/w/index.php\" class=\"vector-search-box-form\" id=\"searchform\">\n",
       "<div class=\"vector-search-box-inner\" data-search-loc=\"header-navigation\" id=\"simpleSearch\">\n",
       "<input accesskey=\"f\" aria-label=\"Search Wikipedia\" autocapitalize=\"sentences\" class=\"vector-search-box-input\" id=\"searchInput\" name=\"search\" placeholder=\"Search Wikipedia\" title=\"Search Wikipedia [f]\" type=\"search\"/>\n",
       "<input name=\"title\" type=\"hidden\" value=\"Special:Search\"/>\n",
       "<input class=\"searchButton mw-fallbackSearchButton\" id=\"mw-searchButton\" name=\"fulltext\" title=\"Search Wikipedia for this text\" type=\"submit\" value=\"Search\"/>\n",
       "<input class=\"searchButton\" id=\"searchButton\" name=\"go\" title=\"Go to a page with this exact name if it exists\" type=\"submit\" value=\"Go\"/>\n",
       "</div>\n",
       "</form>\n",
       "</div>\n",
       "</div>\n",
       "</div>\n",
       "</div>\n",
       "<div id=\"mw-panel\">\n",
       "<div id=\"p-logo\" role=\"banner\">\n",
       "<a class=\"mw-wiki-logo\" href=\"/wiki/Main_Page\" title=\"Visit the main page\"></a>\n",
       "</div>\n",
       "<nav aria-labelledby=\"p-navigation-label\" class=\"mw-portlet mw-portlet-navigation vector-menu vector-menu-portal portal\" id=\"p-navigation\" role=\"navigation\">\n",
       "<h3 aria-label=\"\" class=\"vector-menu-heading\" id=\"p-navigation-label\">\n",
       "<span class=\"vector-menu-heading-label\">Navigation</span>\n",
       "</h3>\n",
       "<div class=\"vector-menu-content\">\n",
       "<ul class=\"vector-menu-content-list\"><li class=\"mw-list-item\" id=\"n-mainpage-description\"><a accesskey=\"z\" href=\"/wiki/Main_Page\" title=\"Visit the main page [z]\"><span>Main page</span></a></li><li class=\"mw-list-item\" id=\"n-contents\"><a href=\"/wiki/Wikipedia:Contents\" title=\"Guides to browsing Wikipedia\"><span>Contents</span></a></li><li class=\"mw-list-item\" id=\"n-currentevents\"><a href=\"/wiki/Portal:Current_events\" title=\"Articles related to current events\"><span>Current events</span></a></li><li class=\"mw-list-item\" id=\"n-randompage\"><a accesskey=\"x\" href=\"/wiki/Special:Random\" title=\"Visit a randomly selected article [x]\"><span>Random article</span></a></li><li class=\"mw-list-item\" id=\"n-aboutsite\"><a href=\"/wiki/Wikipedia:About\" title=\"Learn about Wikipedia and how it works\"><span>About Wikipedia</span></a></li><li class=\"mw-list-item\" id=\"n-contactpage\"><a href=\"//en.wikipedia.org/wiki/Wikipedia:Contact_us\" title=\"How to contact Wikipedia\"><span>Contact us</span></a></li><li class=\"mw-list-item\" id=\"n-sitesupport\"><a href=\"https://donate.wikimedia.org/wiki/Special:FundraiserRedirector?utm_source=donate&amp;utm_medium=sidebar&amp;utm_campaign=C13_en.wikipedia.org&amp;uselang=en\" title=\"Support us by donating to the Wikimedia Foundation\"><span>Donate</span></a></li></ul>\n",
       "</div>\n",
       "</nav>\n",
       "<nav aria-labelledby=\"p-interaction-label\" class=\"mw-portlet mw-portlet-interaction vector-menu vector-menu-portal portal\" id=\"p-interaction\" role=\"navigation\">\n",
       "<h3 aria-label=\"\" class=\"vector-menu-heading\" id=\"p-interaction-label\">\n",
       "<span class=\"vector-menu-heading-label\">Contribute</span>\n",
       "</h3>\n",
       "<div class=\"vector-menu-content\">\n",
       "<ul class=\"vector-menu-content-list\"><li class=\"mw-list-item\" id=\"n-help\"><a href=\"/wiki/Help:Contents\" title=\"Guidance on how to use and edit Wikipedia\"><span>Help</span></a></li><li class=\"mw-list-item\" id=\"n-introduction\"><a href=\"/wiki/Help:Introduction\" title=\"Learn how to edit Wikipedia\"><span>Learn to edit</span></a></li><li class=\"mw-list-item\" id=\"n-portal\"><a href=\"/wiki/Wikipedia:Community_portal\" title=\"The hub for editors\"><span>Community portal</span></a></li><li class=\"mw-list-item\" id=\"n-recentchanges\"><a accesskey=\"r\" href=\"/wiki/Special:RecentChanges\" title=\"A list of recent changes to Wikipedia [r]\"><span>Recent changes</span></a></li><li class=\"mw-list-item\" id=\"n-upload\"><a href=\"/wiki/Wikipedia:File_Upload_Wizard\" title=\"Add images or other media for use on Wikipedia\"><span>Upload file</span></a></li></ul>\n",
       "</div>\n",
       "</nav>\n",
       "<nav aria-labelledby=\"p-tb-label\" class=\"mw-portlet mw-portlet-tb vector-menu vector-menu-portal portal\" id=\"p-tb\" role=\"navigation\">\n",
       "<h3 aria-label=\"\" class=\"vector-menu-heading\" id=\"p-tb-label\">\n",
       "<span class=\"vector-menu-heading-label\">Tools</span>\n",
       "</h3>\n",
       "<div class=\"vector-menu-content\">\n",
       "<ul class=\"vector-menu-content-list\"><li class=\"mw-list-item\" id=\"t-whatlinkshere\"><a accesskey=\"j\" href=\"/wiki/Special:WhatLinksHere/Main_Page\" title=\"List of all English Wikipedia pages containing links to this page [j]\"><span>What links here</span></a></li><li class=\"mw-list-item\" id=\"t-recentchangeslinked\"><a accesskey=\"k\" href=\"/wiki/Special:RecentChangesLinked/Main_Page\" rel=\"nofollow\" title=\"Recent changes in pages linked from this page [k]\"><span>Related changes</span></a></li><li class=\"mw-list-item\" id=\"t-upload\"><a accesskey=\"u\" href=\"/wiki/Wikipedia:File_Upload_Wizard\" title=\"Upload files [u]\"><span>Upload file</span></a></li><li class=\"mw-list-item\" id=\"t-specialpages\"><a accesskey=\"q\" href=\"/wiki/Special:SpecialPages\" title=\"A list of all special pages [q]\"><span>Special pages</span></a></li><li class=\"mw-list-item\" id=\"t-permalink\"><a href=\"/w/index.php?title=Main_Page&amp;oldid=1004593520\" title=\"Permanent link to this revision of this page\"><span>Permanent link</span></a></li><li class=\"mw-list-item\" id=\"t-info\"><a href=\"/w/index.php?title=Main_Page&amp;action=info\" title=\"More information about this page\"><span>Page information</span></a></li><li class=\"mw-list-item\" id=\"t-cite\"><a href=\"/w/index.php?title=Special:CiteThisPage&amp;page=Main_Page&amp;id=1004593520&amp;wpFormIdentifier=titleform\" title=\"Information on how to cite this page\"><span>Cite this page</span></a></li><li class=\"mw-list-item\" id=\"t-wikibase\"><a accesskey=\"g\" href=\"https://www.wikidata.org/wiki/Special:EntityPage/Q5296\" title=\"Structured data on this page hosted by Wikidata [g]\"><span>Wikidata item</span></a></li></ul>\n",
       "</div>\n",
       "</nav>\n",
       "<nav aria-labelledby=\"p-coll-print_export-label\" class=\"mw-portlet mw-portlet-coll-print_export vector-menu vector-menu-portal portal\" id=\"p-coll-print_export\" role=\"navigation\">\n",
       "<h3 aria-label=\"\" class=\"vector-menu-heading\" id=\"p-coll-print_export-label\">\n",
       "<span class=\"vector-menu-heading-label\">Print/export</span>\n",
       "</h3>\n",
       "<div class=\"vector-menu-content\">\n",
       "<ul class=\"vector-menu-content-list\"><li class=\"mw-list-item\" id=\"coll-download-as-rl\"><a href=\"/w/index.php?title=Special:DownloadAsPdf&amp;page=Main_Page&amp;action=show-download-screen\" title=\"Download this page as a PDF file\"><span>Download as PDF</span></a></li><li class=\"mw-list-item\" id=\"t-print\"><a accesskey=\"p\" href=\"/w/index.php?title=Main_Page&amp;printable=yes\" title=\"Printable version of this page [p]\"><span>Printable version</span></a></li></ul>\n",
       "</div>\n",
       "</nav>\n",
       "<nav aria-labelledby=\"p-wikibase-otherprojects-label\" class=\"mw-portlet mw-portlet-wikibase-otherprojects vector-menu vector-menu-portal portal\" id=\"p-wikibase-otherprojects\" role=\"navigation\">\n",
       "<h3 aria-label=\"\" class=\"vector-menu-heading\" id=\"p-wikibase-otherprojects-label\">\n",
       "<span class=\"vector-menu-heading-label\">In other projects</span>\n",
       "</h3>\n",
       "<div class=\"vector-menu-content\">\n",
       "<ul class=\"vector-menu-content-list\"><li class=\"wb-otherproject-link wb-otherproject-commons mw-list-item\"><a href=\"https://commons.wikimedia.org/wiki/Main_Page\" hreflang=\"en\"><span>Wikimedia Commons</span></a></li><li class=\"wb-otherproject-link wb-otherproject-mediawiki mw-list-item\"><a href=\"https://www.mediawiki.org/wiki/MediaWiki\" hreflang=\"en\"><span>MediaWiki</span></a></li><li class=\"wb-otherproject-link wb-otherproject-meta mw-list-item\"><a href=\"https://meta.wikimedia.org/wiki/Main_Page\" hreflang=\"en\"><span>Meta-Wiki</span></a></li><li class=\"wb-otherproject-link wb-otherproject-sources mw-list-item\"><a href=\"https://wikisource.org/wiki/Main_Page\" hreflang=\"en\"><span>Multilingual Wikisource</span></a></li><li class=\"wb-otherproject-link wb-otherproject-species mw-list-item\"><a href=\"https://species.wikimedia.org/wiki/Main_Page\" hreflang=\"en\"><span>Wikispecies</span></a></li><li class=\"wb-otherproject-link wb-otherproject-wikibooks mw-list-item\"><a href=\"https://en.wikibooks.org/wiki/Main_Page\" hreflang=\"en\"><span>Wikibooks</span></a></li><li class=\"wb-otherproject-link wb-otherproject-wikidata mw-list-item\"><a href=\"https://www.wikidata.org/wiki/Wikidata:Main_Page\" hreflang=\"en\"><span>Wikidata</span></a></li><li class=\"wb-otherproject-link wb-otherproject-wikimania mw-list-item\"><a href=\"https://wikimania.wikimedia.org/wiki/Wikimania\" hreflang=\"en\"><span>Wikimania</span></a></li><li class=\"wb-otherproject-link wb-otherproject-wikinews mw-list-item\"><a href=\"https://en.wikinews.org/wiki/Main_Page\" hreflang=\"en\"><span>Wikinews</span></a></li><li class=\"wb-otherproject-link wb-otherproject-wikiquote mw-list-item\"><a href=\"https://en.wikiquote.org/wiki/Main_Page\" hreflang=\"en\"><span>Wikiquote</span></a></li><li class=\"wb-otherproject-link wb-otherproject-wikisource mw-list-item\"><a href=\"https://en.wikisource.org/wiki/Main_Page\" hreflang=\"en\"><span>Wikisource</span></a></li><li class=\"wb-otherproject-link wb-otherproject-wikiversity mw-list-item\"><a href=\"https://en.wikiversity.org/wiki/Wikiversity:Main_Page\" hreflang=\"en\"><span>Wikiversity</span></a></li><li class=\"wb-otherproject-link wb-otherproject-wikivoyage mw-list-item\"><a href=\"https://en.wikivoyage.org/wiki/Main_Page\" hreflang=\"en\"><span>Wikivoyage</span></a></li><li class=\"wb-otherproject-link wb-otherproject-wiktionary mw-list-item\"><a href=\"https://en.wiktionary.org/wiki/Wiktionary:Main_Page\" hreflang=\"en\"><span>Wiktionary</span></a></li></ul>\n",
       "</div>\n",
       "</nav>\n",
       "<nav aria-labelledby=\"p-lang-label\" class=\"mw-portlet mw-portlet-lang vector-menu vector-menu-portal portal\" id=\"p-lang\" role=\"navigation\">\n",
       "<h3 aria-label=\"\" class=\"vector-menu-heading\" id=\"p-lang-label\">\n",
       "<span class=\"vector-menu-heading-label\">Languages</span>\n",
       "</h3>\n",
       "<div class=\"vector-menu-content\">\n",
       "<ul class=\"vector-menu-content-list\"><li class=\"interlanguage-link interwiki-ar mw-list-item\"><a class=\"interlanguage-link-target\" href=\"https://ar.wikipedia.org/wiki/\" hreflang=\"ar\" lang=\"ar\" title=\"Arabic\"><span>العربية</span></a></li><li class=\"interlanguage-link interwiki-bn mw-list-item\"><a class=\"interlanguage-link-target\" href=\"https://bn.wikipedia.org/wiki/\" hreflang=\"bn\" lang=\"bn\" title=\"Bangla\"><span>বাংলা</span></a></li><li class=\"interlanguage-link interwiki-bg mw-list-item\"><a class=\"interlanguage-link-target\" href=\"https://bg.wikipedia.org/wiki/\" hreflang=\"bg\" lang=\"bg\" title=\"Bulgarian\"><span>Български</span></a></li><li class=\"interlanguage-link interwiki-bs mw-list-item\"><a class=\"interlanguage-link-target\" href=\"https://bs.wikipedia.org/wiki/\" hreflang=\"bs\" lang=\"bs\" title=\"Bosnian\"><span>Bosanski</span></a></li><li class=\"interlanguage-link interwiki-ca mw-list-item\"><a class=\"interlanguage-link-target\" href=\"https://ca.wikipedia.org/wiki/\" hreflang=\"ca\" lang=\"ca\" title=\"Catalan\"><span>Català</span></a></li><li class=\"interlanguage-link interwiki-cs mw-list-item\"><a class=\"interlanguage-link-target\" href=\"https://cs.wikipedia.org/wiki/\" hreflang=\"cs\" lang=\"cs\" title=\"Czech\"><span>Čeština</span></a></li><li class=\"interlanguage-link interwiki-da mw-list-item\"><a class=\"interlanguage-link-target\" href=\"https://da.wikipedia.org/wiki/\" hreflang=\"da\" lang=\"da\" title=\"Danish\"><span>Dansk</span></a></li><li class=\"interlanguage-link interwiki-de mw-list-item\"><a class=\"interlanguage-link-target\" href=\"https://de.wikipedia.org/wiki/\" hreflang=\"de\" lang=\"de\" title=\"German\"><span>Deutsch</span></a></li><li class=\"interlanguage-link interwiki-et mw-list-item\"><a class=\"interlanguage-link-target\" href=\"https://et.wikipedia.org/wiki/\" hreflang=\"et\" lang=\"et\" title=\"Estonian\"><span>Eesti</span></a></li><li class=\"interlanguage-link interwiki-el mw-list-item\"><a class=\"interlanguage-link-target\" href=\"https://el.wikipedia.org/wiki/\" hreflang=\"el\" lang=\"el\" title=\"Greek\"><span>Ελληνικά</span></a></li><li class=\"interlanguage-link interwiki-es mw-list-item\"><a class=\"interlanguage-link-target\" href=\"https://es.wikipedia.org/wiki/\" hreflang=\"es\" lang=\"es\" title=\"Spanish\"><span>Español</span></a></li><li class=\"interlanguage-link interwiki-eo mw-list-item\"><a class=\"interlanguage-link-target\" href=\"https://eo.wikipedia.org/wiki/\" hreflang=\"eo\" lang=\"eo\" title=\"Esperanto\"><span>Esperanto</span></a></li><li class=\"interlanguage-link interwiki-eu mw-list-item\"><a class=\"interlanguage-link-target\" href=\"https://eu.wikipedia.org/wiki/\" hreflang=\"eu\" lang=\"eu\" title=\"Basque\"><span>Euskara</span></a></li><li class=\"interlanguage-link interwiki-fa mw-list-item\"><a class=\"interlanguage-link-target\" href=\"https://fa.wikipedia.org/wiki/\" hreflang=\"fa\" lang=\"fa\" title=\"Persian\"><span>فارسی</span></a></li><li class=\"interlanguage-link interwiki-fr mw-list-item\"><a class=\"interlanguage-link-target\" href=\"https://fr.wikipedia.org/wiki/\" hreflang=\"fr\" lang=\"fr\" title=\"French\"><span>Français</span></a></li><li class=\"interlanguage-link interwiki-gl mw-list-item\"><a class=\"interlanguage-link-target\" href=\"https://gl.wikipedia.org/wiki/\" hreflang=\"gl\" lang=\"gl\" title=\"Galician\"><span>Galego</span></a></li><li class=\"interlanguage-link interwiki-ko mw-list-item\"><a class=\"interlanguage-link-target\" href=\"https://ko.wikipedia.org/wiki/\" hreflang=\"ko\" lang=\"ko\" title=\"Korean\"><span>한국어</span></a></li><li class=\"interlanguage-link interwiki-hr mw-list-item\"><a class=\"interlanguage-link-target\" href=\"https://hr.wikipedia.org/wiki/\" hreflang=\"hr\" lang=\"hr\" title=\"Croatian\"><span>Hrvatski</span></a></li><li class=\"interlanguage-link interwiki-id mw-list-item\"><a class=\"interlanguage-link-target\" href=\"https://id.wikipedia.org/wiki/\" hreflang=\"id\" lang=\"id\" title=\"Indonesian\"><span>Bahasa Indonesia</span></a></li><li class=\"interlanguage-link interwiki-it mw-list-item\"><a class=\"interlanguage-link-target\" href=\"https://it.wikipedia.org/wiki/\" hreflang=\"it\" lang=\"it\" title=\"Italian\"><span>Italiano</span></a></li><li class=\"interlanguage-link interwiki-he mw-list-item\"><a class=\"interlanguage-link-target\" href=\"https://he.wikipedia.org/wiki/\" hreflang=\"he\" lang=\"he\" title=\"Hebrew\"><span>עברית</span></a></li><li class=\"interlanguage-link interwiki-ka mw-list-item\"><a class=\"interlanguage-link-target\" href=\"https://ka.wikipedia.org/wiki/\" hreflang=\"ka\" lang=\"ka\" title=\"Georgian\"><span>ქართული</span></a></li><li class=\"interlanguage-link interwiki-lv mw-list-item\"><a class=\"interlanguage-link-target\" href=\"https://lv.wikipedia.org/wiki/\" hreflang=\"lv\" lang=\"lv\" title=\"Latvian\"><span>Latviešu</span></a></li><li class=\"interlanguage-link interwiki-lt mw-list-item\"><a class=\"interlanguage-link-target\" href=\"https://lt.wikipedia.org/wiki/\" hreflang=\"lt\" lang=\"lt\" title=\"Lithuanian\"><span>Lietuvių</span></a></li><li class=\"interlanguage-link interwiki-hu mw-list-item\"><a class=\"interlanguage-link-target\" href=\"https://hu.wikipedia.org/wiki/\" hreflang=\"hu\" lang=\"hu\" title=\"Hungarian\"><span>Magyar</span></a></li><li class=\"interlanguage-link interwiki-mk mw-list-item\"><a class=\"interlanguage-link-target\" href=\"https://mk.wikipedia.org/wiki/\" hreflang=\"mk\" lang=\"mk\" title=\"Macedonian\"><span>Македонски</span></a></li><li class=\"interlanguage-link interwiki-ms mw-list-item\"><a class=\"interlanguage-link-target\" href=\"https://ms.wikipedia.org/wiki/\" hreflang=\"ms\" lang=\"ms\" title=\"Malay\"><span>Bahasa Melayu</span></a></li><li class=\"interlanguage-link interwiki-nl mw-list-item\"><a class=\"interlanguage-link-target\" href=\"https://nl.wikipedia.org/wiki/\" hreflang=\"nl\" lang=\"nl\" title=\"Dutch\"><span>Nederlands</span></a></li><li class=\"interlanguage-link interwiki-ja mw-list-item\"><a class=\"interlanguage-link-target\" href=\"https://ja.wikipedia.org/wiki/\" hreflang=\"ja\" lang=\"ja\" title=\"Japanese\"><span>日本語</span></a></li><li class=\"interlanguage-link interwiki-no mw-list-item\"><a class=\"interlanguage-link-target\" href=\"https://no.wikipedia.org/wiki/\" hreflang=\"nb\" lang=\"nb\" title=\"Norwegian Bokmål\"><span>Norsk bokmål</span></a></li><li class=\"interlanguage-link interwiki-nn mw-list-item\"><a class=\"interlanguage-link-target\" href=\"https://nn.wikipedia.org/wiki/\" hreflang=\"nn\" lang=\"nn\" title=\"Norwegian Nynorsk\"><span>Norsk nynorsk</span></a></li><li class=\"interlanguage-link interwiki-pl mw-list-item\"><a class=\"interlanguage-link-target\" href=\"https://pl.wikipedia.org/wiki/\" hreflang=\"pl\" lang=\"pl\" title=\"Polish\"><span>Polski</span></a></li><li class=\"interlanguage-link interwiki-pt mw-list-item\"><a class=\"interlanguage-link-target\" href=\"https://pt.wikipedia.org/wiki/\" hreflang=\"pt\" lang=\"pt\" title=\"Portuguese\"><span>Português</span></a></li><li class=\"interlanguage-link interwiki-ro mw-list-item\"><a class=\"interlanguage-link-target\" href=\"https://ro.wikipedia.org/wiki/\" hreflang=\"ro\" lang=\"ro\" title=\"Romanian\"><span>Română</span></a></li><li class=\"interlanguage-link interwiki-ru mw-list-item\"><a class=\"interlanguage-link-target\" href=\"https://ru.wikipedia.org/wiki/\" hreflang=\"ru\" lang=\"ru\" title=\"Russian\"><span>Русский</span></a></li><li class=\"interlanguage-link interwiki-simple mw-list-item\"><a class=\"interlanguage-link-target\" href=\"https://simple.wikipedia.org/wiki/\" hreflang=\"en-simple\" lang=\"en-simple\" title=\"Simple English\"><span>Simple English</span></a></li><li class=\"interlanguage-link interwiki-sk mw-list-item\"><a class=\"interlanguage-link-target\" href=\"https://sk.wikipedia.org/wiki/\" hreflang=\"sk\" lang=\"sk\" title=\"Slovak\"><span>Slovenčina</span></a></li><li class=\"interlanguage-link interwiki-sl mw-list-item\"><a class=\"interlanguage-link-target\" href=\"https://sl.wikipedia.org/wiki/\" hreflang=\"sl\" lang=\"sl\" title=\"Slovenian\"><span>Slovenščina</span></a></li><li class=\"interlanguage-link interwiki-sr mw-list-item\"><a class=\"interlanguage-link-target\" href=\"https://sr.wikipedia.org/wiki/\" hreflang=\"sr\" lang=\"sr\" title=\"Serbian\"><span>Српски / srpski</span></a></li><li class=\"interlanguage-link interwiki-sh mw-list-item\"><a class=\"interlanguage-link-target\" href=\"https://sh.wikipedia.org/wiki/\" hreflang=\"sh\" lang=\"sh\" title=\"Serbo-Croatian\"><span>Srpskohrvatski / српскохрватски</span></a></li><li class=\"interlanguage-link interwiki-fi mw-list-item\"><a class=\"interlanguage-link-target\" href=\"https://fi.wikipedia.org/wiki/\" hreflang=\"fi\" lang=\"fi\" title=\"Finnish\"><span>Suomi</span></a></li><li class=\"interlanguage-link interwiki-sv mw-list-item\"><a class=\"interlanguage-link-target\" href=\"https://sv.wikipedia.org/wiki/\" hreflang=\"sv\" lang=\"sv\" title=\"Swedish\"><span>Svenska</span></a></li><li class=\"interlanguage-link interwiki-th mw-list-item\"><a class=\"interlanguage-link-target\" href=\"https://th.wikipedia.org/wiki/\" hreflang=\"th\" lang=\"th\" title=\"Thai\"><span>ไทย</span></a></li><li class=\"interlanguage-link interwiki-tr mw-list-item\"><a class=\"interlanguage-link-target\" href=\"https://tr.wikipedia.org/wiki/\" hreflang=\"tr\" lang=\"tr\" title=\"Turkish\"><span>Türkçe</span></a></li><li class=\"interlanguage-link interwiki-uk mw-list-item\"><a class=\"interlanguage-link-target\" href=\"https://uk.wikipedia.org/wiki/\" hreflang=\"uk\" lang=\"uk\" title=\"Ukrainian\"><span>Українська</span></a></li><li class=\"interlanguage-link interwiki-vi mw-list-item\"><a class=\"interlanguage-link-target\" href=\"https://vi.wikipedia.org/wiki/\" hreflang=\"vi\" lang=\"vi\" title=\"Vietnamese\"><span>Tiếng Việt</span></a></li><li class=\"interlanguage-link interwiki-zh mw-list-item\"><a class=\"interlanguage-link-target\" href=\"https://zh.wikipedia.org/wiki/\" hreflang=\"zh\" lang=\"zh\" title=\"Chinese\"><span>中文</span></a></li></ul>\n",
       "</div>\n",
       "</nav>\n",
       "</div>\n",
       "</div>\n",
       "<footer class=\"mw-footer\" id=\"footer\" role=\"contentinfo\">\n",
       "<ul id=\"footer-info\">\n",
       "<li id=\"footer-info-lastmod\"> This page was last edited on 3 February 2021, at 11:11<span class=\"anonymous-show\"> (UTC)</span>.</li>\n",
       "<li id=\"footer-info-copyright\">Text is available under the <a href=\"//en.wikipedia.org/wiki/Wikipedia:Text_of_Creative_Commons_Attribution-ShareAlike_3.0_Unported_License\" rel=\"license\">Creative Commons Attribution-ShareAlike License</a><a href=\"//creativecommons.org/licenses/by-sa/3.0/\" rel=\"license\" style=\"display:none;\"></a>;\n",
       "additional terms may apply.  By using this site, you agree to the <a href=\"//foundation.wikimedia.org/wiki/Terms_of_Use\">Terms of Use</a> and <a href=\"//foundation.wikimedia.org/wiki/Privacy_policy\">Privacy Policy</a>. Wikipedia® is a registered trademark of the <a href=\"//www.wikimediafoundation.org/\">Wikimedia Foundation, Inc.</a>, a non-profit organization.</li>\n",
       "</ul>\n",
       "<ul id=\"footer-places\">\n",
       "<li id=\"footer-places-privacy\"><a class=\"extiw\" href=\"https://foundation.wikimedia.org/wiki/Privacy_policy\" title=\"wmf:Privacy policy\">Privacy policy</a></li>\n",
       "<li id=\"footer-places-about\"><a href=\"/wiki/Wikipedia:About\" title=\"Wikipedia:About\">About Wikipedia</a></li>\n",
       "<li id=\"footer-places-disclaimer\"><a href=\"/wiki/Wikipedia:General_disclaimer\" title=\"Wikipedia:General disclaimer\">Disclaimers</a></li>\n",
       "<li id=\"footer-places-contact\"><a href=\"//en.wikipedia.org/wiki/Wikipedia:Contact_us\">Contact Wikipedia</a></li>\n",
       "<li id=\"footer-places-mobileview\"><a class=\"noprint stopMobileRedirectToggle\" href=\"//en.m.wikipedia.org/w/index.php?title=Main_Page&amp;mobileaction=toggle_view_mobile\">Mobile view</a></li>\n",
       "<li id=\"footer-places-developers\"><a href=\"https://www.mediawiki.org/wiki/Special:MyLanguage/How_to_contribute\">Developers</a></li>\n",
       "<li id=\"footer-places-statslink\"><a href=\"https://stats.wikimedia.org/#/en.wikipedia.org\">Statistics</a></li>\n",
       "<li id=\"footer-places-cookiestatement\"><a href=\"https://foundation.wikimedia.org/wiki/Cookie_statement\">Cookie statement</a></li>\n",
       "</ul>\n",
       "<ul class=\"noprint\" id=\"footer-icons\">\n",
       "<li id=\"footer-copyrightico\"><a href=\"https://wikimediafoundation.org/\"><img alt=\"Wikimedia Foundation\" height=\"31\" loading=\"lazy\" src=\"/static/images/footer/wikimedia-button.png\" srcset=\"/static/images/footer/wikimedia-button-1.5x.png 1.5x, /static/images/footer/wikimedia-button-2x.png 2x\" width=\"88\"/></a></li>\n",
       "<li id=\"footer-poweredbyico\"><a href=\"https://www.mediawiki.org/\"><img alt=\"Powered by MediaWiki\" height=\"31\" loading=\"lazy\" src=\"/static/images/footer/poweredby_mediawiki_88x31.png\" srcset=\"/static/images/footer/poweredby_mediawiki_132x47.png 1.5x, /static/images/footer/poweredby_mediawiki_176x62.png 2x\" width=\"88\"/></a></li>\n",
       "</ul>\n",
       "</footer>\n",
       "<script>(RLQ=window.RLQ||[]).push(function(){mw.config.set({\"wgPageParseReport\":{\"limitreport\":{\"cputime\":\"0.479\",\"walltime\":\"0.584\",\"ppvisitednodes\":{\"value\":4101,\"limit\":1000000},\"postexpandincludesize\":{\"value\":123225,\"limit\":2097152},\"templateargumentsize\":{\"value\":8624,\"limit\":2097152},\"expansiondepth\":{\"value\":21,\"limit\":40},\"expensivefunctioncount\":{\"value\":15,\"limit\":500},\"unstrip-depth\":{\"value\":0,\"limit\":20},\"unstrip-size\":{\"value\":5676,\"limit\":5000000},\"entityaccesscount\":{\"value\":0,\"limit\":400},\"timingprofile\":[\"100.00%  363.155      1 -total\",\" 40.24%  146.140      1 Wikipedia:Main_Page/Tomorrow\",\" 35.86%  130.230      9 Template:Main_page_image\",\" 25.10%   91.154      9 Template:Str_number/trim\",\" 16.91%   61.417      9 Template:If_empty\",\" 16.12%   58.546      2 Template:Main_page_image/TFA\",\" 15.70%   57.021      1 Wikipedia:Today's_featured_article/January_24,_2022\",\" 15.38%   55.860      2 Template:Wikipedia_languages\",\" 12.25%   44.501      1 Wikipedia:Selected_anniversaries/January_25\",\" 10.98%   39.884     18 Template:Remove_file_prefix\"]},\"scribunto\":{\"limitreport-timeusage\":{\"value\":\"0.080\",\"limit\":\"10.000\"},\"limitreport-memusage\":{\"value\":1823854,\"limit\":52428800}},\"cachereport\":{\"origin\":\"mw1351\",\"timestamp\":\"20220124080924\",\"ttl\":3600,\"transientcontent\":true}}});});</script>\n",
       "<script type=\"application/ld+json\">{\"@context\":\"https:\\/\\/schema.org\",\"@type\":\"Article\",\"name\":\"Main Page\",\"url\":\"https:\\/\\/en.wikipedia.org\\/wiki\\/Main_Page\",\"sameAs\":\"http:\\/\\/www.wikidata.org\\/entity\\/Q5296\",\"mainEntity\":\"http:\\/\\/www.wikidata.org\\/entity\\/Q5296\",\"author\":{\"@type\":\"Organization\",\"name\":\"Contributors to Wikimedia projects\"},\"publisher\":{\"@type\":\"Organization\",\"name\":\"Wikimedia Foundation, Inc.\",\"logo\":{\"@type\":\"ImageObject\",\"url\":\"https:\\/\\/www.wikimedia.org\\/static\\/images\\/wmf-hor-googpub.png\"}},\"datePublished\":\"2002-01-26T15:28:12Z\",\"dateModified\":\"2021-02-03T11:11:30Z\",\"headline\":\"Wikimedia project page\"}</script>\n",
       "<script>(RLQ=window.RLQ||[]).push(function(){mw.config.set({\"wgBackendResponseTime\":183,\"wgHostname\":\"mw1332\"});});</script>\n",
       "</body>\n",
       "</html>"
      ]
     },
     "execution_count": 7,
     "metadata": {},
     "output_type": "execute_result"
    }
   ],
   "source": [
    "soup = BeautifulSoup(page.content)\n",
    "soup"
   ]
  },
  {
   "cell_type": "code",
   "execution_count": 14,
   "id": "5ee013e1",
   "metadata": {},
   "outputs": [
    {
     "data": {
      "text/plain": [
       "<span class=\"mw-headline\" id=\"From_today's_featured_article\">From today's featured article</span>"
      ]
     },
     "execution_count": 14,
     "metadata": {},
     "output_type": "execute_result"
    }
   ],
   "source": [
    "header = soup.find('span',class_=\"mw-headline\")\n",
    "header"
   ]
  },
  {
   "cell_type": "code",
   "execution_count": 15,
   "id": "458b8aac",
   "metadata": {
    "scrolled": true
   },
   "outputs": [
    {
     "data": {
      "text/plain": [
       "\"From today's featured article\""
      ]
     },
     "execution_count": 15,
     "metadata": {},
     "output_type": "execute_result"
    }
   ],
   "source": [
    "header.text"
   ]
  },
  {
   "cell_type": "code",
   "execution_count": 18,
   "id": "250cf9d5",
   "metadata": {},
   "outputs": [
    {
     "data": {
      "text/plain": [
       "[\"From today's featured article\",\n",
       " 'Did you know\\xa0...',\n",
       " 'In the news',\n",
       " 'On this day',\n",
       " \"From today's featured list\",\n",
       " \"Today's featured picture\",\n",
       " 'Other areas of Wikipedia',\n",
       " \"Wikipedia's sister projects\",\n",
       " 'Wikipedia languages']"
      ]
     },
     "execution_count": 18,
     "metadata": {},
     "output_type": "execute_result"
    }
   ],
   "source": [
    "titles = []\n",
    "for i in soup.find_all('span',class_=\"mw-headline\"):\n",
    "    titles.append(i.text)\n",
    "    \n",
    "titles"
   ]
  },
  {
   "cell_type": "markdown",
   "id": "f118f8fc",
   "metadata": {},
   "source": [
    "### Answer 2."
   ]
  },
  {
   "cell_type": "code",
   "execution_count": 42,
   "id": "6dbd54e4",
   "metadata": {},
   "outputs": [],
   "source": [
    "# importing the required libraries\n",
    "from bs4 import BeautifulSoup\n",
    "import requests"
   ]
  },
  {
   "cell_type": "code",
   "execution_count": 51,
   "id": "c9efad0f",
   "metadata": {},
   "outputs": [],
   "source": [
    "url = \"https://www.imdb.com/list/ls091520106/\"\n",
    "\n",
    "page2 = requests.get(url)"
   ]
  },
  {
   "cell_type": "code",
   "execution_count": 52,
   "id": "971f4bcf",
   "metadata": {},
   "outputs": [],
   "source": [
    "# check the page content\n",
    "\n",
    "soup3 = BeautifulSoup(page2.content)"
   ]
  },
  {
   "cell_type": "code",
   "execution_count": 56,
   "id": "c5969e15",
   "metadata": {},
   "outputs": [],
   "source": [
    "# top 100 rated movies name\n",
    "\n",
    "title = soup3.find_all(\"h3\",class_=\"lister-item-header\")\n",
    "\n",
    "#get text from movie name web elemnts\n",
    "\n",
    "movies_title = [] #empty list\n",
    "\n",
    "for i in title:\n",
    "    for j in i.find_all(\"a\"):\n",
    "        movies_title.append(j.text)"
   ]
  },
  {
   "cell_type": "code",
   "execution_count": 57,
   "id": "33795cc2",
   "metadata": {
    "scrolled": true
   },
   "outputs": [
    {
     "data": {
      "text/plain": [
       "['The Shawshank Redemption',\n",
       " 'The Godfather',\n",
       " 'The Godfather: Part II',\n",
       " 'The Dark Knight',\n",
       " '12 Angry Men',\n",
       " \"Schindler's List\",\n",
       " 'The Lord of the Rings: The Return of the King',\n",
       " 'Pulp Fiction',\n",
       " 'Il buono, il brutto, il cattivo',\n",
       " 'Fight Club',\n",
       " 'Joker',\n",
       " 'The Lord of the Rings: The Fellowship of the Ring',\n",
       " 'Forrest Gump',\n",
       " 'Inception',\n",
       " 'Star Wars: Episode V - The Empire Strikes Back',\n",
       " 'The Lord of the Rings: The Two Towers',\n",
       " 'The Matrix',\n",
       " \"One Flew Over the Cuckoo's Nest\",\n",
       " 'Goodfellas',\n",
       " 'Shichinin no samurai',\n",
       " 'Se7en',\n",
       " 'Cidade de Deus',\n",
       " 'La vita è bella',\n",
       " 'The Silence of the Lambs',\n",
       " 'Star Wars',\n",
       " \"It's a Wonderful Life\",\n",
       " 'Saving Private Ryan',\n",
       " 'Sen to Chihiro no kamikakushi',\n",
       " 'The Green Mile',\n",
       " 'Léon',\n",
       " 'Seppuku',\n",
       " 'Interstellar',\n",
       " 'The Usual Suspects',\n",
       " 'The Lion King',\n",
       " 'American History X',\n",
       " 'Back to the Future',\n",
       " 'The Pianist',\n",
       " 'Modern Times',\n",
       " 'Terminator 2: Judgment Day',\n",
       " 'The Intouchables',\n",
       " 'Psycho',\n",
       " 'Gladiator',\n",
       " 'City Lights',\n",
       " 'The Departed',\n",
       " 'Whiplash',\n",
       " 'Once Upon a Time in the West',\n",
       " 'The Prestige',\n",
       " 'Avengers: Endgame',\n",
       " 'Casablanca',\n",
       " 'Hotaru no haka',\n",
       " 'Rear Window',\n",
       " 'Nuovo Cinema Paradiso',\n",
       " 'Alien',\n",
       " 'Raiders of the Lost Ark',\n",
       " 'Memento',\n",
       " 'Apocalypse Now',\n",
       " 'The Great Dictator',\n",
       " 'The Lives of Others',\n",
       " 'Avengers: Infinity War',\n",
       " 'Django Unchained',\n",
       " 'Spider-Man: Into the Spider-Verse',\n",
       " 'The Shining',\n",
       " 'Paths of Glory',\n",
       " 'WALL·E',\n",
       " 'Sunset Blvd.',\n",
       " 'Dr. Strangelove or: How I Learned to Stop Worrying and Love the Bomb',\n",
       " 'Mononoke-hime',\n",
       " 'Oldeuboi',\n",
       " 'Witness for the Prosecution',\n",
       " 'The Dark Knight Rises',\n",
       " 'Once Upon a Time in America',\n",
       " 'Gisaengchung',\n",
       " 'Aliens',\n",
       " 'American Beauty',\n",
       " 'Coco',\n",
       " 'Kimi no na wa.',\n",
       " 'Braveheart',\n",
       " 'Das Boot',\n",
       " '3 Idiots',\n",
       " 'Taare Zameen Par',\n",
       " 'Star Wars: Episode VI - Return of the Jedi',\n",
       " 'Toy Story',\n",
       " 'Reservoir Dogs',\n",
       " 'Amadeus',\n",
       " 'Dangal',\n",
       " 'Good Will Hunting',\n",
       " 'Inglourious Basterds',\n",
       " 'M - Eine Stadt sucht einen Mörder',\n",
       " 'Requiem for a Dream',\n",
       " '2001: A Space Odyssey',\n",
       " 'Vertigo',\n",
       " 'Eternal Sunshine of the Spotless Mind',\n",
       " 'Citizen Kane',\n",
       " 'Full Metal Jacket',\n",
       " 'Jagten',\n",
       " 'North by Northwest',\n",
       " 'A Clockwork Orange',\n",
       " 'Snatch',\n",
       " \"Le fabuleux destin d'Amélie Poulain\",\n",
       " 'The Kid']"
      ]
     },
     "execution_count": 57,
     "metadata": {},
     "output_type": "execute_result"
    }
   ],
   "source": [
    "movies_title"
   ]
  },
  {
   "cell_type": "code",
   "execution_count": 68,
   "id": "4d2a1f97",
   "metadata": {},
   "outputs": [],
   "source": [
    "# year of release of the movies\n",
    "\n",
    "release = soup3.find_all('span',class_=\"lister-item-year\")\n",
    "\n",
    "#get text from movie release year elements\n",
    "\n",
    "release_year = [] #empty list\n",
    "\n",
    "for i in soup3.find_all('span',class_=\"lister-item-year\"):\n",
    "    release_year.append(i.text)"
   ]
  },
  {
   "cell_type": "code",
   "execution_count": 69,
   "id": "7ff23f56",
   "metadata": {
    "scrolled": true
   },
   "outputs": [
    {
     "data": {
      "text/plain": [
       "['(1994)',\n",
       " '(1972)',\n",
       " '(1974)',\n",
       " '(2008)',\n",
       " '(1957)',\n",
       " '(1993)',\n",
       " '(2003)',\n",
       " '(1994)',\n",
       " '(1966)',\n",
       " '(1999)',\n",
       " '(I) (2019)',\n",
       " '(2001)',\n",
       " '(1994)',\n",
       " '(2010)',\n",
       " '(1980)',\n",
       " '(2002)',\n",
       " '(1999)',\n",
       " '(1975)',\n",
       " '(1990)',\n",
       " '(1954)',\n",
       " '(1995)',\n",
       " '(2002)',\n",
       " '(1997)',\n",
       " '(1991)',\n",
       " '(1977)',\n",
       " '(1946)',\n",
       " '(1998)',\n",
       " '(2001)',\n",
       " '(1999)',\n",
       " '(1994)',\n",
       " '(1962)',\n",
       " '(2014)',\n",
       " '(1995)',\n",
       " '(1994)',\n",
       " '(1998)',\n",
       " '(1985)',\n",
       " '(2002)',\n",
       " '(1936)',\n",
       " '(1991)',\n",
       " '(2011)',\n",
       " '(1960)',\n",
       " '(2000)',\n",
       " '(1931)',\n",
       " '(2006)',\n",
       " '(2014)',\n",
       " '(1968)',\n",
       " '(2006)',\n",
       " '(2019)',\n",
       " '(1942)',\n",
       " '(1988)',\n",
       " '(1954)',\n",
       " '(1988)',\n",
       " '(1979)',\n",
       " '(1981)',\n",
       " '(2000)',\n",
       " '(1979)',\n",
       " '(1940)',\n",
       " '(2006)',\n",
       " '(2018)',\n",
       " '(2012)',\n",
       " '(2018)',\n",
       " '(1980)',\n",
       " '(1957)',\n",
       " '(2008)',\n",
       " '(1950)',\n",
       " '(1964)',\n",
       " '(1997)',\n",
       " '(2003)',\n",
       " '(1957)',\n",
       " '(2012)',\n",
       " '(1984)',\n",
       " '(2019)',\n",
       " '(1986)',\n",
       " '(1999)',\n",
       " '(I) (2017)',\n",
       " '(2016)',\n",
       " '(1995)',\n",
       " '(1981)',\n",
       " '(2009)',\n",
       " '(2007)',\n",
       " '(1983)',\n",
       " '(1995)',\n",
       " '(1992)',\n",
       " '(1984)',\n",
       " '(2016)',\n",
       " '(1997)',\n",
       " '(2009)',\n",
       " '(1931)',\n",
       " '(2000)',\n",
       " '(1968)',\n",
       " '(1958)',\n",
       " '(2004)',\n",
       " '(1941)',\n",
       " '(1987)',\n",
       " '(2012)',\n",
       " '(1959)',\n",
       " '(1971)',\n",
       " '(2000)',\n",
       " '(2001)',\n",
       " '(1921)']"
      ]
     },
     "execution_count": 69,
     "metadata": {},
     "output_type": "execute_result"
    }
   ],
   "source": [
    "release_year"
   ]
  },
  {
   "cell_type": "code",
   "execution_count": 70,
   "id": "272a2c6e",
   "metadata": {},
   "outputs": [
    {
     "data": {
      "text/plain": [
       "100"
      ]
     },
     "execution_count": 70,
     "metadata": {},
     "output_type": "execute_result"
    }
   ],
   "source": [
    "len(release_year)"
   ]
  },
  {
   "cell_type": "code",
   "execution_count": 232,
   "id": "70ef84ee",
   "metadata": {},
   "outputs": [],
   "source": [
    "# ratings of the movies\n",
    "\n",
    "rating = soup3.find_all(\"div\",class_=\"ipl-rating-star small\")\n",
    "\n",
    "#get text from movie ratings web elements\n",
    "\n",
    "IMDB_rating = [] #empty list\n",
    "\n",
    "for i in rating:\n",
    "    IMDB_rating.append(float(i.text))"
   ]
  },
  {
   "cell_type": "code",
   "execution_count": 233,
   "id": "743884bc",
   "metadata": {
    "scrolled": true
   },
   "outputs": [
    {
     "data": {
      "text/plain": [
       "[9.3,\n",
       " 9.2,\n",
       " 9.0,\n",
       " 9.0,\n",
       " 9.0,\n",
       " 8.9,\n",
       " 8.9,\n",
       " 8.9,\n",
       " 8.8,\n",
       " 8.8,\n",
       " 8.4,\n",
       " 8.8,\n",
       " 8.8,\n",
       " 8.8,\n",
       " 8.7,\n",
       " 8.7,\n",
       " 8.7,\n",
       " 8.7,\n",
       " 8.7,\n",
       " 8.6,\n",
       " 8.6,\n",
       " 8.6,\n",
       " 8.6,\n",
       " 8.6,\n",
       " 8.6,\n",
       " 8.6,\n",
       " 8.6,\n",
       " 8.6,\n",
       " 8.6,\n",
       " 8.5,\n",
       " 8.6,\n",
       " 8.6,\n",
       " 8.5,\n",
       " 8.5,\n",
       " 8.5,\n",
       " 8.5,\n",
       " 8.5,\n",
       " 8.5,\n",
       " 8.5,\n",
       " 8.5,\n",
       " 8.5,\n",
       " 8.5,\n",
       " 8.5,\n",
       " 8.5,\n",
       " 8.5,\n",
       " 8.5,\n",
       " 8.5,\n",
       " 8.4,\n",
       " 8.5,\n",
       " 8.5,\n",
       " 8.5,\n",
       " 8.5,\n",
       " 8.4,\n",
       " 8.4,\n",
       " 8.4,\n",
       " 8.4,\n",
       " 8.4,\n",
       " 8.4,\n",
       " 8.4,\n",
       " 8.4,\n",
       " 8.4,\n",
       " 8.4,\n",
       " 8.4,\n",
       " 8.4,\n",
       " 8.4,\n",
       " 8.4,\n",
       " 8.4,\n",
       " 8.4,\n",
       " 8.4,\n",
       " 8.4,\n",
       " 8.3,\n",
       " 8.6,\n",
       " 8.3,\n",
       " 8.3,\n",
       " 8.4,\n",
       " 8.4,\n",
       " 8.3,\n",
       " 8.3,\n",
       " 8.4,\n",
       " 8.4,\n",
       " 8.3,\n",
       " 8.3,\n",
       " 8.3,\n",
       " 8.3,\n",
       " 8.4,\n",
       " 8.3,\n",
       " 8.3,\n",
       " 8.3,\n",
       " 8.3,\n",
       " 8.3,\n",
       " 8.3,\n",
       " 8.3,\n",
       " 8.3,\n",
       " 8.3,\n",
       " 8.3,\n",
       " 8.3,\n",
       " 8.3,\n",
       " 8.2,\n",
       " 8.3,\n",
       " 8.3]"
      ]
     },
     "execution_count": 233,
     "metadata": {},
     "output_type": "execute_result"
    }
   ],
   "source": [
    "IMDB_rating"
   ]
  },
  {
   "cell_type": "code",
   "execution_count": 234,
   "id": "0bdefe0f",
   "metadata": {},
   "outputs": [
    {
     "data": {
      "text/plain": [
       "(100, 100)"
      ]
     },
     "execution_count": 234,
     "metadata": {},
     "output_type": "execute_result"
    }
   ],
   "source": [
    "len(movies_title), len(IMDB_rating)"
   ]
  },
  {
   "cell_type": "code",
   "execution_count": 235,
   "id": "b921e3ac",
   "metadata": {},
   "outputs": [],
   "source": [
    "# making data frame\n",
    "import pandas as pd\n",
    "df1 = pd.DataFrame({'Titles':movies_title,'Ratings':IMDB_rating,'Year of Release':release_year})"
   ]
  },
  {
   "cell_type": "code",
   "execution_count": 236,
   "id": "b71dcc0b",
   "metadata": {},
   "outputs": [
    {
     "data": {
      "text/html": [
       "<div>\n",
       "<style scoped>\n",
       "    .dataframe tbody tr th:only-of-type {\n",
       "        vertical-align: middle;\n",
       "    }\n",
       "\n",
       "    .dataframe tbody tr th {\n",
       "        vertical-align: top;\n",
       "    }\n",
       "\n",
       "    .dataframe thead th {\n",
       "        text-align: right;\n",
       "    }\n",
       "</style>\n",
       "<table border=\"1\" class=\"dataframe\">\n",
       "  <thead>\n",
       "    <tr style=\"text-align: right;\">\n",
       "      <th></th>\n",
       "      <th>Titles</th>\n",
       "      <th>Ratings</th>\n",
       "      <th>Year of Release</th>\n",
       "    </tr>\n",
       "  </thead>\n",
       "  <tbody>\n",
       "    <tr>\n",
       "      <th>0</th>\n",
       "      <td>The Shawshank Redemption</td>\n",
       "      <td>9.3</td>\n",
       "      <td>(1994)</td>\n",
       "    </tr>\n",
       "    <tr>\n",
       "      <th>1</th>\n",
       "      <td>The Godfather</td>\n",
       "      <td>9.2</td>\n",
       "      <td>(1972)</td>\n",
       "    </tr>\n",
       "    <tr>\n",
       "      <th>2</th>\n",
       "      <td>The Godfather: Part II</td>\n",
       "      <td>9.0</td>\n",
       "      <td>(1974)</td>\n",
       "    </tr>\n",
       "    <tr>\n",
       "      <th>3</th>\n",
       "      <td>The Dark Knight</td>\n",
       "      <td>9.0</td>\n",
       "      <td>(2008)</td>\n",
       "    </tr>\n",
       "    <tr>\n",
       "      <th>4</th>\n",
       "      <td>12 Angry Men</td>\n",
       "      <td>9.0</td>\n",
       "      <td>(1957)</td>\n",
       "    </tr>\n",
       "    <tr>\n",
       "      <th>...</th>\n",
       "      <td>...</td>\n",
       "      <td>...</td>\n",
       "      <td>...</td>\n",
       "    </tr>\n",
       "    <tr>\n",
       "      <th>95</th>\n",
       "      <td>North by Northwest</td>\n",
       "      <td>8.3</td>\n",
       "      <td>(1959)</td>\n",
       "    </tr>\n",
       "    <tr>\n",
       "      <th>96</th>\n",
       "      <td>A Clockwork Orange</td>\n",
       "      <td>8.3</td>\n",
       "      <td>(1971)</td>\n",
       "    </tr>\n",
       "    <tr>\n",
       "      <th>97</th>\n",
       "      <td>Snatch</td>\n",
       "      <td>8.2</td>\n",
       "      <td>(2000)</td>\n",
       "    </tr>\n",
       "    <tr>\n",
       "      <th>98</th>\n",
       "      <td>Le fabuleux destin d'Amélie Poulain</td>\n",
       "      <td>8.3</td>\n",
       "      <td>(2001)</td>\n",
       "    </tr>\n",
       "    <tr>\n",
       "      <th>99</th>\n",
       "      <td>The Kid</td>\n",
       "      <td>8.3</td>\n",
       "      <td>(1921)</td>\n",
       "    </tr>\n",
       "  </tbody>\n",
       "</table>\n",
       "<p>100 rows × 3 columns</p>\n",
       "</div>"
      ],
      "text/plain": [
       "                                 Titles  Ratings Year of Release\n",
       "0              The Shawshank Redemption      9.3          (1994)\n",
       "1                         The Godfather      9.2          (1972)\n",
       "2                The Godfather: Part II      9.0          (1974)\n",
       "3                       The Dark Knight      9.0          (2008)\n",
       "4                          12 Angry Men      9.0          (1957)\n",
       "..                                  ...      ...             ...\n",
       "95                   North by Northwest      8.3          (1959)\n",
       "96                   A Clockwork Orange      8.3          (1971)\n",
       "97                               Snatch      8.2          (2000)\n",
       "98  Le fabuleux destin d'Amélie Poulain      8.3          (2001)\n",
       "99                              The Kid      8.3          (1921)\n",
       "\n",
       "[100 rows x 3 columns]"
      ]
     },
     "execution_count": 236,
     "metadata": {},
     "output_type": "execute_result"
    }
   ],
   "source": [
    "df1"
   ]
  },
  {
   "cell_type": "markdown",
   "id": "db84c91a",
   "metadata": {},
   "source": [
    "### Answer 3."
   ]
  },
  {
   "cell_type": "code",
   "execution_count": 13,
   "id": "79f1811a",
   "metadata": {},
   "outputs": [],
   "source": [
    "# importing the required libraries\n",
    "from bs4 import BeautifulSoup\n",
    "import requests"
   ]
  },
  {
   "cell_type": "code",
   "execution_count": 14,
   "id": "fe904124",
   "metadata": {},
   "outputs": [],
   "source": [
    "url = \"https://www.imdb.com/list/ls009997493/\"\n",
    "\n",
    "page = requests.get(url)"
   ]
  },
  {
   "cell_type": "code",
   "execution_count": 16,
   "id": "11d6fa4a",
   "metadata": {},
   "outputs": [],
   "source": [
    "# check the page content\n",
    "\n",
    "soup2= BeautifulSoup(page.content)"
   ]
  },
  {
   "cell_type": "code",
   "execution_count": 17,
   "id": "d14c4d0d",
   "metadata": {},
   "outputs": [],
   "source": [
    "# top Movies name\n",
    "\n",
    "name = soup2.find_all(\"h3\", class_=\"lister-item-header\")\n",
    "\n",
    "# get text from movie name web elements\n",
    "\n",
    "movies_name = [] #empty list\n",
    "\n",
    "for i in name:\n",
    "\n",
    "    for j in i.find_all(\"a\"):\n",
    "\n",
    "        movies_name.append(j.text)"
   ]
  },
  {
   "cell_type": "code",
   "execution_count": 19,
   "id": "a6799251",
   "metadata": {},
   "outputs": [
    {
     "data": {
      "text/plain": [
       "100"
      ]
     },
     "execution_count": 19,
     "metadata": {},
     "output_type": "execute_result"
    }
   ],
   "source": [
    "len(movies_name)"
   ]
  },
  {
   "cell_type": "code",
   "execution_count": 39,
   "id": "c0f86e77",
   "metadata": {},
   "outputs": [],
   "source": [
    "# year of release of the movies\n",
    "\n",
    "year = soup2.find_all('span',class_=\"lister-item-year\")\n",
    "\n",
    "#get text from movie release year elements\n",
    "\n",
    "year_list = [] #empty list\n",
    "\n",
    "for i in soup2.find_all('span',class_=\"lister-item-year\"):\n",
    "    year_list.append(i.text)"
   ]
  },
  {
   "cell_type": "code",
   "execution_count": 40,
   "id": "fc47f403",
   "metadata": {
    "scrolled": true
   },
   "outputs": [
    {
     "data": {
      "text/plain": [
       "['(2006)',\n",
       " '(2009)',\n",
       " '(2007)',\n",
       " '(2001)',\n",
       " '(2004)',\n",
       " '(2001)',\n",
       " '(2012)',\n",
       " '(2012)',\n",
       " '(1971)',\n",
       " '(2003)',\n",
       " '(2008)',\n",
       " '(1994)',\n",
       " '(1975)',\n",
       " '(2013)',\n",
       " '(2000)',\n",
       " '(2010)',\n",
       " '(2012)',\n",
       " '(2005)',\n",
       " '(2007)',\n",
       " '(2006)',\n",
       " '(1992)',\n",
       " '(2011)',\n",
       " '(2012)',\n",
       " '(1995)',\n",
       " '(2006)',\n",
       " '(2006)',\n",
       " '(2005)',\n",
       " '(2013)',\n",
       " '(2004)',\n",
       " '(2002)',\n",
       " '(1979)',\n",
       " '(2009)',\n",
       " '(1983)',\n",
       " '(2012)',\n",
       " '(1960)',\n",
       " '(2009)',\n",
       " '(2006)',\n",
       " '(2007)',\n",
       " '(1957)',\n",
       " '(2002)',\n",
       " '(1983)',\n",
       " '(1988)',\n",
       " '(1998)',\n",
       " '(2012)',\n",
       " '(2004)',\n",
       " '(1999)',\n",
       " '(2003)',\n",
       " '(2008)',\n",
       " '(1999)',\n",
       " '(2003)',\n",
       " '(1982)',\n",
       " '(2013)',\n",
       " '(2012)',\n",
       " '(1975)',\n",
       " '(2007)',\n",
       " '(2003)',\n",
       " '(2003)',\n",
       " '(2008)',\n",
       " '(1978)',\n",
       " '(1976)',\n",
       " '(1965)',\n",
       " '(2013)',\n",
       " '(1975)',\n",
       " '(2013)',\n",
       " '(1968)',\n",
       " '(2008)',\n",
       " '(2004)',\n",
       " '(2013)',\n",
       " '(1951)',\n",
       " '(1955)',\n",
       " '(1998)',\n",
       " '(1998)',\n",
       " '(1989)',\n",
       " '(2008)',\n",
       " '(2000)',\n",
       " '(2003)',\n",
       " '(2005)',\n",
       " '(2007)',\n",
       " '(1972)',\n",
       " '(2007)',\n",
       " '(1987)',\n",
       " '(2008)',\n",
       " '(1998)',\n",
       " '(I) (2005)',\n",
       " '(2011)',\n",
       " '(1990)',\n",
       " '(2010)',\n",
       " '(1988)',\n",
       " '(2003)',\n",
       " '(1973)',\n",
       " '(2005)',\n",
       " '(2007)',\n",
       " '(1957)',\n",
       " '(2008)',\n",
       " '(2011)',\n",
       " '(2009)',\n",
       " '(1995)',\n",
       " '(1977)',\n",
       " '(2011)',\n",
       " '(2004)']"
      ]
     },
     "execution_count": 40,
     "metadata": {},
     "output_type": "execute_result"
    }
   ],
   "source": [
    "year_list"
   ]
  },
  {
   "cell_type": "code",
   "execution_count": 41,
   "id": "10ce7dce",
   "metadata": {},
   "outputs": [
    {
     "data": {
      "text/plain": [
       "100"
      ]
     },
     "execution_count": 41,
     "metadata": {},
     "output_type": "execute_result"
    }
   ],
   "source": [
    "len(year_list)"
   ]
  },
  {
   "cell_type": "code",
   "execution_count": 227,
   "id": "9345d02f",
   "metadata": {},
   "outputs": [],
   "source": [
    "# ratings of the movies\n",
    "\n",
    "ratings = soup2.find_all(\"div\",class_=\"ipl-rating-star small\")\n",
    "\n",
    "#get text from movie ratings web elements\n",
    "\n",
    "ratings_list = [] #empty list\n",
    "\n",
    "for i in ratings:\n",
    "    ratings_list.append(float(i.text))"
   ]
  },
  {
   "cell_type": "code",
   "execution_count": 228,
   "id": "8ab0de6e",
   "metadata": {
    "scrolled": true
   },
   "outputs": [
    {
     "data": {
      "text/plain": [
       "[8.1,\n",
       " 8.4,\n",
       " 8.4,\n",
       " 8.1,\n",
       " 8.2,\n",
       " 8.1,\n",
       " 8.2,\n",
       " 8.1,\n",
       " 8.2,\n",
       " 8.1,\n",
       " 8.1,\n",
       " 8.1,\n",
       " 8.2,\n",
       " 8.2,\n",
       " 8.2,\n",
       " 8.2,\n",
       " 8.1,\n",
       " 8.2,\n",
       " 8.2,\n",
       " 8.3,\n",
       " 8.2,\n",
       " 8.2,\n",
       " 8.2,\n",
       " 8.1,\n",
       " 8.1,\n",
       " 8.1,\n",
       " 8.1,\n",
       " 7.8,\n",
       " 8.5,\n",
       " 8.0,\n",
       " 8.6,\n",
       " 8.0,\n",
       " 8.4,\n",
       " 8.1,\n",
       " 8.2,\n",
       " 8.1,\n",
       " 7.9,\n",
       " 7.9,\n",
       " 8.5,\n",
       " 8.1,\n",
       " 8.4,\n",
       " 8.0,\n",
       " 8.3,\n",
       " 7.8,\n",
       " 7.9,\n",
       " 8.0,\n",
       " 7.9,\n",
       " 7.7,\n",
       " 8.1,\n",
       " 7.8,\n",
       " 8.3,\n",
       " 7.7,\n",
       " 7.8,\n",
       " 8.3,\n",
       " 7.8,\n",
       " 8.1,\n",
       " 7.9,\n",
       " 7.7,\n",
       " 7.8,\n",
       " 8.3,\n",
       " 8.4,\n",
       " 7.6,\n",
       " 8.1,\n",
       " 8.0,\n",
       " 8.1,\n",
       " 7.7,\n",
       " 7.8,\n",
       " 7.8,\n",
       " 7.9,\n",
       " 8.0,\n",
       " 7.7,\n",
       " 7.3,\n",
       " 7.8,\n",
       " 7.8,\n",
       " 8.0,\n",
       " 8.0,\n",
       " 7.4,\n",
       " 7.7,\n",
       " 8.1,\n",
       " 7.6,\n",
       " 7.8,\n",
       " 7.7,\n",
       " 7.9,\n",
       " 7.7,\n",
       " 7.8,\n",
       " 7.7,\n",
       " 8.0,\n",
       " 7.5,\n",
       " 7.8,\n",
       " 7.9,\n",
       " 7.6,\n",
       " 7.6,\n",
       " 8.0,\n",
       " 7.5,\n",
       " 7.6,\n",
       " 7.6,\n",
       " 7.5,\n",
       " 7.7,\n",
       " 7.6,\n",
       " 7.5]"
      ]
     },
     "execution_count": 228,
     "metadata": {},
     "output_type": "execute_result"
    }
   ],
   "source": [
    "ratings_list"
   ]
  },
  {
   "cell_type": "code",
   "execution_count": 231,
   "id": "05993635",
   "metadata": {},
   "outputs": [],
   "source": [
    "# making data frame\n",
    "import pandas as pd\n",
    "df = pd.DataFrame({'Titles':movies_name,'Ratings':ratings_list,'Year of Release':year_list})"
   ]
  },
  {
   "cell_type": "code",
   "execution_count": 230,
   "id": "9ce78c5c",
   "metadata": {},
   "outputs": [
    {
     "data": {
      "text/html": [
       "<div>\n",
       "<style scoped>\n",
       "    .dataframe tbody tr th:only-of-type {\n",
       "        vertical-align: middle;\n",
       "    }\n",
       "\n",
       "    .dataframe tbody tr th {\n",
       "        vertical-align: top;\n",
       "    }\n",
       "\n",
       "    .dataframe thead th {\n",
       "        text-align: right;\n",
       "    }\n",
       "</style>\n",
       "<table border=\"1\" class=\"dataframe\">\n",
       "  <thead>\n",
       "    <tr style=\"text-align: right;\">\n",
       "      <th></th>\n",
       "      <th>Titles</th>\n",
       "      <th>Ratings</th>\n",
       "      <th>Year of Release</th>\n",
       "    </tr>\n",
       "  </thead>\n",
       "  <tbody>\n",
       "    <tr>\n",
       "      <th>0</th>\n",
       "      <td>Rang De Basanti</td>\n",
       "      <td>8.1</td>\n",
       "      <td>(2006)</td>\n",
       "    </tr>\n",
       "    <tr>\n",
       "      <th>1</th>\n",
       "      <td>3 Idiots</td>\n",
       "      <td>8.4</td>\n",
       "      <td>(2009)</td>\n",
       "    </tr>\n",
       "    <tr>\n",
       "      <th>2</th>\n",
       "      <td>Taare Zameen Par</td>\n",
       "      <td>8.4</td>\n",
       "      <td>(2007)</td>\n",
       "    </tr>\n",
       "    <tr>\n",
       "      <th>3</th>\n",
       "      <td>Dil Chahta Hai</td>\n",
       "      <td>8.1</td>\n",
       "      <td>(2001)</td>\n",
       "    </tr>\n",
       "    <tr>\n",
       "      <th>4</th>\n",
       "      <td>Swades: We, the People</td>\n",
       "      <td>8.2</td>\n",
       "      <td>(2004)</td>\n",
       "    </tr>\n",
       "    <tr>\n",
       "      <th>...</th>\n",
       "      <td>...</td>\n",
       "      <td>...</td>\n",
       "      <td>...</td>\n",
       "    </tr>\n",
       "    <tr>\n",
       "      <th>95</th>\n",
       "      <td>Wake Up Sid</td>\n",
       "      <td>7.6</td>\n",
       "      <td>(2009)</td>\n",
       "    </tr>\n",
       "    <tr>\n",
       "      <th>96</th>\n",
       "      <td>Rangeela</td>\n",
       "      <td>7.5</td>\n",
       "      <td>(1995)</td>\n",
       "    </tr>\n",
       "    <tr>\n",
       "      <th>97</th>\n",
       "      <td>Shatranj Ke Khilari</td>\n",
       "      <td>7.7</td>\n",
       "      <td>(1977)</td>\n",
       "    </tr>\n",
       "    <tr>\n",
       "      <th>98</th>\n",
       "      <td>Pyaar Ka Punchnama</td>\n",
       "      <td>7.6</td>\n",
       "      <td>(2011)</td>\n",
       "    </tr>\n",
       "    <tr>\n",
       "      <th>99</th>\n",
       "      <td>Ek Hasina Thi</td>\n",
       "      <td>7.5</td>\n",
       "      <td>(2004)</td>\n",
       "    </tr>\n",
       "  </tbody>\n",
       "</table>\n",
       "<p>100 rows × 3 columns</p>\n",
       "</div>"
      ],
      "text/plain": [
       "                    Titles  Ratings Year of Release\n",
       "0          Rang De Basanti      8.1          (2006)\n",
       "1                 3 Idiots      8.4          (2009)\n",
       "2         Taare Zameen Par      8.4          (2007)\n",
       "3           Dil Chahta Hai      8.1          (2001)\n",
       "4   Swades: We, the People      8.2          (2004)\n",
       "..                     ...      ...             ...\n",
       "95             Wake Up Sid      7.6          (2009)\n",
       "96                Rangeela      7.5          (1995)\n",
       "97     Shatranj Ke Khilari      7.7          (1977)\n",
       "98      Pyaar Ka Punchnama      7.6          (2011)\n",
       "99           Ek Hasina Thi      7.5          (2004)\n",
       "\n",
       "[100 rows x 3 columns]"
      ]
     },
     "execution_count": 230,
     "metadata": {},
     "output_type": "execute_result"
    }
   ],
   "source": [
    "df"
   ]
  },
  {
   "cell_type": "markdown",
   "id": "eeb845d8",
   "metadata": {},
   "source": [
    "### Answer 4."
   ]
  },
  {
   "cell_type": "code",
   "execution_count": 71,
   "id": "6c2a69c8",
   "metadata": {},
   "outputs": [],
   "source": [
    "# importing the required libraries\n",
    "from bs4 import BeautifulSoup\n",
    "import requests"
   ]
  },
  {
   "cell_type": "code",
   "execution_count": 72,
   "id": "a7dfbf57",
   "metadata": {},
   "outputs": [],
   "source": [
    "url = \"https://meesho.com/bags-ladies/pl/p7vbp\"\n",
    "\n",
    "page3 = requests.get(url)"
   ]
  },
  {
   "cell_type": "code",
   "execution_count": 73,
   "id": "71fad6d2",
   "metadata": {},
   "outputs": [],
   "source": [
    "# check the page content\n",
    "\n",
    "soup4= BeautifulSoup(page3.content)"
   ]
  },
  {
   "cell_type": "code",
   "execution_count": 258,
   "id": "d764d959",
   "metadata": {},
   "outputs": [],
   "source": [
    "# product name\n",
    "\n",
    "product = soup4.find_all(\"p\",class_=\"Text__StyledText-sc-oo0kvp-0 bWSOET NewProductCard__ProductTitle_Desktop-sc-j0e7tu-4 cQhePS NewProductCard__ProductTitle_Desktop-sc-j0e7tu-4 cQhePS\")\n",
    "\n",
    "#get text from product name elements\n",
    "\n",
    "product_name = [] #empty list\n",
    "\n",
    "for i in product:\n",
    "    product_name.append(i.text)\n"
   ]
  },
  {
   "cell_type": "code",
   "execution_count": 259,
   "id": "d8a9d889",
   "metadata": {},
   "outputs": [
    {
     "data": {
      "text/plain": [
       "['Elegant Fashionable Women Handbags',\n",
       " 'Gorgeous Attractive Women Handbags',\n",
       " 'Classic Fancy Women Handbags',\n",
       " 'Classic Versatile Women Handbags',\n",
       " 'Gorgeous Versatile Women Handbags',\n",
       " 'Trendy Fancy Women Handbags',\n",
       " 'Voguish Classy Women Handbags',\n",
       " 'Elegant Versatile Women Handbags',\n",
       " 'Ravishing Stylish Women Handbags',\n",
       " 'Ravishing Alluring Women Handbags',\n",
       " 'Classic Versatile Women Handbags',\n",
       " 'Elegant Women Handbags',\n",
       " 'Elite Fashionable Women Handbags',\n",
       " 'Voguish Fancy Women Handbags',\n",
       " 'Classic Stylish Women Handbags',\n",
       " 'Elite Versatile Women Handbags',\n",
       " 'Elegant Attractive Women Handbags',\n",
       " 'Classic Versatile Women Handbags',\n",
       " 'Elite Fancy Women Handbags',\n",
       " 'Trendy Fashionable Women Handbags']"
      ]
     },
     "execution_count": 259,
     "metadata": {},
     "output_type": "execute_result"
    }
   ],
   "source": [
    "product_name"
   ]
  },
  {
   "cell_type": "code",
   "execution_count": 262,
   "id": "0398c93a",
   "metadata": {},
   "outputs": [],
   "source": [
    "# price of the product\n",
    "\n",
    "price = soup4.find_all(\"h5\",class_=\"Text__StyledText-sc-oo0kvp-0 hiHdyy\")\n",
    "\n",
    "#get prices from the price element\n",
    "\n",
    "price_list = [] #empty list\n",
    "\n",
    "for i in price:\n",
    "    price_list.append(i.text)"
   ]
  },
  {
   "cell_type": "code",
   "execution_count": 263,
   "id": "4205c864",
   "metadata": {},
   "outputs": [
    {
     "data": {
      "text/plain": [
       "['₹192',\n",
       " '₹342',\n",
       " '₹207',\n",
       " '₹384',\n",
       " '₹234',\n",
       " '₹464',\n",
       " '₹187',\n",
       " '₹234',\n",
       " '₹227',\n",
       " '₹282',\n",
       " '₹214',\n",
       " '₹171',\n",
       " '₹233',\n",
       " '₹137',\n",
       " '₹274',\n",
       " '₹234',\n",
       " '₹200',\n",
       " '₹206',\n",
       " '₹232',\n",
       " '₹210']"
      ]
     },
     "execution_count": 263,
     "metadata": {},
     "output_type": "execute_result"
    }
   ],
   "source": [
    "price_list"
   ]
  },
  {
   "cell_type": "code",
   "execution_count": 265,
   "id": "65d2ca4f",
   "metadata": {},
   "outputs": [],
   "source": [
    "# discount on the products\n",
    "\n",
    "disc = soup4.find_all(\"p\",class_=\"Text__StyledText-sc-oo0kvp-0 fCJVtz NewProductCard__DiscountTextParagraph-sc-j0e7tu-16 kmYsnm NewProductCard__DiscountTextParagraph-sc-j0e7tu-16 kmYsnm\")\n",
    "\n",
    "# get text from disc element\n",
    "\n",
    "discount = [] #empty list\n",
    "\n",
    "for i in disc:\n",
    "    discount.append(i.text)"
   ]
  },
  {
   "cell_type": "code",
   "execution_count": 266,
   "id": "a8a6cd25",
   "metadata": {
    "scrolled": true
   },
   "outputs": [
    {
     "data": {
      "text/plain": [
       "['₹82 discount on 1st order',\n",
       " '₹100 discount on 1st order',\n",
       " '₹88 discount on 1st order',\n",
       " '₹100 discount on 1st order',\n",
       " '₹100 discount on 1st order',\n",
       " '₹100 discount on 1st order',\n",
       " '₹79 discount on 1st order',\n",
       " '₹99 discount on 1st order',\n",
       " '₹96 discount on 1st order',\n",
       " '₹100 discount on 1st order',\n",
       " '₹91 discount on 1st order',\n",
       " '₹72 discount on 1st order',\n",
       " '₹99 discount on 1st order',\n",
       " '₹58 discount on 1st order',\n",
       " '₹100 discount on 1st order',\n",
       " '₹100 discount on 1st order',\n",
       " '₹85 discount on 1st order',\n",
       " '₹87 discount on 1st order',\n",
       " '₹99 discount on 1st order',\n",
       " '₹90 discount on 1st order']"
      ]
     },
     "execution_count": 266,
     "metadata": {},
     "output_type": "execute_result"
    }
   ],
   "source": [
    "discount"
   ]
  },
  {
   "cell_type": "markdown",
   "id": "831bcf40",
   "metadata": {},
   "source": [
    "### Answer 5.(a)"
   ]
  },
  {
   "cell_type": "code",
   "execution_count": 241,
   "id": "3a019c51",
   "metadata": {},
   "outputs": [],
   "source": [
    "# importing the required libraries\n",
    "from bs4 import BeautifulSoup\n",
    "import requests"
   ]
  },
  {
   "cell_type": "code",
   "execution_count": 242,
   "id": "d38a753b",
   "metadata": {},
   "outputs": [],
   "source": [
    "url = \"https://www.icc-cricket.com/rankings/mens/team-rankings/odi\"\n",
    "\n",
    "page4 = requests.get(url)"
   ]
  },
  {
   "cell_type": "code",
   "execution_count": 243,
   "id": "5abfce8c",
   "metadata": {},
   "outputs": [],
   "source": [
    "# check the page content\n",
    "\n",
    "soup5 = BeautifulSoup(page4.content)"
   ]
  },
  {
   "cell_type": "code",
   "execution_count": 244,
   "id": "c04dc027",
   "metadata": {},
   "outputs": [],
   "source": [
    "# top 10 men's ODI teams \n",
    "\n",
    "teams = soup5.find_all(\"span\",class_=\"u-hide-phablet\")\n",
    "\n",
    "# get text from teams element\n",
    "\n",
    "ODI_teams = [] #empty list\n",
    "\n",
    "for i in teams:\n",
    "    ODI_teams.append(i.text)"
   ]
  },
  {
   "cell_type": "code",
   "execution_count": 249,
   "id": "4d370f0f",
   "metadata": {
    "scrolled": true
   },
   "outputs": [
    {
     "data": {
      "text/plain": [
       "['England',\n",
       " 'Australia',\n",
       " 'India',\n",
       " 'South Africa',\n",
       " 'Pakistan',\n",
       " 'Bangladesh',\n",
       " 'West Indies',\n",
       " 'Sri Lanka',\n",
       " 'Afghanistan',\n",
       " 'Netherlands']"
      ]
     },
     "execution_count": 249,
     "metadata": {},
     "output_type": "execute_result"
    }
   ],
   "source": [
    "ODI_teams[1:11]"
   ]
  },
  {
   "cell_type": "code",
   "execution_count": 253,
   "id": "08aa56c9",
   "metadata": {},
   "outputs": [],
   "source": [
    "# ratings of the teams\n",
    "\n",
    "ratings10 = soup5.find_all(\"td\",class_=\"table-body__cell u-text-right rating\")\n",
    "\n",
    "# get top 10 teams rating\n",
    "\n",
    "teams_rating = [] #empty list\n",
    "\n",
    "for i in ratings10:\n",
    "    teams_rating.append(i.text)"
   ]
  },
  {
   "cell_type": "code",
   "execution_count": 254,
   "id": "7eda4cae",
   "metadata": {},
   "outputs": [
    {
     "data": {
      "text/plain": [
       "['119', '116', '113', '98', '93', '91', '84', '83', '62', '48']"
      ]
     },
     "execution_count": 254,
     "metadata": {},
     "output_type": "execute_result"
    }
   ],
   "source": [
    "teams_rating[0:10]"
   ]
  },
  {
   "cell_type": "code",
   "execution_count": 268,
   "id": "63c9854e",
   "metadata": {},
   "outputs": [],
   "source": [
    "# matches and point of the teams\n",
    "\n",
    "matches_p = soup5.find_all(\"td\",class_=\"table-body__cell u-center-text\")\n",
    "\n",
    "# get top 10 teams matches and points\n",
    "\n",
    "teams_matches_and_points = [] #empty list\n",
    "\n",
    "for i in matches_p:\n",
    "    teams_matches_and_points.append(i.text)"
   ]
  },
  {
   "cell_type": "code",
   "execution_count": 269,
   "id": "8bc06e08",
   "metadata": {},
   "outputs": [
    {
     "data": {
      "text/plain": [
       "['32',\n",
       " '3,793',\n",
       " '28',\n",
       " '3,244',\n",
       " '32',\n",
       " '3,624',\n",
       " '25',\n",
       " '2,459',\n",
       " '27',\n",
       " '2,524',\n",
       " '30',\n",
       " '2,740',\n",
       " '30',\n",
       " '2,523',\n",
       " '32',\n",
       " '2,657',\n",
       " '17',\n",
       " '1,054',\n",
       " '7',\n",
       " '336']"
      ]
     },
     "execution_count": 269,
     "metadata": {},
     "output_type": "execute_result"
    }
   ],
   "source": [
    "teams_matches_and_points[0:20]"
   ]
  },
  {
   "cell_type": "markdown",
   "id": "122f70fa",
   "metadata": {},
   "source": [
    "### Answer 5.(b)"
   ]
  },
  {
   "cell_type": "code",
   "execution_count": 272,
   "id": "03311149",
   "metadata": {},
   "outputs": [],
   "source": [
    "# importing the required libraries\n",
    "from bs4 import BeautifulSoup\n",
    "import requests"
   ]
  },
  {
   "cell_type": "code",
   "execution_count": 277,
   "id": "a94ac359",
   "metadata": {},
   "outputs": [],
   "source": [
    "url = \"https://www.icc-cricket.com/rankings/mens/player-rankings/odi\"\n",
    "\n",
    "page5 = requests.get(url)"
   ]
  },
  {
   "cell_type": "code",
   "execution_count": 278,
   "id": "4272c0b8",
   "metadata": {},
   "outputs": [],
   "source": [
    "# check the page content\n",
    "\n",
    "soup6 = BeautifulSoup(page5.content)"
   ]
  },
  {
   "cell_type": "code",
   "execution_count": 301,
   "id": "db92f05e",
   "metadata": {},
   "outputs": [],
   "source": [
    "# top 10 ODI batsmen\n",
    "\n",
    "batsmen = soup6.find_all(\"td\",class_=\"table-body__cell name\")\n",
    "\n",
    "# get top 10 ODI batsmen name\n",
    "\n",
    "batsmen_name = [] #empty list\n",
    "\n",
    "for i in batsmen:\n",
    "        for j in i.find_all(\"a\"):\n",
    "            batsmen_name.append(j.text)"
   ]
  },
  {
   "cell_type": "code",
   "execution_count": 302,
   "id": "3ecbbd08",
   "metadata": {},
   "outputs": [
    {
     "data": {
      "text/plain": [
       "['Virat Kohli',\n",
       " 'Rohit Sharma',\n",
       " 'Ross Taylor',\n",
       " 'Quinton de Kock',\n",
       " 'Aaron Finch',\n",
       " 'Jonny Bairstow',\n",
       " 'David Warner',\n",
       " 'Kane Williamson',\n",
       " 'Rassie van der Dussen',\n",
       " 'Josh Hazlewood']"
      ]
     },
     "execution_count": 302,
     "metadata": {},
     "output_type": "execute_result"
    }
   ],
   "source": [
    "batsmen_name[0:10]"
   ]
  },
  {
   "cell_type": "code",
   "execution_count": 285,
   "id": "660665b9",
   "metadata": {},
   "outputs": [],
   "source": [
    "# team of the batsmen\n",
    "\n",
    "team = soup6.find_all(\"span\",class_=\"table-body__logo-text\")\n",
    "\n",
    "#get team name of the players\n",
    "\n",
    "team_name = [] #empty list\n",
    "\n",
    "for i in team:\n",
    "    team_name.append(i.text)"
   ]
  },
  {
   "cell_type": "code",
   "execution_count": 287,
   "id": "3f8460d4",
   "metadata": {},
   "outputs": [
    {
     "data": {
      "text/plain": [
       "['IND', 'IND', 'NZ', 'SA', 'AUS', 'ENG', 'AUS', 'NZ', 'SA', 'AUS']"
      ]
     },
     "execution_count": 287,
     "metadata": {},
     "output_type": "execute_result"
    }
   ],
   "source": [
    "team_name[0:10]"
   ]
  },
  {
   "cell_type": "code",
   "execution_count": 288,
   "id": "0470953a",
   "metadata": {},
   "outputs": [],
   "source": [
    "# rating of the player\n",
    "\n",
    "rate = soup6.find_all(\"td\",class_=\"table-body__cell u-text-right rating\")\n",
    "\n",
    "# get text from rate element\n",
    "\n",
    "player_rate = [] #empty list\n",
    "\n",
    "for i in rate:\n",
    "    player_rate.append(i.text)"
   ]
  },
  {
   "cell_type": "code",
   "execution_count": 289,
   "id": "c318cf9b",
   "metadata": {},
   "outputs": [
    {
     "data": {
      "text/plain": [
       "['836', '801', '801', '783', '779', '775', '762', '754', '750', '709']"
      ]
     },
     "execution_count": 289,
     "metadata": {},
     "output_type": "execute_result"
    }
   ],
   "source": [
    "player_rate[0:10]"
   ]
  },
  {
   "cell_type": "markdown",
   "id": "675f6ed9",
   "metadata": {},
   "source": [
    "### Answer 5.(c)"
   ]
  },
  {
   "cell_type": "code",
   "execution_count": 307,
   "id": "ce4b28e1",
   "metadata": {},
   "outputs": [],
   "source": [
    "url1 = \"https://www.icc-cricket.com/rankings/mens/player-rankings/odi/bowling\""
   ]
  },
  {
   "cell_type": "code",
   "execution_count": 308,
   "id": "e4c22a26",
   "metadata": {},
   "outputs": [],
   "source": [
    "page6 = requests.get(url1)"
   ]
  },
  {
   "cell_type": "code",
   "execution_count": 309,
   "id": "748d3936",
   "metadata": {},
   "outputs": [],
   "source": [
    "# check the page content\n",
    "\n",
    "soup7 = BeautifulSoup(page6.content)"
   ]
  },
  {
   "cell_type": "code",
   "execution_count": 310,
   "id": "e01424f7",
   "metadata": {},
   "outputs": [],
   "source": [
    "# top 10 ODI bowlers\n",
    "\n",
    "bowlers = soup7.find_all(\"td\",class_=\"table-body__cell rankings-table__name name\")\n",
    "\n",
    "# get bowlers name from bowlers element\n",
    "\n",
    "bowlers_name = [] #empty list\n",
    "\n",
    "for i in bowlers:\n",
    "    for j in i.find_all(\"a\"):\n",
    "        bowlers_name.append(j.text)"
   ]
  },
  {
   "cell_type": "code",
   "execution_count": 311,
   "id": "2a1dd78a",
   "metadata": {},
   "outputs": [
    {
     "data": {
      "text/plain": [
       "['Josh Hazlewood',\n",
       " 'Chris Woakes',\n",
       " 'Mujeeb Ur Rahman',\n",
       " 'Mehedi Hasan',\n",
       " 'Matt Henry',\n",
       " 'Jasprit Bumrah',\n",
       " 'Mitchell Starc',\n",
       " 'Shakib Al Hasan',\n",
       " 'Andy McBrine',\n",
       " 'Mustafizur Rahman']"
      ]
     },
     "execution_count": 311,
     "metadata": {},
     "output_type": "execute_result"
    }
   ],
   "source": [
    "bowlers_name[0:10]"
   ]
  },
  {
   "cell_type": "code",
   "execution_count": 397,
   "id": "20aa5464",
   "metadata": {},
   "outputs": [],
   "source": [
    "# team of the bowlers\n",
    "\n",
    "team_bowl = soup7.find_all(\"span\",class_=\"table-body__logo-text\")\n",
    "\n",
    "#get team name of the players\n",
    "\n",
    "team_bowler = [] #empty list\n",
    "\n",
    "for i in team_bowl:\n",
    "    team_bowler.append(i.text)"
   ]
  },
  {
   "cell_type": "code",
   "execution_count": 398,
   "id": "6dd59448",
   "metadata": {},
   "outputs": [
    {
     "data": {
      "text/plain": [
       "['AUS', 'ENG', 'AFG', 'BAN', 'NZ', 'IND', 'AUS', 'BAN', 'IRE', 'BAN']"
      ]
     },
     "execution_count": 398,
     "metadata": {},
     "output_type": "execute_result"
    }
   ],
   "source": [
    "team_bowler[0:10]"
   ]
  },
  {
   "cell_type": "code",
   "execution_count": 399,
   "id": "0f97118a",
   "metadata": {},
   "outputs": [],
   "source": [
    "# rating of the bowling player\n",
    "\n",
    "rating1 = soup7.find_all(\"td\",class_=\"table-body__cell rating\")\n",
    "\n",
    "# get text from rating1 element\n",
    "\n",
    "bowler_rating = [] #empty list\n",
    "\n",
    "for i in rating1:\n",
    "    bowler_rating.append(i.text)"
   ]
  },
  {
   "cell_type": "code",
   "execution_count": 400,
   "id": "2d1fe71b",
   "metadata": {},
   "outputs": [
    {
     "data": {
      "text/plain": [
       "['709', '700', '697', '692', '691', '689', '652', '650', '646', '640']"
      ]
     },
     "execution_count": 400,
     "metadata": {},
     "output_type": "execute_result"
    }
   ],
   "source": [
    "bowler_rating[0:10]"
   ]
  },
  {
   "cell_type": "markdown",
   "id": "9294d025",
   "metadata": {},
   "source": [
    "### Answer 6.(a)"
   ]
  },
  {
   "cell_type": "code",
   "execution_count": 479,
   "id": "ef600c49",
   "metadata": {},
   "outputs": [],
   "source": [
    "# importing the required libraries\n",
    "from bs4 import BeautifulSoup\n",
    "import requests"
   ]
  },
  {
   "cell_type": "code",
   "execution_count": 480,
   "id": "23ed9db5",
   "metadata": {},
   "outputs": [],
   "source": [
    "url6 = \"https://www.icc-cricket.com/rankings/womens/team-rankings/odi\"\n",
    "\n",
    "page11 = requests.get(url6)"
   ]
  },
  {
   "cell_type": "code",
   "execution_count": 481,
   "id": "29e8dd44",
   "metadata": {},
   "outputs": [],
   "source": [
    "# check the page content\n",
    "\n",
    "soup12 = BeautifulSoup(page11.content)"
   ]
  },
  {
   "cell_type": "code",
   "execution_count": 482,
   "id": "6b98dbc5",
   "metadata": {},
   "outputs": [],
   "source": [
    "# scraping the ODI women's team\n",
    "wteam = soup12.find_all(\"span\",class_=\"u-hide-phablet\")\n",
    "\n",
    "# get text from the wteam element\n",
    "women_team = [] #empty list\n",
    "for i in wteam:\n",
    "    women_team.append(i.text)"
   ]
  },
  {
   "cell_type": "code",
   "execution_count": 485,
   "id": "fb00050b",
   "metadata": {},
   "outputs": [
    {
     "data": {
      "text/plain": [
       "['Australia',\n",
       " 'South Africa',\n",
       " 'England',\n",
       " 'India',\n",
       " 'Bangladesh',\n",
       " 'New Zealand',\n",
       " 'West Indies',\n",
       " 'Pakistan',\n",
       " 'Ireland',\n",
       " 'Sri Lanka']"
      ]
     },
     "execution_count": 485,
     "metadata": {},
     "output_type": "execute_result"
    }
   ],
   "source": [
    "women_team[0:10]"
   ]
  },
  {
   "cell_type": "code",
   "execution_count": 490,
   "id": "511a6e8d",
   "metadata": {},
   "outputs": [],
   "source": [
    "# scraping the matches and points\n",
    "wmatch_point = soup12.find_all(\"td\",class_=\"table-body__cell u-center-text\")\n",
    "\n",
    "# get text from the wmatch element\n",
    "women_match_point = [] #empty list\n",
    "for i in wmatch_point:\n",
    "    women_match_point.append(i.text)"
   ]
  },
  {
   "cell_type": "code",
   "execution_count": 491,
   "id": "b43e1f00",
   "metadata": {},
   "outputs": [
    {
     "data": {
      "text/plain": [
       "['19',\n",
       " '2,307',\n",
       " '18',\n",
       " '2,148',\n",
       " '17',\n",
       " '1,899',\n",
       " '5',\n",
       " '475',\n",
       " '19',\n",
       " '1,668',\n",
       " '19',\n",
       " '1,658',\n",
       " '19',\n",
       " '1,304',\n",
       " '5',\n",
       " '240',\n",
       " '5',\n",
       " '233',\n",
       " '8',\n",
       " '0']"
      ]
     },
     "execution_count": 491,
     "metadata": {},
     "output_type": "execute_result"
    }
   ],
   "source": [
    "women_match"
   ]
  },
  {
   "cell_type": "code",
   "execution_count": 492,
   "id": "faa77dfc",
   "metadata": {},
   "outputs": [],
   "source": [
    "# scraping the ratings\n",
    "wrate = soup12.find_all(\"td\",class_=\"table-body__cell u-text-right rating\")\n",
    "\n",
    "# get text from wrate element\n",
    "women_rating = [] #empty list\n",
    "for i in wrate:\n",
    "    women_rating.append(i.text)"
   ]
  },
  {
   "cell_type": "code",
   "execution_count": 493,
   "id": "73cee9c2",
   "metadata": {},
   "outputs": [
    {
     "data": {
      "text/plain": [
       "['121', '119', '112', '95', '88', '87', '69', '48', '47', '0']"
      ]
     },
     "execution_count": 493,
     "metadata": {},
     "output_type": "execute_result"
    }
   ],
   "source": [
    "women_rating"
   ]
  },
  {
   "cell_type": "markdown",
   "id": "49abe398",
   "metadata": {},
   "source": [
    "### Answer 6.(b)"
   ]
  },
  {
   "cell_type": "code",
   "execution_count": 494,
   "id": "615c7cec",
   "metadata": {},
   "outputs": [],
   "source": [
    "url7 = \"https://www.icc-cricket.com/rankings/womens/player-rankings/odi/batting\"\n",
    "page12 = requests.get(url7)"
   ]
  },
  {
   "cell_type": "code",
   "execution_count": 495,
   "id": "c22edbe9",
   "metadata": {},
   "outputs": [],
   "source": [
    "#check the page content\n",
    "soup13 = BeautifulSoup(page12.content)"
   ]
  },
  {
   "cell_type": "code",
   "execution_count": 498,
   "id": "c8c7c5c5",
   "metadata": {},
   "outputs": [],
   "source": [
    "# scraping the batting player name\n",
    "bat_play = soup13.find_all(\"td\",class_=\"table-body__cell rankings-table__name name\")\n",
    "\n",
    "# get text from the bat_play element\n",
    "bat_play_name = [] #empty list\n",
    "for i in bat_play:\n",
    "    for j in i.find_all(\"a\"):\n",
    "        bat_play_name.append(j.text)"
   ]
  },
  {
   "cell_type": "code",
   "execution_count": 499,
   "id": "429ede4a",
   "metadata": {},
   "outputs": [
    {
     "data": {
      "text/plain": [
       "['Mithali Raj',\n",
       " 'Lizelle Lee',\n",
       " 'Tammy Beaumont',\n",
       " 'Amy Satterthwaite',\n",
       " 'Smriti Mandhana',\n",
       " 'Meg Lanning',\n",
       " 'Beth Mooney',\n",
       " 'Heather Knight',\n",
       " 'Rachael Haynes',\n",
       " 'Stafanie Taylor']"
      ]
     },
     "execution_count": 499,
     "metadata": {},
     "output_type": "execute_result"
    }
   ],
   "source": [
    "bat_play_name[0:10]"
   ]
  },
  {
   "cell_type": "code",
   "execution_count": 500,
   "id": "6cad6df1",
   "metadata": {},
   "outputs": [],
   "source": [
    "# scraping the batting player team\n",
    "play_team = soup13.find_all(\"span\",class_=\"table-body__logo-text\")\n",
    "\n",
    "# get text from the play_team element\n",
    "batting_team = [] #empty list\n",
    "for i in play_team:\n",
    "    batting_team.append(i.text)"
   ]
  },
  {
   "cell_type": "code",
   "execution_count": 502,
   "id": "d77ae9ae",
   "metadata": {},
   "outputs": [
    {
     "data": {
      "text/plain": [
       "['IND', 'SA', 'ENG', 'NZ', 'IND', 'AUS', 'AUS', 'ENG', 'AUS', 'WI']"
      ]
     },
     "execution_count": 502,
     "metadata": {},
     "output_type": "execute_result"
    }
   ],
   "source": [
    "batting_team[0:10]"
   ]
  },
  {
   "cell_type": "code",
   "execution_count": 504,
   "id": "6d182f90",
   "metadata": {},
   "outputs": [
    {
     "data": {
      "text/plain": [
       "['738', '731', '728', '717', '710', '699', '690', '674', '668', '667']"
      ]
     },
     "execution_count": 504,
     "metadata": {},
     "output_type": "execute_result"
    }
   ],
   "source": [
    "# scraping the ratings of the batting player\n",
    "bat_rate = soup13.find_all(\"td\",class_=\"table-body__cell rating\")\n",
    "\n",
    "# get text from the bat_rate element\n",
    "batting_player_rating = [] #empty list\n",
    "for i in bat_rate:\n",
    "    batting_player_rating.append(i.text)\n",
    "batting_player_rating[0:10]"
   ]
  },
  {
   "cell_type": "markdown",
   "id": "2dc58d76",
   "metadata": {},
   "source": [
    "### Answer 6.(c)"
   ]
  },
  {
   "cell_type": "code",
   "execution_count": 505,
   "id": "32f91d2a",
   "metadata": {},
   "outputs": [],
   "source": [
    "url8 = \"https://www.icc-cricket.com/rankings/womens/player-rankings/odi/all-rounder\"\n",
    "page13 = requests.get(url8)\n",
    "\n",
    "#check the page content\n",
    "soup14 = BeautifulSoup(page13.content)"
   ]
  },
  {
   "cell_type": "code",
   "execution_count": 507,
   "id": "26b28a7d",
   "metadata": {},
   "outputs": [
    {
     "data": {
      "text/plain": [
       "['Ellyse Perry',\n",
       " 'Marizanne Kapp',\n",
       " 'Deepti Sharma',\n",
       " 'Stafanie Taylor',\n",
       " 'Hayley Matthews',\n",
       " 'Ashleigh Gardner',\n",
       " 'Jess Jonassen',\n",
       " 'Katherine Brunt',\n",
       " 'Dane van Niekerk',\n",
       " 'Jhulan Goswami']"
      ]
     },
     "execution_count": 507,
     "metadata": {},
     "output_type": "execute_result"
    }
   ],
   "source": [
    "# scraping the all-rounder women ODI player name\n",
    "all_rounder = soup14.find_all(\"td\",class_=\"table-body__cell rankings-table__name name\")\n",
    "\n",
    "# get text from the all_rounder element\n",
    "women_all_rounder = [] #empty list\n",
    "for i in all_rounder:\n",
    "    for j in i.find_all(\"a\"):\n",
    "        women_all_rounder.append(j.text)\n",
    "women_all_rounder[0:10]"
   ]
  },
  {
   "cell_type": "code",
   "execution_count": 508,
   "id": "68e79cc1",
   "metadata": {},
   "outputs": [
    {
     "data": {
      "text/plain": [
       "['AUS', 'SA', 'IND', 'WI', 'WI', 'AUS', 'AUS', 'ENG', 'SA', 'IND']"
      ]
     },
     "execution_count": 508,
     "metadata": {},
     "output_type": "execute_result"
    }
   ],
   "source": [
    "# scraping the team name of the players\n",
    "all_rounder_team = soup14.find_all(\"span\",class_=\"table-body__logo-text\")\n",
    "\n",
    "# get text from the all_rounder_team element\n",
    "women_all_round_team = [] #empty list\n",
    "for i in all_rounder_team:\n",
    "    women_all_round_team.append(i.text)\n",
    "women_all_round_team[0:10]"
   ]
  },
  {
   "cell_type": "code",
   "execution_count": 509,
   "id": "b00e7868",
   "metadata": {},
   "outputs": [
    {
     "data": {
      "text/plain": [
       "['365', '355', '299', '281', '280', '275', '272', '272', '253', '251']"
      ]
     },
     "execution_count": 509,
     "metadata": {},
     "output_type": "execute_result"
    }
   ],
   "source": [
    "# scraping the ratings of the all rounder players\n",
    "all_ratings = soup14.find_all(\"td\",class_=\"table-body__cell rating\")\n",
    "\n",
    "# get text from the all_ratings element\n",
    "women_all_rounder_ratings = [] #empty list\n",
    "for i in all_ratings:\n",
    "    women_all_rounder_ratings.append(i.text)\n",
    "women_all_rounder_ratings[0:10]"
   ]
  },
  {
   "cell_type": "markdown",
   "id": "a4b956b7",
   "metadata": {},
   "source": [
    "### Answer 7."
   ]
  },
  {
   "cell_type": "code",
   "execution_count": 346,
   "id": "dee39aea",
   "metadata": {},
   "outputs": [],
   "source": [
    "# importing the required libraries\n",
    "from bs4 import BeautifulSoup\n",
    "import requests"
   ]
  },
  {
   "cell_type": "code",
   "execution_count": 347,
   "id": "34183c4d",
   "metadata": {},
   "outputs": [],
   "source": [
    "url2 = \"https://coreyms.com/\"\n",
    "\n",
    "page7 = requests.get(url2)"
   ]
  },
  {
   "cell_type": "code",
   "execution_count": 348,
   "id": "fe58c24b",
   "metadata": {},
   "outputs": [],
   "source": [
    "# check the page content\n",
    "\n",
    "soup8 = BeautifulSoup(page7.content)"
   ]
  },
  {
   "cell_type": "code",
   "execution_count": 349,
   "id": "a42cf5c1",
   "metadata": {},
   "outputs": [],
   "source": [
    "# Scraping the headlines from the page\n",
    "\n",
    "heading = soup8.find_all(\"a\",class_=\"entry-title-link\")\n",
    "\n",
    "#get text from the heading element \n",
    "\n",
    "all_heads = [] #empty list\n",
    "\n",
    "for i in heading:\n",
    "    all_heads.append(i.text)"
   ]
  },
  {
   "cell_type": "code",
   "execution_count": 350,
   "id": "4d08f13a",
   "metadata": {},
   "outputs": [
    {
     "data": {
      "text/plain": [
       "['Python Tutorial: Zip Files – Creating and Extracting Zip Archives',\n",
       " 'Python Data Science Tutorial: Analyzing the 2019 Stack Overflow Developer Survey',\n",
       " 'Python Multiprocessing Tutorial: Run Code in Parallel Using the Multiprocessing Module',\n",
       " 'Python Threading Tutorial: Run Code Concurrently Using the Threading Module',\n",
       " 'Update (2019-09-03)',\n",
       " 'Python Quick Tip: The Difference Between “==” and “is” (Equality vs Identity)',\n",
       " 'Python Tutorial: Calling External Commands Using the Subprocess Module',\n",
       " 'Visual Studio Code (Windows) – Setting up a Python Development Environment and Complete Overview',\n",
       " 'Visual Studio Code (Mac) – Setting up a Python Development Environment and Complete Overview',\n",
       " 'Clarifying the Issues with Mutable Default Arguments']"
      ]
     },
     "execution_count": 350,
     "metadata": {},
     "output_type": "execute_result"
    }
   ],
   "source": [
    "all_heads"
   ]
  },
  {
   "cell_type": "code",
   "execution_count": 351,
   "id": "bc3e0977",
   "metadata": {},
   "outputs": [],
   "source": [
    "# Scraping the time from the page\n",
    "\n",
    "time = soup8.find_all(\"time\",class_=\"entry-time\")\n",
    "\n",
    "#get text from the time element\n",
    "\n",
    "all_time = [] #empty list\n",
    "\n",
    "for i in time:\n",
    "    all_time.append(i.text)"
   ]
  },
  {
   "cell_type": "code",
   "execution_count": 352,
   "id": "1ede5196",
   "metadata": {},
   "outputs": [
    {
     "data": {
      "text/plain": [
       "['November 19, 2019',\n",
       " 'October 17, 2019',\n",
       " 'September 21, 2019',\n",
       " 'September 12, 2019',\n",
       " 'September 3, 2019',\n",
       " 'August 6, 2019',\n",
       " 'July 24, 2019',\n",
       " 'May 1, 2019',\n",
       " 'May 1, 2019',\n",
       " 'April 24, 2019']"
      ]
     },
     "execution_count": 352,
     "metadata": {},
     "output_type": "execute_result"
    }
   ],
   "source": [
    "all_time"
   ]
  },
  {
   "cell_type": "code",
   "execution_count": 357,
   "id": "89234b34",
   "metadata": {},
   "outputs": [],
   "source": [
    "# Scraping the content from the page\n",
    "\n",
    "content = soup8.find_all(\"div\",class_=\"entry-content\")\n",
    "\n",
    "#get text from the content element\n",
    "\n",
    "full_content = [] #empty list\n",
    "\n",
    "for i in content:\n",
    "    for j in i.find_all(\"p\"):\n",
    "        full_content.append(j.text)"
   ]
  },
  {
   "cell_type": "code",
   "execution_count": 358,
   "id": "7132b0f0",
   "metadata": {
    "scrolled": true
   },
   "outputs": [
    {
     "data": {
      "text/plain": [
       "['In this video, we will be learning how to create and extract zip archives. We will start by using the zipfile module, and then we will see how to do this using the shutil module. We will learn how to do this with single files and directories, as well as learning how to use gzip as well. Let’s get started…',\n",
       " 'In this Python Programming video, we will be learning how to download and analyze real-world data from the 2019 Stack Overflow Developer Survey. This is terrific practice for anyone getting into the data science field. We will learn different ways to analyze this data and also some best practices. Let’s get started…',\n",
       " 'In this Python Programming video, we will be learning how to run code in parallel using the multiprocessing module. We will also look at how to process multiple high-resolution images at the same time using a ProcessPoolExecutor from the concurrent.futures module. Let’s get started…',\n",
       " 'In this Python Programming video, we will be learning how to run threads concurrently using the threading module. We will also look at how to download multiple high-resolution images online using a ThreadPoolExecutor from the concurrent.futures module. Let’s get started…',\n",
       " 'Hey everyone. I wanted to give you an update on my videos. I will be releasing videos on threading and multiprocessing within the next week. Thanks so much for your patience. I currently have a temporary recording studio setup at my Airbnb that will allow me to record and edit the threading/multiprocessing videos. I am going to be moving into my new house in 10 days and once I have my recording studio setup then you can expect much faster video releases. I really appreciate how patient everyone has been while I go through this move, especially those of you who are contributing monthly through YouTube ',\n",
       " 'In this Python Programming Tutorial, we will be learning the difference between using “==” and the “is” keyword when doing comparisons. The difference between these is that “==” checks to see if values are equal, and the “is” keyword checks their identity, which means it’s going to check if the values are identical in terms of being the same object in memory. We’ll learn more in the video. Let’s get started…',\n",
       " 'In this Python Programming Tutorial, we will be learning how to run external commands using the subprocess module from the standard library. We will learn how to run commands, capture the output, handle errors, and also how to pipe output into other commands. Let’s get started…',\n",
       " 'In this Python Programming Tutorial, we will be learning how to set up a Python development environment in VSCode on Windows. VSCode is a very nice free editor for writing Python applications and many developers are now switching over to this editor. In this video, we will learn how to install VSCode, get the Python extension installed, how to change Python interpreters, create virtual environments, format/lint our code, how to use Git within VSCode, how to debug our programs, how unit testing works, and more. We have a lot to cover, so let’s go ahead and get started…',\n",
       " 'VSCode on MacOS – https://youtu.be/06I63_p-2A4',\n",
       " 'Timestamps for topics in this tutorial: Installation – 1:13 Python Extension – 5:48 Switching Interpreters – 10:04 Changing Color Themes – 12:35 VSCode Settings – 16:16 Set Default Python – 21:33 Using Virtual Environments – 25:10 IntelliSense – 29:45 Code Formatting – 32:13 Code Linting – 37:06 Code Runner Extension – 39:42 Git Integration – 47:44 Use Different Terminal – 51:07 Debugging – 58:45 Unit Testing – 1:03:25 Zen Mode – 1:09:55',\n",
       " 'In this Python Programming Tutorial, we will be learning how to set up a Python development environment in VSCode on MacOS. VSCode is a very nice free editor for writing Python applications and many developers are now switching over to this editor. In this video, we will learn how to install VSCode, get the Python extension installed, how to change Python interpreters, create virtual environments, format/lint our code, how to use Git within VSCode, how to debug our programs, how unit testing works, and more. We have a lot to cover, so let’s go ahead and get started…',\n",
       " 'VSCode on Windows – https://youtu.be/-nh9rCzPJ20',\n",
       " 'Timestamps for topics in this tutorial: Installation – 1:11 Python Extension – 6:21 Switching Interpreters – 10:16 Changing Color Themes – 13:08 VSCode Settings – 17:12 Set Default Python – 22:24 Using Virtual Environments – 25:52 IntelliSense – 30:28 Code Formatting – 33:08 Code Linting – 38:01 Code Runner Extension – 40:45 Git Integration – 49:05 Debugging – 58:15 Unit Testing – 1:02:38 Zen Mode – 1:10:42 ',\n",
       " 'In this Python Programming Tutorial, we will be clarifying the issues with mutable default arguments. We discussed this in my last video titled “5 Common Python Mistakes and How to Fix Them”, but I received many comments from people who were still confused. So we will be doing a deeper dive to explain exactly what is going on here. Let’s get started…']"
      ]
     },
     "execution_count": 358,
     "metadata": {},
     "output_type": "execute_result"
    }
   ],
   "source": [
    "full_content"
   ]
  },
  {
   "cell_type": "code",
   "execution_count": 382,
   "id": "67d9bad8",
   "metadata": {},
   "outputs": [],
   "source": [
    "# Scraping the video link from the page\n",
    "\n",
    "video = soup8.find_all(\"iframe\",class_=\"youtube-player\")\n",
    "\n",
    "# get the video link from the video element\n",
    "\n",
    "video_link = [] #empty list\n",
    "\n",
    "for i in video:\n",
    "    video_link.append(i['src'])"
   ]
  },
  {
   "cell_type": "code",
   "execution_count": 383,
   "id": "e040f0ff",
   "metadata": {},
   "outputs": [
    {
     "data": {
      "text/plain": [
       "['https://www.youtube.com/embed/z0gguhEmWiY?version=3&rel=1&showsearch=0&showinfo=1&iv_load_policy=1&fs=1&hl=en-US&autohide=2&wmode=transparent',\n",
       " 'https://www.youtube.com/embed/_P7X8tMplsw?version=3&rel=1&showsearch=0&showinfo=1&iv_load_policy=1&fs=1&hl=en-US&autohide=2&wmode=transparent',\n",
       " 'https://www.youtube.com/embed/fKl2JW_qrso?version=3&rel=1&showsearch=0&showinfo=1&iv_load_policy=1&fs=1&hl=en-US&autohide=2&wmode=transparent',\n",
       " 'https://www.youtube.com/embed/IEEhzQoKtQU?version=3&rel=1&showsearch=0&showinfo=1&iv_load_policy=1&fs=1&hl=en-US&autohide=2&wmode=transparent',\n",
       " 'https://www.youtube.com/embed/mO_dS3rXDIs?version=3&rel=1&showsearch=0&showinfo=1&iv_load_policy=1&fs=1&hl=en-US&autohide=2&wmode=transparent',\n",
       " 'https://www.youtube.com/embed/2Fp1N6dof0Y?version=3&rel=1&showsearch=0&showinfo=1&iv_load_policy=1&fs=1&hl=en-US&autohide=2&wmode=transparent',\n",
       " 'https://www.youtube.com/embed/-nh9rCzPJ20?version=3&rel=1&showsearch=0&showinfo=1&iv_load_policy=1&fs=1&hl=en-US&autohide=2&wmode=transparent',\n",
       " 'https://www.youtube.com/embed/06I63_p-2A4?version=3&rel=1&showsearch=0&showinfo=1&iv_load_policy=1&fs=1&hl=en-US&autohide=2&wmode=transparent',\n",
       " 'https://www.youtube.com/embed/_JGmemuINww?version=3&rel=1&showsearch=0&showinfo=1&iv_load_policy=1&fs=1&hl=en-US&autohide=2&wmode=transparent']"
      ]
     },
     "execution_count": 383,
     "metadata": {},
     "output_type": "execute_result"
    }
   ],
   "source": [
    "video_link"
   ]
  },
  {
   "cell_type": "markdown",
   "id": "ca22f001",
   "metadata": {},
   "source": [
    "### Answer 8."
   ]
  },
  {
   "cell_type": "code",
   "execution_count": 384,
   "id": "af922482",
   "metadata": {},
   "outputs": [],
   "source": [
    "# importing the required libraries\n",
    "from bs4 import BeautifulSoup\n",
    "import requests"
   ]
  },
  {
   "cell_type": "code",
   "execution_count": 386,
   "id": "e0134b13",
   "metadata": {},
   "outputs": [],
   "source": [
    "url3 = \"https://www.nobroker.in/property/sale/bangalore/multiple?searchParam=W3sibGF0IjoxMi45NzgzNjkyLCJsb24iOjc3LjY0MDgzNTYsInBsYWNlSWQiOiJDaElKa1FOM0dLUVdyanNSTmhCUUpyaEdEN1UiLCJwbGFjZU5hbWUiOiJJbmRpcmFuYWdhciJ9LHsibGF0IjoxMi45MzA3NzM1LCJsb24iOjc3LjU4MzgzMDIsInBsYWNlSWQiOiJDaElKMmRkbFo1Z1ZyanNSaDFCT0FhZi1vcnMiLCJwbGFjZU5hbWUiOiJKYXlhbmFnYXIifSx7ImxhdCI6MTIuOTk4MTczMiwibG9uIjo3Ny41NTMwNDQ1OTk5OTk5OSwicGxhY2VJZCI6IkNoSUp4Zlc0RFBNOXJqc1JLc05URy01cF9RUSIsInBsYWNlTmFtZSI6IlJhamFqaW5hZ2FyIn1d&radius=2.0&city=bangalore&locality=Indiranagar,&locality=Jayanagar,&locality=Rajajinagar\"\n",
    "page8 = requests.get(url3)"
   ]
  },
  {
   "cell_type": "code",
   "execution_count": 387,
   "id": "e4a03095",
   "metadata": {},
   "outputs": [],
   "source": [
    "# check the page content\n",
    "\n",
    "soup9 = BeautifulSoup(page8.content)"
   ]
  },
  {
   "cell_type": "code",
   "execution_count": 389,
   "id": "7b87ed21",
   "metadata": {},
   "outputs": [],
   "source": [
    "# Scraping the title\n",
    "titles = soup9.find_all(\"span\",class_=\"overflow-hidden overflow-ellipsis whitespace-nowrap max-w-80pe po:max-w-full\")\n",
    "\n",
    "#get text from titles element\n",
    "title_heads = [] #empty list\n",
    "for i in titles:\n",
    "    title_heads.append(i.text)"
   ]
  },
  {
   "cell_type": "code",
   "execution_count": 390,
   "id": "409125d4",
   "metadata": {
    "scrolled": true
   },
   "outputs": [
    {
     "data": {
      "text/plain": [
       "['3 BHK Apartment  For Sale  In Adarsh Court Apartment In Jayanagar',\n",
       " '4+ BHK In Independent House  For Sale  In Jayanagar',\n",
       " '3 BHK Flat  For Sale  In Beverly Apartments In Hal 2nd Stage, Indiranagar',\n",
       " '3 BHK Flat  For Sale  In Hal 2nd Stage,indiranagar  ',\n",
       " '2 BHK Flat  For Sale  In Lakshmi Nivas Apartments In Srirampuram ',\n",
       " '2 BHK In Independent House  For Sale  In Jayanagar',\n",
       " '2 BHK Flat  For Sale  In Aishwaryam Ranga In Gayatrinagar, Rajaji Nagar',\n",
       " '2 BHK Flat  For Sale  In Aishwaryam Gokula In Triveni Digital Color Lab',\n",
       " '3 BHK Flat  For Sale  In Shanti Park Apartments In Jayanagara 9th Block, Jayanagar',\n",
       " '2 BHK Flat  For Sale  In Shree Enclave  In Jayanagar',\n",
       " '4 BHK Flat  For Sale  In Golfridge In Indira Nagar',\n",
       " '4 BHK In Independent House  For Sale  In Jayanagar',\n",
       " '4+ BHK In Independent House  For Sale  In Rajajinaga ',\n",
       " '3 BHK Flat  For Sale  In Livintique Residence In Indiranagar',\n",
       " '3 BHK Flat  For Sale  In Total Environment Life Is Beautiful, Jayanagar In Jayanagar',\n",
       " '4+ BHK Flat  For Sale  In Nagapura',\n",
       " '3 BHK Apartment  For Sale  In Ashiana Gardens Apartments In Indiranagar',\n",
       " '3 BHK Flat  For Sale  In Mantri Gardens Apartment In Jayanagar',\n",
       " '1 BHK Flat  For Sale  In Rajajinagar In Rajaji Nagar',\n",
       " '4 BHK Flat  For Sale  In Rrbc Piccassso In Jayanagar',\n",
       " '3 BHK Flat  For Sale  In Rrbc Piccassso In Jayanagar',\n",
       " '4+ BHK In Independent House  For Sale  In Rajaji Nagar',\n",
       " '3 BHK Flat  For Sale  In Vaishali Residency In Indiranagar',\n",
       " '4 BHK Flat  For Sale  In Phoenix  One Bangalore West In Rajajinagar',\n",
       " '2 BHK Flat  For Sale  In Apartment  In  Basaveshwar Nagar,']"
      ]
     },
     "execution_count": 390,
     "metadata": {},
     "output_type": "execute_result"
    }
   ],
   "source": [
    "title_heads"
   ]
  },
  {
   "cell_type": "code",
   "execution_count": 391,
   "id": "a497cc46",
   "metadata": {},
   "outputs": [],
   "source": [
    "# Scraping the location of houses\n",
    "loc = soup9.find_all(\"div\",class_=\"mt-0.5p overflow-hidden overflow-ellipsis whitespace-nowrap max-w-70 text-gray-light leading-4 po:mb-0 po:max-w-95\")\n",
    "\n",
    "# get text from loc element\n",
    "all_loc = [] #empty list\n",
    "for i in loc:\n",
    "    all_loc.append(i.text)"
   ]
  },
  {
   "cell_type": "code",
   "execution_count": 392,
   "id": "cbb867d6",
   "metadata": {
    "scrolled": true
   },
   "outputs": [
    {
     "data": {
      "text/plain": [
       "['Adarsh Court Apartment\\xa0 Adarsh Court Apartment, 8th Cross Rd, 7th Block, Jayanagar, Bengaluru, Karnataka 560070, India',\n",
       " 'Independent House, 100ft Road, Ashoka Pillar Rd near Girias Jayanagar Branch',\n",
       " 'Road next to Manyavar showroom',\n",
       " 'Standalone building, 16th F main, Hal 2nd stage indrananagr blore ',\n",
       " 'behind Vishnupriya Towers,Mahakavi Kuvempu Road,  near srirampuram metro station  Karnataka Bank',\n",
       " 'Independent House, Jayanagara 9th Block, near Ragigudda Sri Prasanna Anjaneyaswamy Temple',\n",
       " 'Near gayatrinagarpostoffice',\n",
       " '1st main govindraja naagar blore 560040',\n",
       " 'Shanti Park Apartments',\n",
       " 'jayanagar Near Mahalakshmi Temple/Rajalakshmi Chou',\n",
       " 'embassy golf link road',\n",
       " 'Independent House, 47th Cross Rd, 8th Block, 1st Phase, Near Maha Lakshmi Temple and Sir M Vishweshwaraiah Cooperative Bank Limited',\n",
       " 'Independent House, 6th Cross Rd, 2nd Block  near  SMC Enclave ',\n",
       " '100 Feet Rd near Barbeque Nation',\n",
       " '30th Cross Rd, 4th T Block , Jayanagar, Bengaluru, Karnataka 560041, India',\n",
       " 'Standalone Building, Bovipalya near Mahalakshmi Metro Station',\n",
       " 'Ashiana Gardens Apartments\\xa0 4, Sri Rama Temple Rd, Channakesahava Nagar, HAL 2nd Stage, Doopanahalli, Indiranagar, Bengaluru, Karnataka 560008, India',\n",
       " 'Mantri Gardens Apartment, Jayanagar 1st Block, Madhavan Park,, Bengaluru, Karnataka, 1st Block, Jaya Nagar East, Jayanagar, Bengaluru, Karnataka 560011, India',\n",
       " '27th cross 2nd block rajajinagar,Behind Navrang park',\n",
       " 'Municipal No.152, 18th main road, beside Sai Baba Temple, Jayanagara 9th Block, Jayanagar, Bengaluru, Karnataka 560056, India',\n",
       " 'Municipal No.152, 18th main road, beside Sai Baba Temple, Jayanagara 9th Block, Jayanagar, Bengaluru, Karnataka 560056, India',\n",
       " 'Independent House, 72 Cross, 12th Main Rd, RPA College, near chaitanya school ',\n",
       " 'Vaishali Residency, HAL 2nd Stage, Indiranagar, Bengaluru, Karnataka 560008, India',\n",
       " 'Dr Rajkumar Rd, opposite Sheraton Hotel, Rajajinagar',\n",
       " ' 1, 6th Cross Rd, Manjunath Nagar, Basaveshwar Nagar,,Near Girias']"
      ]
     },
     "execution_count": 392,
     "metadata": {},
     "output_type": "execute_result"
    }
   ],
   "source": [
    "all_loc"
   ]
  },
  {
   "cell_type": "code",
   "execution_count": 403,
   "id": "b3054ff1",
   "metadata": {},
   "outputs": [],
   "source": [
    "# Scraping the area and EMI of the house\n",
    "area_EMI = soup9.find_all(\"div\",class_=\"flex flex-col w-33pe items-center border-r border-r-solid border-card-overview-border-color tp:w-half po:w-full last:border-r-1\")\n",
    "\n",
    "#get text from the area element\n",
    "all_area_EMI = [] #empty list\n",
    "for i in area_EMI:\n",
    "    all_area_EMI.append(i.text)"
   ]
  },
  {
   "cell_type": "code",
   "execution_count": 404,
   "id": "a40ef604",
   "metadata": {
    "scrolled": true
   },
   "outputs": [
    {
     "data": {
      "text/plain": [
       "['1,990 sqftBuiltup',\n",
       " '₹2.01 Lacs/MonthEstimated EMI',\n",
       " '2,195 sqftBuiltup',\n",
       " '₹2.96 Lacs/MonthEstimated EMI',\n",
       " '1,780 sqftBuiltup',\n",
       " '₹85,971/MonthEstimated EMI',\n",
       " '2,200 sqftBuiltup',\n",
       " '₹2.29 Lacs/MonthEstimated EMI',\n",
       " '1,255 sqftBuiltup',\n",
       " '₹56,741/MonthEstimated EMI',\n",
       " '925 sqftBuiltup',\n",
       " '₹1.15 Lacs/MonthEstimated EMI',\n",
       " '1,150 sqftBuiltup',\n",
       " '₹53,302/MonthEstimated EMI',\n",
       " '1,209 sqftBuiltup',\n",
       " '₹45,851/MonthEstimated EMI',\n",
       " '1,420 sqftBuiltup',\n",
       " '₹71,643/MonthEstimated EMI',\n",
       " '1,200 sqftBuiltup',\n",
       " '₹74,508/MonthEstimated EMI',\n",
       " '2,750 sqftBuiltup',\n",
       " '₹1.63 Lacs/MonthEstimated EMI',\n",
       " '3,700 sqftBuiltup',\n",
       " '₹6.02 Lacs/MonthEstimated EMI',\n",
       " '2,240 sqftBuiltup',\n",
       " '₹83,679/MonthEstimated EMI',\n",
       " '2,450 sqftBuiltup',\n",
       " '₹2.01 Lacs/MonthEstimated EMI',\n",
       " '2,628 sqftBuiltup',\n",
       " '₹1.72 Lacs/MonthEstimated EMI',\n",
       " '850 sqftBuiltup',\n",
       " '₹68,777/MonthEstimated EMI',\n",
       " '1,780 sqftBuiltup',\n",
       " '₹84,825/MonthEstimated EMI',\n",
       " '1,485 sqftBuiltup',\n",
       " '₹85,971/MonthEstimated EMI',\n",
       " '650 sqftBuiltup',\n",
       " '₹28,657/MonthEstimated EMI',\n",
       " '4,859 sqftBuiltup',\n",
       " '₹3.91 Lacs/MonthEstimated EMI',\n",
       " '2,037 sqftBuiltup',\n",
       " '₹1.69 Lacs/MonthEstimated EMI',\n",
       " '1,350 sqftBuiltup',\n",
       " '₹1.96 Lacs/MonthEstimated EMI',\n",
       " '1,300 sqftBuiltup',\n",
       " '₹65,911/MonthEstimated EMI',\n",
       " '2,901 sqftBuiltup',\n",
       " '₹2.72 Lacs/MonthEstimated EMI',\n",
       " '1,100 sqftBuiltup',\n",
       " '₹31,522/MonthEstimated EMI']"
      ]
     },
     "execution_count": 404,
     "metadata": {},
     "output_type": "execute_result"
    }
   ],
   "source": [
    "all_area"
   ]
  },
  {
   "cell_type": "code",
   "execution_count": 405,
   "id": "a3016663",
   "metadata": {},
   "outputs": [],
   "source": [
    "#Scraping the price of the house\n",
    "pricing = soup9.find_all(\"div\",class_=\"flex flex-col w-33pe items-center bo tp:w-half po:w-full border-r-0\")\n",
    "\n",
    "#get text from the pricing element\n",
    "all_pricing = [] #empty list\n",
    "for i in pricing:\n",
    "    all_pricing.append(i.text)"
   ]
  },
  {
   "cell_type": "code",
   "execution_count": 406,
   "id": "7ca798db",
   "metadata": {},
   "outputs": [
    {
     "data": {
      "text/plain": [
       "['₹3.5 Crores₹17,588 per sq.ft.',\n",
       " '₹5.16 Crores₹23,508 per sq.ft.',\n",
       " '₹1.5 Crores₹8,427 per sq.ft.',\n",
       " '₹4 Crores₹18,182 per sq.ft.',\n",
       " '₹99 Lacs₹7,888 per sq.ft.',\n",
       " '₹2 Crores₹21,622 per sq.ft.',\n",
       " '₹93 Lacs₹8,087 per sq.ft.',\n",
       " '₹80 Lacs₹6,617 per sq.ft.',\n",
       " '₹1.25 Crores₹8,803 per sq.ft.',\n",
       " '₹1.3 Crores₹10,833 per sq.ft.',\n",
       " '₹2.85 Crores₹10,364 per sq.ft.',\n",
       " '₹10.5 Crores₹28,378 per sq.ft.',\n",
       " '₹1.46 Crores₹6,518 per sq.ft.',\n",
       " '₹3.5 Crores₹14,286 per sq.ft.',\n",
       " '₹3 Crores₹11,416 per sq.ft.',\n",
       " '₹1.2 Crores₹14,118 per sq.ft.',\n",
       " '₹1.48 Crores₹8,315 per sq.ft.',\n",
       " '₹1.5 Crores₹10,101 per sq.ft.',\n",
       " '₹50 Lacs₹7,692 per sq.ft.',\n",
       " '₹6.83 Crores₹14,056 per sq.ft.',\n",
       " '₹2.94 Crores₹14,433 per sq.ft.',\n",
       " '₹3.42 Crores₹25,324 per sq.ft.',\n",
       " '₹1.15 Crores₹8,846 per sq.ft.',\n",
       " '₹4.75 Crores₹16,374 per sq.ft.',\n",
       " '₹55 Lacs₹5,000 per sq.ft.']"
      ]
     },
     "execution_count": 406,
     "metadata": {},
     "output_type": "execute_result"
    }
   ],
   "source": [
    "all_pricing"
   ]
  },
  {
   "cell_type": "markdown",
   "id": "885fdfca",
   "metadata": {},
   "source": [
    "### Answer 9.(i)"
   ]
  },
  {
   "cell_type": "code",
   "execution_count": 407,
   "id": "a127f7a4",
   "metadata": {},
   "outputs": [],
   "source": [
    "# importing the required libraries\n",
    "from bs4 import BeautifulSoup\n",
    "import requests"
   ]
  },
  {
   "cell_type": "code",
   "execution_count": 408,
   "id": "b42ae9bc",
   "metadata": {},
   "outputs": [],
   "source": [
    "url4 = \"https://www.dineout.co.in/delhi-restaurants/buffet-special\"\n",
    "page9 = requests.get(url4)"
   ]
  },
  {
   "cell_type": "code",
   "execution_count": 409,
   "id": "f109181d",
   "metadata": {},
   "outputs": [],
   "source": [
    "# check the page content\n",
    "\n",
    "soup10 = BeautifulSoup(page9.content)"
   ]
  },
  {
   "cell_type": "code",
   "execution_count": 410,
   "id": "acc06a1e",
   "metadata": {},
   "outputs": [],
   "source": [
    "# Scraping the restaurant name\n",
    "rest = soup10.find_all(\"a\",class_=\"restnt-name ellipsis\")\n",
    "\n",
    "# get text from the rest element\n",
    "rest_name = [] #empty list\n",
    "for i in rest:\n",
    "    rest_name.append(i.text)"
   ]
  },
  {
   "cell_type": "code",
   "execution_count": 411,
   "id": "ff315b59",
   "metadata": {},
   "outputs": [
    {
     "data": {
      "text/plain": [
       "['Castle Barbeque',\n",
       " 'Jungle Jamboree',\n",
       " 'Castle Barbeque',\n",
       " 'Cafe Knosh',\n",
       " 'The Barbeque Company',\n",
       " 'India Grill',\n",
       " 'Delhi Barbeque',\n",
       " 'The Monarch - Bar Be Que Village',\n",
       " 'World Cafe',\n",
       " 'Indian Grill Room',\n",
       " 'Mad 4 Bar B Que',\n",
       " 'Barbeque 29',\n",
       " 'Glasshouse']"
      ]
     },
     "execution_count": 411,
     "metadata": {},
     "output_type": "execute_result"
    }
   ],
   "source": [
    "rest_name"
   ]
  },
  {
   "cell_type": "markdown",
   "id": "32f6b13d",
   "metadata": {},
   "source": [
    "### Answer 9.(ii)"
   ]
  },
  {
   "cell_type": "code",
   "execution_count": 412,
   "id": "97956292",
   "metadata": {},
   "outputs": [],
   "source": [
    "# Scraping the cuisine \n",
    "cuisine = soup10.find_all(\"span\",class_=\"double-line-ellipsis\")\n",
    "\n",
    "#get text from the cuisine element\n",
    "all_cuisine = [] #empty list\n",
    "for i in cuisine:\n",
    "    for j in i.find_all(\"a\"):\n",
    "        all_cuisine.append(j.text)"
   ]
  },
  {
   "cell_type": "code",
   "execution_count": 413,
   "id": "378c1a2b",
   "metadata": {
    "scrolled": true
   },
   "outputs": [
    {
     "data": {
      "text/plain": [
       "['North Indian',\n",
       " 'Chinese',\n",
       " 'Barbecue',\n",
       " 'North Indian',\n",
       " 'Asian',\n",
       " 'Italian',\n",
       " 'Chinese',\n",
       " 'North Indian',\n",
       " 'Mughlai',\n",
       " 'Multi-Cuisine',\n",
       " 'North Indian',\n",
       " 'Italian',\n",
       " 'Continental',\n",
       " 'Mediterranean',\n",
       " 'North Indian',\n",
       " 'Barbecue',\n",
       " 'Chinese',\n",
       " 'Mughlai',\n",
       " 'North Indian',\n",
       " 'Italian',\n",
       " 'Oriental ',\n",
       " 'Barbecue',\n",
       " 'North Indian',\n",
       " 'North Indian',\n",
       " 'Chinese',\n",
       " 'Fast Food',\n",
       " 'North Indian',\n",
       " 'Chinese',\n",
       " 'Continental',\n",
       " 'North Indian',\n",
       " 'Barbecue',\n",
       " 'Mughlai',\n",
       " 'North Indian',\n",
       " 'Mughlai',\n",
       " 'North Indian',\n",
       " 'Chinese',\n",
       " 'Barbecue',\n",
       " 'European',\n",
       " 'Indian Cuisine',\n",
       " 'Italian',\n",
       " 'Asian',\n",
       " 'Continental']"
      ]
     },
     "execution_count": 413,
     "metadata": {},
     "output_type": "execute_result"
    }
   ],
   "source": [
    "all_cuisine"
   ]
  },
  {
   "cell_type": "code",
   "execution_count": 414,
   "id": "f7754777",
   "metadata": {},
   "outputs": [
    {
     "data": {
      "text/plain": [
       "42"
      ]
     },
     "execution_count": 414,
     "metadata": {},
     "output_type": "execute_result"
    }
   ],
   "source": [
    "len(all_cuisine)"
   ]
  },
  {
   "cell_type": "markdown",
   "id": "021d378d",
   "metadata": {},
   "source": [
    "### Answer 9.(iii)"
   ]
  },
  {
   "cell_type": "code",
   "execution_count": 415,
   "id": "4ecd8599",
   "metadata": {},
   "outputs": [],
   "source": [
    "#scraping location of the restaurant\n",
    "locate = soup10.find_all(\"div\",class_=\"restnt-loc ellipsis\")\n",
    "\n",
    "#get text from the locate element\n",
    "all_locate = [] #empty list\n",
    "for i in locate:\n",
    "    all_locate.append(i.text)"
   ]
  },
  {
   "cell_type": "code",
   "execution_count": 416,
   "id": "4caaaeb7",
   "metadata": {},
   "outputs": [
    {
     "data": {
      "text/plain": [
       "['Connaught Place, Central Delhi',\n",
       " '3CS Mall,Lajpat Nagar - 3, South Delhi',\n",
       " 'Pacific Mall,Tagore Garden, West Delhi',\n",
       " 'The Leela Ambience Convention Hotel,Shahdara, East Delhi',\n",
       " 'Gardens Galleria,Sector 38A, Noida',\n",
       " 'Hilton Garden Inn,Saket, South Delhi',\n",
       " 'Taurus Sarovar Portico,Mahipalpur, South Delhi',\n",
       " 'Indirapuram Habitat Centre,Indirapuram, Ghaziabad',\n",
       " 'Vibe by The Lalit Traveller,Sector 35, Faridabad',\n",
       " 'Suncity Business Tower,Golf Course Road, Gurgaon',\n",
       " 'Sector 29, Faridabad',\n",
       " 'NIT, Faridabad',\n",
       " 'DoubleTree By Hilton Gurugram Baani Square,Sector 50, Gurgaon']"
      ]
     },
     "execution_count": 416,
     "metadata": {},
     "output_type": "execute_result"
    }
   ],
   "source": [
    "all_locate"
   ]
  },
  {
   "cell_type": "markdown",
   "id": "00d246c2",
   "metadata": {},
   "source": [
    "### Answer 9.(iv)"
   ]
  },
  {
   "cell_type": "code",
   "execution_count": 417,
   "id": "987b1e7d",
   "metadata": {},
   "outputs": [],
   "source": [
    "# Scraping the ratings of the restaurant\n",
    "rest_rating = soup10.find_all(\"div\",class_=\"restnt-rating rating-4\")\n",
    "\n",
    "# get text from the rest_rating element\n",
    "all_rest_rating = [] #empty list\n",
    "for i in rest_rating:\n",
    "    all_rest_rating.append(i.text)"
   ]
  },
  {
   "cell_type": "code",
   "execution_count": 418,
   "id": "a050774e",
   "metadata": {},
   "outputs": [
    {
     "data": {
      "text/plain": [
       "['3.5',\n",
       " '3.9',\n",
       " '3.9',\n",
       " '4.3',\n",
       " '4',\n",
       " '3.9',\n",
       " '3.7',\n",
       " '3.9',\n",
       " '4.2',\n",
       " '4.3',\n",
       " '3.8',\n",
       " '4.3',\n",
       " '4.1']"
      ]
     },
     "execution_count": 418,
     "metadata": {},
     "output_type": "execute_result"
    }
   ],
   "source": [
    "all_rest_rating"
   ]
  },
  {
   "cell_type": "markdown",
   "id": "d4764ed8",
   "metadata": {},
   "source": [
    "### Answer 9.(v)"
   ]
  },
  {
   "cell_type": "code",
   "execution_count": 423,
   "id": "4e6b7f8e",
   "metadata": {},
   "outputs": [],
   "source": [
    "# Scraping the image url\n",
    "image = soup10.find_all(\"img\",class_=\"no-img\")\n",
    "\n",
    "# get text from the image element\n",
    "image_url = [] #empty list\n",
    "for i in image:\n",
    "    image_url.append(i['data-src'])"
   ]
  },
  {
   "cell_type": "code",
   "execution_count": 424,
   "id": "18bf3c6c",
   "metadata": {},
   "outputs": [
    {
     "data": {
      "text/plain": [
       "['https://im1.dineout.co.in/images/uploads/restaurant/sharpen/8/k/b/p86792-16062953735fbe1f4d3fb7e.jpg?tr=tr:n-medium',\n",
       " 'https://im1.dineout.co.in/images/uploads/restaurant/sharpen/5/a/k/p59633-16046474755fa4fa33c0e92.jpg?tr=tr:n-medium',\n",
       " 'https://im1.dineout.co.in/images/uploads/restaurant/sharpen/3/j/o/p38113-15959192065f1fcb666130c.jpg?tr=tr:n-medium',\n",
       " 'https://im1.dineout.co.in/images/uploads/restaurant/sharpen/4/j/v/p406-163401663361651d79326d0.jpg?tr=tr:n-medium',\n",
       " 'https://im1.dineout.co.in/images/uploads/restaurant/sharpen/7/q/d/p79307-16051787075fad15532bd7c.jpg?tr=tr:n-medium',\n",
       " 'https://im1.dineout.co.in/images/uploads/restaurant/sharpen/2/v/t/p2687-1482477169585cce712b90f.jpg?tr=tr:n-medium',\n",
       " 'https://im1.dineout.co.in/images/uploads/restaurant/sharpen/5/v/f/p52501-16006856545f68865616659.jpg?tr=tr:n-medium',\n",
       " 'https://im1.dineout.co.in/images/uploads/restaurant/sharpen/3/n/o/p34822-15599107305cfa594a13c24.jpg?tr=tr:n-medium',\n",
       " 'https://im1.dineout.co.in/images/uploads/restaurant/sharpen/1/p/y/p12366-1466935020576fa6ecdc359.jpg?tr=tr:n-medium',\n",
       " 'https://im1.dineout.co.in/images/uploads/restaurant/sharpen/5/y/y/p549-15143767525a438e30b3e19.jpg?tr=tr:n-medium',\n",
       " 'https://im1.dineout.co.in/images/uploads/restaurant/sharpen/4/j/e/p43488-15295778165b2b8158ceeef.jpg?tr=tr:n-medium',\n",
       " 'https://im1.dineout.co.in/images/uploads/restaurant/sharpen/5/w/r/p58842-15624171585d209806d9143.jpg?tr=tr:n-medium',\n",
       " 'https://im1.dineout.co.in/images/uploads/restaurant/sharpen/9/m/f/p9875-16057921085fb6716cc44f8.jpg?tr=tr:n-medium']"
      ]
     },
     "execution_count": 424,
     "metadata": {},
     "output_type": "execute_result"
    }
   ],
   "source": [
    "image_url"
   ]
  },
  {
   "cell_type": "markdown",
   "id": "5afb0eb9",
   "metadata": {},
   "source": [
    "### Answer 10."
   ]
  },
  {
   "cell_type": "code",
   "execution_count": 425,
   "id": "7b11eb43",
   "metadata": {},
   "outputs": [],
   "source": [
    "# importing the required libraries\n",
    "from bs4 import BeautifulSoup\n",
    "import requests"
   ]
  },
  {
   "cell_type": "code",
   "execution_count": 528,
   "id": "efbd9ae5",
   "metadata": {},
   "outputs": [],
   "source": [
    "url5 = \"https://www.bewakoof.com/women-tshirts?ga_q=tshirts\"\n",
    "page10 = requests.get(url5)"
   ]
  },
  {
   "cell_type": "code",
   "execution_count": 529,
   "id": "285cbef7",
   "metadata": {},
   "outputs": [],
   "source": [
    "# check the page content\n",
    "\n",
    "soup11 = BeautifulSoup(page10.content)"
   ]
  },
  {
   "cell_type": "code",
   "execution_count": 532,
   "id": "93455ffd",
   "metadata": {},
   "outputs": [],
   "source": [
    "# scraping the product name from the page\n",
    "prod_n = soup11.find_all(\"div\",class_=\"productCardDetail\")\n",
    "\n",
    "# get text from prod_n element\n",
    "product_names = [] #empty list\n",
    "for i in prod_n:\n",
    "    for j in i.find_all(\"div\"):\n",
    "        for x in j.find_all(\"h3\"):\n",
    "            product_names.append(x.text)"
   ]
  },
  {
   "cell_type": "code",
   "execution_count": 533,
   "id": "26c30820",
   "metadata": {},
   "outputs": [
    {
     "data": {
      "text/plain": [
       "[\"Women's Indigo Printed White T-Shirt\",\n",
       " 'Keep Your Distance Panda Half Sleeve Printed T-shirt',\n",
       " 'Smiley Smelly Half Sleeve T-Shirt',\n",
       " 'Climbing pocket panda Half Sleeve Printed T-shirt',\n",
       " 'Tweety origami (LTL) Half Sleeve Printed T-shirt',\n",
       " \"Memsahab Memsahab Women's Printed White T-shirt\",\n",
       " \"Atma Nirbhar Men's Printed T-shirt\",\n",
       " \"Laila Women's Half Sleeve Printed T-Shirt\",\n",
       " 'Wink New Half Sleeve Printed T-Shirt Yellow',\n",
       " 'Bugs On A Pocket Half Sleeve Printed T-Shirt(LTL)']"
      ]
     },
     "execution_count": 533,
     "metadata": {},
     "output_type": "execute_result"
    }
   ],
   "source": [
    "product_names"
   ]
  },
  {
   "cell_type": "code",
   "execution_count": 542,
   "id": "77f5b8f8",
   "metadata": {},
   "outputs": [],
   "source": [
    "# scraping the product price\n",
    "prod_pr = soup11.find_all(\"span\",class_=\"discountedPriceText\")\n",
    "\n",
    "# get text from the prod_pr element\n",
    "product_prices = [] #empty list\n",
    "for i in prod_pr:\n",
    "    for j in i.find_all(\"b\"):\n",
    "        product_prices.append(i.text)"
   ]
  },
  {
   "cell_type": "code",
   "execution_count": 543,
   "id": "038ac491",
   "metadata": {},
   "outputs": [
    {
     "data": {
      "text/plain": [
       "['₹ 299',\n",
       " '₹ 249',\n",
       " '₹ 299',\n",
       " '₹ 299',\n",
       " '₹ 299',\n",
       " '₹ 299',\n",
       " '₹ 299',\n",
       " '₹ 299',\n",
       " '₹ 299',\n",
       " '₹ 299']"
      ]
     },
     "execution_count": 543,
     "metadata": {},
     "output_type": "execute_result"
    }
   ],
   "source": [
    "product_prices"
   ]
  },
  {
   "cell_type": "code",
   "execution_count": 547,
   "id": "d9da7337",
   "metadata": {},
   "outputs": [],
   "source": [
    "# scraping the image url\n",
    "images = soup11.find_all(\"img\",class_=\"productImgTag\")\n",
    "\n",
    "# get text from the images element\n",
    "images_url = [] #empty list\n",
    "for i in images:\n",
    "    images_url.append(i['src'])"
   ]
  },
  {
   "cell_type": "code",
   "execution_count": 548,
   "id": "573763ef",
   "metadata": {},
   "outputs": [
    {
     "data": {
      "text/plain": [
       "['https://images.bewakoof.com/t320/beautiful-things-half-sleeve-t-shirt-women-s-half-sleeve-printed-t-shirt-325248-1618210210.jpg',\n",
       " 'https://images.bewakoof.com/t320/stay-away-panda-half-sleeve-printed-t-shirt-women-s-half-sleeve-printed-t-shirt-343638-1616404507.jpg',\n",
       " 'https://images.bewakoof.com/t320/smiley-smelly-half-sleeve-printed-t-shirt-women-s-half-sleeve-printed-t-shirt-345159-1617101092.jpg',\n",
       " 'https://images.bewakoof.com/t320/climbing-pocket-panda-women-s-half-sleeve-printed-t-shirt-354919-1621408489.jpg',\n",
       " 'https://images.bewakoof.com/t320/tweety-origami-ltl-women-s-half-sleeve-printed-t-shirt-354920-1621408532.jpg',\n",
       " 'https://images.bewakoof.com/t320/memsahab-women-s-half-sleeve-printed-t-shirt-344051-1617388539.jpg',\n",
       " 'https://images.bewakoof.com/t320/atma-nirbhar-women-s-half-sleeve-printed-t-shirt-344077-1617387434.gif',\n",
       " 'https://images.bewakoof.com/t320/laila-women-s-half-sleeve-printed-t-shirt-344079-1617388143.jpg',\n",
       " 'https://images.bewakoof.com/t320/wink-new-half-sleeve-printed-t-shirt-yellow-women-s-half-sleeve-printed-t-shirt-360409-1622553339.jpg',\n",
       " 'https://images.bewakoof.com/t320/bugs-on-a-pocket-half-sleeve-printed-t-shirt-ltl-women-s-half-sleeve-printed-t-shirt-360415-1623825483.jpg']"
      ]
     },
     "execution_count": 548,
     "metadata": {},
     "output_type": "execute_result"
    }
   ],
   "source": [
    "images_url"
   ]
  },
  {
   "cell_type": "code",
   "execution_count": null,
   "id": "cf02a9f8",
   "metadata": {},
   "outputs": [],
   "source": []
  }
 ],
 "metadata": {
  "kernelspec": {
   "display_name": "Python 3",
   "language": "python",
   "name": "python3"
  },
  "language_info": {
   "codemirror_mode": {
    "name": "ipython",
    "version": 3
   },
   "file_extension": ".py",
   "mimetype": "text/x-python",
   "name": "python",
   "nbconvert_exporter": "python",
   "pygments_lexer": "ipython3",
   "version": "3.8.8"
  }
 },
 "nbformat": 4,
 "nbformat_minor": 5
}
